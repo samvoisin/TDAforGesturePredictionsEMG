{
 "cells": [
  {
   "cell_type": "code",
   "execution_count": 1,
   "metadata": {},
   "outputs": [],
   "source": [
    "import numpy as np\n",
    "import matplotlib.pyplot as plt\n",
    "\n",
    "from data_cube import DataCube\n",
    "from snf import SNF"
   ]
  },
  {
   "cell_type": "code",
   "execution_count": 2,
   "metadata": {},
   "outputs": [
    {
     "name": "stdout",
     "output_type": "stream",
     "text": [
      "CPU times: user 14.8 s, sys: 475 ms, total: 15.2 s\n",
      "Wall time: 15.8 s\n"
     ]
    }
   ],
   "source": [
    "%%time\n",
    "\n",
    "dc = DataCube(\n",
    "    subjects=\"all\",\n",
    "    gestures=[\"1\", \"2\", \"3\", \"4\"],\n",
    "    channels=[\"2\", \"4\", \"5\", \"6\", \"8\"],\n",
    "    data_grp=\"parsed\"\n",
    ")\n",
    "dc.load_data()"
   ]
  },
  {
   "cell_type": "code",
   "execution_count": 3,
   "metadata": {},
   "outputs": [
    {
     "name": "stdout",
     "output_type": "stream",
     "text": [
      "CPU times: user 22.4 s, sys: 144 ms, total: 22.5 s\n",
      "Wall time: 22.9 s\n"
     ]
    }
   ],
   "source": [
    "%%time\n",
    "\n",
    "dc.rms_smooth(300, 20)\n",
    "dc.get_max_obs(smooth=True)"
   ]
  },
  {
   "cell_type": "code",
   "execution_count": null,
   "metadata": {},
   "outputs": [
    {
     "name": "stdout",
     "output_type": "stream",
     "text": [
      "03\n",
      "04\n",
      "32\n",
      "35\n",
      "34\n",
      "33\n",
      "05\n",
      "02\n",
      "20\n",
      "18\n",
      "27\n",
      "11\n",
      "29\n",
      "16\n",
      "28\n",
      "17\n",
      "10\n",
      "19\n",
      "26\n",
      "21\n"
     ]
    }
   ],
   "source": [
    "%%time\n",
    "\n",
    "snf_dict = {}\n",
    "k = 0.1\n",
    "for s, gdict in dc.data_set_smooth.items():\n",
    "    print(s)\n",
    "    snf_dict[s] = {}\n",
    "    for g, array in gdict.items():\n",
    "        snf_dict[s][g] = SNF(array[:, :6], k)\n",
    "        snf_dict[s][g].normalize_modalities()\n",
    "        snf_dict[s][g].calc_sim_matrix()\n",
    "        snf_dict[s][g].calc_transition_matrix()\n",
    "        snf_dict[s][g].calc_similarity_graph() \n",
    "        snf_dict[s][g].network_fusion()"
   ]
  },
  {
   "cell_type": "code",
   "execution_count": null,
   "metadata": {},
   "outputs": [],
   "source": []
  }
 ],
 "metadata": {
  "kernelspec": {
   "display_name": "Python 3",
   "language": "python",
   "name": "python3"
  },
  "language_info": {
   "codemirror_mode": {
    "name": "ipython",
    "version": 3
   },
   "file_extension": ".py",
   "mimetype": "text/x-python",
   "name": "python",
   "nbconvert_exporter": "python",
   "pygments_lexer": "ipython3",
   "version": "3.6.8"
  }
 },
 "nbformat": 4,
 "nbformat_minor": 2
}
