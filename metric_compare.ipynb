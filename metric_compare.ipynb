{
 "cells": [
  {
   "cell_type": "code",
   "execution_count": 1,
   "metadata": {},
   "outputs": [],
   "source": [
    "import numpy as np\n",
    "import scipy.linalg as la\n",
    "import pandas as pd\n",
    "from sklearn import datasets\n",
    "from scipy.stats import multivariate_normal as mvn\n",
    "import matplotlib.pyplot as plt\n",
    "\n",
    "from scipy.ndimage import gaussian_filter\n",
    "\n",
    "from similarity_network_fusion import SNF"
   ]
  },
  {
   "cell_type": "code",
   "execution_count": 2,
   "metadata": {},
   "outputs": [],
   "source": [
    "from data_cube import DataCube"
   ]
  },
  {
   "cell_type": "code",
   "execution_count": 3,
   "metadata": {},
   "outputs": [],
   "source": [
    "dc = DataCube(\n",
    "    subjects=[\"01\",\"10\",\"20\",\"30\"],\n",
    "    gestures=[\"3\",\"4\",\"5\",\"6\"],\n",
    "    channels=[\"2\", \"4\", \"6\", \"8\"],\n",
    "    data_grp=\"parsed\"\n",
    ")\n",
    "dc.load_data()\n",
    "dc.rms_smooth(100, 50)\n",
    "dc.normalize_modalities(smooth=True)\n",
    "\n",
    "dc.get_min_obs(smooth=True)"
   ]
  },
  {
   "cell_type": "code",
   "execution_count": 4,
   "metadata": {},
   "outputs": [],
   "source": [
    "def cumulative_ts(xi, xj):\n",
    "    \"\"\"\n",
    "    cumulated version of the time series w/ euclidean distance\n",
    "    in which we take the sum values over time as time increases\n",
    "    and then apply the chosen metric.\n",
    "    xi, xj - arrays of data points\n",
    "    \"\"\"\n",
    "    return la.norm(xi[:,1:].sum(axis=0)-xj[:,1:].sum(axis=0))"
   ]
  },
  {
   "cell_type": "code",
   "execution_count": 5,
   "metadata": {},
   "outputs": [],
   "source": [
    "def fading_ts(xi, xj, mtrc=la.norm):\n",
    "    \"\"\"\n",
    "    xi, xj - instances of time series metrics\n",
    "    xi := (i, vi); vi \\in R^D\n",
    "    n - length of time series\n",
    "    \"\"\"\n",
    "    return abs(xi[0]-xj[0]) * mtrc(xi[1:]-xj[1:])"
   ]
  },
  {
   "cell_type": "code",
   "execution_count": null,
   "metadata": {},
   "outputs": [],
   "source": [
    "g = dc.data_set_smooth[\"20\"][\"6_0_1\"][:,:-1]"
   ]
  },
  {
   "cell_type": "code",
   "execution_count": null,
   "metadata": {},
   "outputs": [],
   "source": [
    "# generate raw signal SSMs for each gesture\n",
    "ced_ssm = np.zeros(shape=(g.shape[0], g.shape[0]))\n",
    "for i in range(g.shape[0]):\n",
    "    for j in range(g.shape[0]):\n",
    "        ced_ssm[i,j] = cumulative_ts(g[:i,:], g[:j,:])"
   ]
  },
  {
   "cell_type": "code",
   "execution_count": null,
   "metadata": {},
   "outputs": [],
   "source": [
    "plt.imshow(ced_ssm)\n",
    "plt.show()"
   ]
  },
  {
   "cell_type": "markdown",
   "metadata": {},
   "source": [
    "---"
   ]
  },
  {
   "cell_type": "code",
   "execution_count": null,
   "metadata": {},
   "outputs": [],
   "source": [
    "# generate raw signal SSMs for each gesture\n",
    "fts_ssm = np.zeros(shape=(g.shape[0], g.shape[0]))\n",
    "for i in range(g.shape[0]):\n",
    "    for j in range(g.shape[0]):\n",
    "        fts_ssm[i,j] = fading_ts(g[i], g[j])"
   ]
  },
  {
   "cell_type": "code",
   "execution_count": null,
   "metadata": {},
   "outputs": [],
   "source": [
    "plt.imshow(fts_ssm)\n",
    "plt.show()"
   ]
  },
  {
   "cell_type": "markdown",
   "metadata": {},
   "source": [
    "---"
   ]
  },
  {
   "cell_type": "code",
   "execution_count": 6,
   "metadata": {},
   "outputs": [
    {
     "ename": "NameError",
     "evalue": "name 'g' is not defined",
     "output_type": "error",
     "traceback": [
      "\u001b[0;31m---------------------------------------------------------------------------\u001b[0m",
      "\u001b[0;31mNameError\u001b[0m                                 Traceback (most recent call last)",
      "\u001b[0;32m<ipython-input-6-1406f08c4480>\u001b[0m in \u001b[0;36m<module>\u001b[0;34m\u001b[0m\n\u001b[0;32m----> 1\u001b[0;31m s1_dct = {\"left\" : np.zeros(shape=(g.shape[0], g.shape[0])),\n\u001b[0m\u001b[1;32m      2\u001b[0m           \u001b[0;34m\"right\"\u001b[0m \u001b[0;34m:\u001b[0m \u001b[0mnp\u001b[0m\u001b[0;34m.\u001b[0m\u001b[0mzeros\u001b[0m\u001b[0;34m(\u001b[0m\u001b[0mshape\u001b[0m\u001b[0;34m=\u001b[0m\u001b[0;34m(\u001b[0m\u001b[0mg\u001b[0m\u001b[0;34m.\u001b[0m\u001b[0mshape\u001b[0m\u001b[0;34m[\u001b[0m\u001b[0;36m0\u001b[0m\u001b[0;34m]\u001b[0m\u001b[0;34m,\u001b[0m \u001b[0mg\u001b[0m\u001b[0;34m.\u001b[0m\u001b[0mshape\u001b[0m\u001b[0;34m[\u001b[0m\u001b[0;36m0\u001b[0m\u001b[0;34m]\u001b[0m\u001b[0;34m)\u001b[0m\u001b[0;34m)\u001b[0m\u001b[0;34m,\u001b[0m\u001b[0;34m\u001b[0m\u001b[0;34m\u001b[0m\u001b[0m\n\u001b[1;32m      3\u001b[0m           \u001b[0;34m\"up\"\u001b[0m \u001b[0;34m:\u001b[0m \u001b[0mnp\u001b[0m\u001b[0;34m.\u001b[0m\u001b[0mzeros\u001b[0m\u001b[0;34m(\u001b[0m\u001b[0mshape\u001b[0m\u001b[0;34m=\u001b[0m\u001b[0;34m(\u001b[0m\u001b[0mg\u001b[0m\u001b[0;34m.\u001b[0m\u001b[0mshape\u001b[0m\u001b[0;34m[\u001b[0m\u001b[0;36m0\u001b[0m\u001b[0;34m]\u001b[0m\u001b[0;34m,\u001b[0m \u001b[0mg\u001b[0m\u001b[0;34m.\u001b[0m\u001b[0mshape\u001b[0m\u001b[0;34m[\u001b[0m\u001b[0;36m0\u001b[0m\u001b[0;34m]\u001b[0m\u001b[0;34m)\u001b[0m\u001b[0;34m)\u001b[0m\u001b[0;34m,\u001b[0m\u001b[0;34m\u001b[0m\u001b[0;34m\u001b[0m\u001b[0m\n\u001b[1;32m      4\u001b[0m           \"down\" : np.zeros(shape=(g.shape[0], g.shape[0]))}\n",
      "\u001b[0;31mNameError\u001b[0m: name 'g' is not defined"
     ]
    }
   ],
   "source": [
    "s1_dct = {\"left\" : np.zeros(shape=(g.shape[0], g.shape[0])),\n",
    "          \"right\" : np.zeros(shape=(g.shape[0], g.shape[0])),\n",
    "          \"up\" : np.zeros(shape=(g.shape[0], g.shape[0])),\n",
    "          \"down\" : np.zeros(shape=(g.shape[0], g.shape[0]))}"
   ]
  },
  {
   "cell_type": "code",
   "execution_count": null,
   "metadata": {},
   "outputs": [],
   "source": [
    "g_dct = {\"left\" : \"3_0_1\", \"right\" : \"4_0_1\", \"up\" : \"5_0_1\", \"down\" : \"6_0_1\"}"
   ]
  },
  {
   "cell_type": "code",
   "execution_count": 7,
   "metadata": {},
   "outputs": [
    {
     "ename": "NameError",
     "evalue": "name 'g_dct' is not defined",
     "output_type": "error",
     "traceback": [
      "\u001b[0;31m---------------------------------------------------------------------------\u001b[0m",
      "\u001b[0;31mNameError\u001b[0m                                 Traceback (most recent call last)",
      "\u001b[0;32m<ipython-input-7-412bfa105073>\u001b[0m in \u001b[0;36m<module>\u001b[0;34m\u001b[0m\n\u001b[1;32m      1\u001b[0m \u001b[0mm1_dct\u001b[0m \u001b[0;34m=\u001b[0m \u001b[0;34m{\u001b[0m\u001b[0;34m}\u001b[0m\u001b[0;34m\u001b[0m\u001b[0;34m\u001b[0m\u001b[0m\n\u001b[0;32m----> 2\u001b[0;31m \u001b[0;32mfor\u001b[0m \u001b[0mgst\u001b[0m\u001b[0;34m,\u001b[0m \u001b[0mnum\u001b[0m \u001b[0;32min\u001b[0m \u001b[0mg_dct\u001b[0m\u001b[0;34m.\u001b[0m\u001b[0mitems\u001b[0m\u001b[0;34m(\u001b[0m\u001b[0;34m)\u001b[0m\u001b[0;34m:\u001b[0m\u001b[0;34m\u001b[0m\u001b[0;34m\u001b[0m\u001b[0m\n\u001b[0m\u001b[1;32m      3\u001b[0m     m1_dct[gst] = np.zeros(shape=(\n\u001b[1;32m      4\u001b[0m         \u001b[0mdc\u001b[0m\u001b[0;34m.\u001b[0m\u001b[0mdata_set_smooth\u001b[0m\u001b[0;34m[\u001b[0m\u001b[0;34m\"01\"\u001b[0m\u001b[0;34m]\u001b[0m\u001b[0;34m[\u001b[0m\u001b[0mnum\u001b[0m\u001b[0;34m]\u001b[0m\u001b[0;34m.\u001b[0m\u001b[0mshape\u001b[0m\u001b[0;34m[\u001b[0m\u001b[0;36m0\u001b[0m\u001b[0;34m]\u001b[0m\u001b[0;34m,\u001b[0m\u001b[0;34m\u001b[0m\u001b[0;34m\u001b[0m\u001b[0m\n\u001b[1;32m      5\u001b[0m         dc.data_set_smooth[\"01\"][num].shape[0]))\n",
      "\u001b[0;31mNameError\u001b[0m: name 'g_dct' is not defined"
     ]
    }
   ],
   "source": [
    "m1_dct = {}\n",
    "for gst, num in g_dct.items():\n",
    "    m1_dct[gst] = np.zeros(shape=(\n",
    "        dc.data_set_smooth[\"01\"][num].shape[0],\n",
    "        dc.data_set_smooth[\"01\"][num].shape[0]))\n",
    "    sz = dc.data_set_smooth[\"01\"][num].shape[0]\n",
    "    for i in range(sz):\n",
    "        for j in range(sz):\n",
    "            m1_dct[gst][i,j] = cumulative_ts(\n",
    "                dc.data_set_smooth[\"01\"][num][:i,:-1],\n",
    "                dc.data_set_smooth[\"01\"][num][:j,:-1])"
   ]
  },
  {
   "cell_type": "code",
   "execution_count": null,
   "metadata": {},
   "outputs": [],
   "source": [
    "m2_dct = {}\n",
    "for gst, num in g_dct.items():\n",
    "    m2_dct[gst] = np.zeros(shape=(\n",
    "        dc.data_set_smooth[\"01\"][num].shape[0],\n",
    "        dc.data_set_smooth[\"01\"][num].shape[0]))\n",
    "    sz = dc.data_set_smooth[\"01\"][num].shape[0]\n",
    "    for i in range(sz):\n",
    "        for j in range(sz):\n",
    "            m2_dct[gst][i,j] = fading_ts(\n",
    "                dc.data_set_smooth[\"01\"][num][i,:-1],\n",
    "                dc.data_set_smooth[\"01\"][num][j,:-1])"
   ]
  },
  {
   "cell_type": "code",
   "execution_count": null,
   "metadata": {},
   "outputs": [],
   "source": [
    "plt.figure(num=None, figsize=(15, 6))\n",
    "plt.suptitle(\"Comparing Time-Series Metrics: Subject 1\")\n",
    "plt.subplot(241)\n",
    "plt.title(\"Left\")\n",
    "plt.imshow(m1_dct[\"left\"])\n",
    "plt.xticks([])\n",
    "plt.yticks([])\n",
    "plt.subplot(242)\n",
    "plt.title(\"Right\")\n",
    "plt.imshow(m1_dct[\"right\"])\n",
    "plt.xticks([])\n",
    "plt.yticks([])\n",
    "plt.subplot(243)\n",
    "plt.title(\"Up\")\n",
    "plt.imshow(m1_dct[\"up\"])\n",
    "plt.xticks([])\n",
    "plt.yticks([])\n",
    "plt.subplot(244)\n",
    "plt.title(\"Down\")\n",
    "plt.imshow(m1_dct[\"down\"])\n",
    "plt.xticks([])\n",
    "plt.yticks([])\n",
    "plt.subplot(245)\n",
    "plt.imshow(m2_dct[\"left\"])\n",
    "plt.xticks([])\n",
    "plt.yticks([])\n",
    "plt.subplot(246)\n",
    "plt.imshow(m2_dct[\"right\"])\n",
    "plt.xticks([])\n",
    "plt.yticks([])\n",
    "plt.subplot(247)\n",
    "plt.imshow(m2_dct[\"up\"])\n",
    "plt.xticks([])\n",
    "plt.yticks([])\n",
    "plt.subplot(248)\n",
    "plt.imshow(m2_dct[\"down\"])\n",
    "plt.xticks([])\n",
    "plt.yticks([])\n",
    "plt.savefig(\"../../Thesis/LaTeX_template/images/ssm_mtrc_compare.png\", bbox_inches = 'tight',\n",
    "    pad_inches = 0)"
   ]
  },
  {
   "cell_type": "markdown",
   "metadata": {},
   "source": [
    "---"
   ]
  },
  {
   "cell_type": "code",
   "execution_count": 9,
   "metadata": {},
   "outputs": [],
   "source": [
    "g_dct = {\"p1\" : \"3_0_1\", \"p2\" : \"3_0_2\", \"p3\" : \"3_1_1\", \"p4\" : \"3_1_2\"}"
   ]
  },
  {
   "cell_type": "code",
   "execution_count": 10,
   "metadata": {},
   "outputs": [],
   "source": [
    "m1_dct = {}\n",
    "for gst, num in g_dct.items():\n",
    "    m1_dct[gst] = np.zeros(shape=(\n",
    "        dc.data_set_smooth[\"01\"][num].shape[0],\n",
    "        dc.data_set_smooth[\"01\"][num].shape[0]))\n",
    "    sz = dc.data_set_smooth[\"01\"][num].shape[0]\n",
    "    for i in range(sz):\n",
    "        for j in range(sz):\n",
    "            m1_dct[gst][i,j] = cumulative_ts(\n",
    "                dc.data_set_smooth[\"01\"][num][:i,:-1],\n",
    "                dc.data_set_smooth[\"01\"][num][:j,:-1])"
   ]
  },
  {
   "cell_type": "code",
   "execution_count": 11,
   "metadata": {},
   "outputs": [],
   "source": [
    "m2_dct = {}\n",
    "for gst, num in g_dct.items():\n",
    "    m2_dct[gst] = np.zeros(shape=(\n",
    "        dc.data_set_smooth[\"01\"][num].shape[0],\n",
    "        dc.data_set_smooth[\"01\"][num].shape[0]))\n",
    "    sz = dc.data_set_smooth[\"01\"][num].shape[0]\n",
    "    for i in range(sz):\n",
    "        for j in range(sz):\n",
    "            m2_dct[gst][i,j] = fading_ts(\n",
    "                dc.data_set_smooth[\"01\"][num][i,:-1],\n",
    "                dc.data_set_smooth[\"01\"][num][j,:-1])"
   ]
  },
  {
   "cell_type": "code",
   "execution_count": 12,
   "metadata": {},
   "outputs": [
    {
     "data": {
      "image/png": "[encoded data removed]",
      "text/plain": [
       "<Figure size 1080x432 with 8 Axes>"
      ]
     },
     "metadata": {},
     "output_type": "display_data"
    }
   ],
   "source": [
    "plt.figure(num=None, figsize=(15, 6))\n",
    "plt.suptitle(\"Comparing Time-Series Metrics: Subject 1; Left Performances\")\n",
    "plt.subplot(241)\n",
    "plt.title(\"Performance 1\")\n",
    "plt.imshow(m1_dct[\"p1\"])\n",
    "plt.xticks([])\n",
    "plt.yticks([])\n",
    "plt.subplot(242)\n",
    "plt.title(\"Performance 2\")\n",
    "plt.imshow(m1_dct[\"p2\"])\n",
    "plt.xticks([])\n",
    "plt.yticks([])\n",
    "plt.subplot(243)\n",
    "plt.title(\"Performance 3\")\n",
    "plt.imshow(m1_dct[\"p3\"])\n",
    "plt.xticks([])\n",
    "plt.yticks([])\n",
    "plt.subplot(244)\n",
    "plt.title(\"Performance 4\")\n",
    "plt.imshow(m1_dct[\"p4\"])\n",
    "plt.xticks([])\n",
    "plt.yticks([])\n",
    "plt.subplot(245)\n",
    "plt.imshow(m2_dct[\"p1\"])\n",
    "plt.xticks([])\n",
    "plt.yticks([])\n",
    "plt.subplot(246)\n",
    "plt.imshow(m2_dct[\"p2\"])\n",
    "plt.xticks([])\n",
    "plt.yticks([])\n",
    "plt.subplot(247)\n",
    "plt.imshow(m2_dct[\"p3\"])\n",
    "plt.xticks([])\n",
    "plt.yticks([])\n",
    "plt.subplot(248)\n",
    "plt.imshow(m2_dct[\"p4\"])\n",
    "plt.xticks([])\n",
    "plt.yticks([])\n",
    "plt.savefig(\"../../Thesis/LaTeX_template/images/ssm_mtrc_compare2.png\", bbox_inches = 'tight',\n",
    "    pad_inches = 0)"
   ]
  },
  {
   "cell_type": "markdown",
   "metadata": {},
   "source": [
    "---"
   ]
  },
  {
   "cell_type": "code",
   "execution_count": 13,
   "metadata": {},
   "outputs": [],
   "source": [
    "s_dct = {\"01\" : \"3_0_1\", \"10\" : \"4_0_1\", \"20\" : \"5_0_1\", \"30\" : \"6_0_1\"}"
   ]
  },
  {
   "cell_type": "code",
   "execution_count": 14,
   "metadata": {},
   "outputs": [],
   "source": [
    "m1_dct = {}\n",
    "for sbj, num in s_dct.items():\n",
    "    m1_dct[sbj] = np.zeros(shape=(\n",
    "        dc.data_set_smooth[sbj][\"3_0_1\"].shape[0],\n",
    "        dc.data_set_smooth[sbj][\"3_0_1\"].shape[0]))\n",
    "    sz = dc.data_set_smooth[sbj][\"3_0_1\"].shape[0]\n",
    "    for i in range(sz):\n",
    "        for j in range(sz):\n",
    "            m1_dct[sbj][i,j] = cumulative_ts(\n",
    "                dc.data_set_smooth[sbj][\"3_0_1\"][:i,:-1],\n",
    "                dc.data_set_smooth[sbj][\"3_0_1\"][:j,:-1])"
   ]
  },
  {
   "cell_type": "code",
   "execution_count": 15,
   "metadata": {},
   "outputs": [],
   "source": [
    "m2_dct = {}\n",
    "for sbj, num in s_dct.items():\n",
    "    m2_dct[sbj] = np.zeros(shape=(\n",
    "        dc.data_set_smooth[sbj][\"3_0_1\"].shape[0],\n",
    "        dc.data_set_smooth[sbj][\"3_0_1\"].shape[0]))\n",
    "    sz = dc.data_set_smooth[sbj][\"3_0_1\"].shape[0]\n",
    "    for i in range(sz):\n",
    "        for j in range(sz):\n",
    "            m2_dct[sbj][i,j] = fading_ts(\n",
    "                dc.data_set_smooth[sbj][\"3_0_1\"][i,:-1],\n",
    "                dc.data_set_smooth[sbj][\"3_0_1\"][j,:-1])"
   ]
  },
  {
   "cell_type": "code",
   "execution_count": 16,
   "metadata": {},
   "outputs": [
    {
     "data": {
      "image/png": "[encoded data removed]",
      "text/plain": [
       "<Figure size 1080x432 with 8 Axes>"
      ]
     },
     "metadata": {},
     "output_type": "display_data"
    }
   ],
   "source": [
    "plt.figure(num=None, figsize=(15, 6))\n",
    "plt.suptitle(\"Comparing Time-Series Metrics: Left Gesture\")\n",
    "plt.subplot(241)\n",
    "plt.title(\"Subject 1\")\n",
    "plt.imshow(m1_dct[\"01\"])\n",
    "plt.xticks([])\n",
    "plt.yticks([])\n",
    "plt.subplot(242)\n",
    "plt.title(\"Subject 10\")\n",
    "plt.imshow(m1_dct[\"10\"])\n",
    "plt.xticks([])\n",
    "plt.yticks([])\n",
    "plt.subplot(243)\n",
    "plt.title(\"Subject 20\")\n",
    "plt.imshow(m1_dct[\"20\"])\n",
    "plt.xticks([])\n",
    "plt.yticks([])\n",
    "plt.subplot(244)\n",
    "plt.title(\"Subject 30\")\n",
    "plt.imshow(m1_dct[\"30\"])\n",
    "plt.xticks([])\n",
    "plt.yticks([])\n",
    "plt.subplot(245)\n",
    "plt.imshow(m2_dct[\"01\"])\n",
    "plt.xticks([])\n",
    "plt.yticks([])\n",
    "plt.subplot(246)\n",
    "plt.imshow(m2_dct[\"10\"])\n",
    "plt.xticks([])\n",
    "plt.yticks([])\n",
    "plt.subplot(247)\n",
    "plt.imshow(m2_dct[\"20\"])\n",
    "plt.xticks([])\n",
    "plt.yticks([])\n",
    "plt.subplot(248)\n",
    "plt.imshow(m2_dct[\"30\"])\n",
    "plt.xticks([])\n",
    "plt.yticks([])\n",
    "plt.savefig(\"../../Thesis/LaTeX_template/images/ssm_mtrc_compare3.png\", bbox_inches = 'tight',\n",
    "    pad_inches = 0)"
   ]
  },
  {
   "cell_type": "markdown",
   "metadata": {},
   "source": [
    "---"
   ]
  },
  {
   "cell_type": "code",
   "execution_count": null,
   "metadata": {},
   "outputs": [],
   "source": [
    "m1_dct = {}\n",
    "for sbj, num in s_dct.items():\n",
    "    m1_dct[sbj] = np.zeros(shape=(\n",
    "        dc.data_set_smooth[sbj][\"4_0_1\"].shape[0],\n",
    "        dc.data_set_smooth[sbj][\"4_0_1\"].shape[0]))\n",
    "    sz = dc.data_set_smooth[sbj][\"4_0_1\"].shape[0]\n",
    "    for i in range(sz):\n",
    "        for j in range(sz):\n",
    "            m1_dct[sbj][i,j] = cumulative_ts(\n",
    "                dc.data_set_smooth[sbj][\"4_0_1\"][:i,:-1],\n",
    "                dc.data_set_smooth[sbj][\"4_0_1\"][:j,:-1])"
   ]
  },
  {
   "cell_type": "code",
   "execution_count": null,
   "metadata": {},
   "outputs": [],
   "source": [
    "m2_dct = {}\n",
    "for sbj, num in s_dct.items():\n",
    "    m2_dct[sbj] = np.zeros(shape=(\n",
    "        dc.data_set_smooth[sbj][\"4_0_1\"].shape[0],\n",
    "        dc.data_set_smooth[sbj][\"4_0_1\"].shape[0]))\n",
    "    sz = dc.data_set_smooth[sbj][\"4_0_1\"].shape[0]\n",
    "    for i in range(sz):\n",
    "        for j in range(sz):\n",
    "            m2_dct[sbj][i,j] = fading_ts(\n",
    "                dc.data_set_smooth[sbj][\"4_0_1\"][i,:-1],\n",
    "                dc.data_set_smooth[sbj][\"4_0_1\"][j,:-1])"
   ]
  },
  {
   "cell_type": "code",
   "execution_count": null,
   "metadata": {},
   "outputs": [],
   "source": [
    "plt.figure(num=None, figsize=(15, 6))\n",
    "plt.suptitle(\"Comparing Time-Series Metrics: Right Gesture\")\n",
    "plt.subplot(241)\n",
    "plt.title(\"Subject 1\")\n",
    "plt.imshow(m1_dct[\"01\"])\n",
    "plt.xticks([])\n",
    "plt.yticks([])\n",
    "plt.subplot(242)\n",
    "plt.title(\"Subject 10\")\n",
    "plt.imshow(m1_dct[\"10\"])\n",
    "plt.xticks([])\n",
    "plt.yticks([])\n",
    "plt.subplot(243)\n",
    "plt.title(\"Subject 20\")\n",
    "plt.imshow(m1_dct[\"20\"])\n",
    "plt.xticks([])\n",
    "plt.yticks([])\n",
    "plt.subplot(244)\n",
    "plt.title(\"Subject 30\")\n",
    "plt.imshow(m1_dct[\"30\"])\n",
    "plt.xticks([])\n",
    "plt.yticks([])\n",
    "plt.subplot(245)\n",
    "plt.imshow(m2_dct[\"01\"])\n",
    "plt.xticks([])\n",
    "plt.yticks([])\n",
    "plt.subplot(246)\n",
    "plt.imshow(m2_dct[\"10\"])\n",
    "plt.xticks([])\n",
    "plt.yticks([])\n",
    "plt.subplot(247)\n",
    "plt.imshow(m2_dct[\"20\"])\n",
    "plt.xticks([])\n",
    "plt.yticks([])\n",
    "plt.subplot(248)\n",
    "plt.imshow(m2_dct[\"30\"])\n",
    "plt.xticks([])\n",
    "plt.yticks([])\n",
    "plt.show()"
   ]
  },
  {
   "cell_type": "markdown",
   "metadata": {},
   "source": [
    "---"
   ]
  },
  {
   "cell_type": "code",
   "execution_count": null,
   "metadata": {},
   "outputs": [],
   "source": [
    "m1_dct = {}\n",
    "for sbj, num in s_dct.items():\n",
    "    m1_dct[sbj] = np.zeros(shape=(\n",
    "        dc.data_set_smooth[sbj][\"5_0_1\"].shape[0],\n",
    "        dc.data_set_smooth[sbj][\"5_0_1\"].shape[0]))\n",
    "    sz = dc.data_set_smooth[sbj][\"5_0_1\"].shape[0]\n",
    "    for i in range(sz):\n",
    "        for j in range(sz):\n",
    "            m1_dct[sbj][i,j] = cumulative_ts(\n",
    "                dc.data_set_smooth[sbj][\"5_0_1\"][:i,:-1],\n",
    "                dc.data_set_smooth[sbj][\"5_0_1\"][:j,:-1])"
   ]
  },
  {
   "cell_type": "code",
   "execution_count": null,
   "metadata": {},
   "outputs": [],
   "source": [
    "m2_dct = {}\n",
    "for sbj, num in s_dct.items():\n",
    "    m2_dct[sbj] = np.zeros(shape=(\n",
    "        dc.data_set_smooth[sbj][\"5_0_1\"].shape[0],\n",
    "        dc.data_set_smooth[sbj][\"5_0_1\"].shape[0]))\n",
    "    sz = dc.data_set_smooth[sbj][\"5_0_1\"].shape[0]\n",
    "    for i in range(sz):\n",
    "        for j in range(sz):\n",
    "            m2_dct[sbj][i,j] = fading_ts(\n",
    "                dc.data_set_smooth[sbj][\"5_0_1\"][i,:-1],\n",
    "                dc.data_set_smooth[sbj][\"5_0_1\"][j,:-1])"
   ]
  },
  {
   "cell_type": "code",
   "execution_count": null,
   "metadata": {},
   "outputs": [],
   "source": [
    "plt.figure(num=None, figsize=(15, 6))\n",
    "plt.suptitle(\"Comparing Time-Series Metrics: Up Gesture\")\n",
    "plt.subplot(241)\n",
    "plt.title(\"Subject 1\")\n",
    "plt.imshow(m1_dct[\"01\"])\n",
    "plt.xticks([])\n",
    "plt.yticks([])\n",
    "plt.subplot(242)\n",
    "plt.title(\"Subject 10\")\n",
    "plt.imshow(m1_dct[\"10\"])\n",
    "plt.xticks([])\n",
    "plt.yticks([])\n",
    "plt.subplot(243)\n",
    "plt.title(\"Subject 20\")\n",
    "plt.imshow(m1_dct[\"20\"])\n",
    "plt.xticks([])\n",
    "plt.yticks([])\n",
    "plt.subplot(244)\n",
    "plt.title(\"Subject 30\")\n",
    "plt.imshow(m1_dct[\"30\"])\n",
    "plt.xticks([])\n",
    "plt.yticks([])\n",
    "plt.subplot(245)\n",
    "plt.imshow(m2_dct[\"01\"])\n",
    "plt.xticks([])\n",
    "plt.yticks([])\n",
    "plt.subplot(246)\n",
    "plt.imshow(m2_dct[\"10\"])\n",
    "plt.xticks([])\n",
    "plt.yticks([])\n",
    "plt.subplot(247)\n",
    "plt.imshow(m2_dct[\"20\"])\n",
    "plt.xticks([])\n",
    "plt.yticks([])\n",
    "plt.subplot(248)\n",
    "plt.imshow(m2_dct[\"30\"])\n",
    "plt.xticks([])\n",
    "plt.yticks([])\n",
    "plt.show()"
   ]
  },
  {
   "cell_type": "markdown",
   "metadata": {},
   "source": [
    "---"
   ]
  },
  {
   "cell_type": "code",
   "execution_count": null,
   "metadata": {},
   "outputs": [],
   "source": [
    "m1_dct = {}\n",
    "for sbj, num in s_dct.items():\n",
    "    m1_dct[sbj] = np.zeros(shape=(\n",
    "        dc.data_set_smooth[sbj][\"6_0_1\"].shape[0],\n",
    "        dc.data_set_smooth[sbj][\"6_0_1\"].shape[0]))\n",
    "    sz = dc.data_set_smooth[sbj][\"6_0_1\"].shape[0]\n",
    "    for i in range(sz):\n",
    "        for j in range(sz):\n",
    "            m1_dct[sbj][i,j] = cumulative_ts(\n",
    "                dc.data_set_smooth[sbj][\"6_0_1\"][:i,:-1],\n",
    "                dc.data_set_smooth[sbj][\"6_0_1\"][:j,:-1])"
   ]
  },
  {
   "cell_type": "code",
   "execution_count": null,
   "metadata": {},
   "outputs": [],
   "source": [
    "m2_dct = {}\n",
    "for sbj, num in s_dct.items():\n",
    "    m2_dct[sbj] = np.zeros(shape=(\n",
    "        dc.data_set_smooth[sbj][\"6_0_1\"].shape[0],\n",
    "        dc.data_set_smooth[sbj][\"6_0_1\"].shape[0]))\n",
    "    sz = dc.data_set_smooth[sbj][\"6_0_1\"].shape[0]\n",
    "    for i in range(sz):\n",
    "        for j in range(sz):\n",
    "            m2_dct[sbj][i,j] = fading_ts(\n",
    "                dc.data_set_smooth[sbj][\"6_0_1\"][i,:-1],\n",
    "                dc.data_set_smooth[sbj][\"6_0_1\"][j,:-1])"
   ]
  },
  {
   "cell_type": "code",
   "execution_count": null,
   "metadata": {},
   "outputs": [],
   "source": [
    "plt.figure(num=None, figsize=(15, 6))\n",
    "plt.suptitle(\"Comparing Time-Series Metrics: Down Gesture\")\n",
    "plt.subplot(241)\n",
    "plt.title(\"Subject 1\")\n",
    "plt.imshow(m1_dct[\"01\"])\n",
    "plt.xticks([])\n",
    "plt.yticks([])\n",
    "plt.subplot(242)\n",
    "plt.title(\"Subject 10\")\n",
    "plt.imshow(m1_dct[\"10\"])\n",
    "plt.xticks([])\n",
    "plt.yticks([])\n",
    "plt.subplot(243)\n",
    "plt.title(\"Subject 20\")\n",
    "plt.imshow(m1_dct[\"20\"])\n",
    "plt.xticks([])\n",
    "plt.yticks([])\n",
    "plt.subplot(244)\n",
    "plt.title(\"Subject 30\")\n",
    "plt.imshow(m1_dct[\"30\"])\n",
    "plt.xticks([])\n",
    "plt.yticks([])\n",
    "plt.subplot(245)\n",
    "plt.imshow(m2_dct[\"01\"])\n",
    "plt.xticks([])\n",
    "plt.yticks([])\n",
    "plt.subplot(246)\n",
    "plt.imshow(m2_dct[\"10\"])\n",
    "plt.xticks([])\n",
    "plt.yticks([])\n",
    "plt.subplot(247)\n",
    "plt.imshow(m2_dct[\"20\"])\n",
    "plt.xticks([])\n",
    "plt.yticks([])\n",
    "plt.subplot(248)\n",
    "plt.imshow(m2_dct[\"30\"])\n",
    "plt.xticks([])\n",
    "plt.yticks([])\n",
    "plt.show()"
   ]
  },
  {
   "cell_type": "code",
   "execution_count": null,
   "metadata": {},
   "outputs": [],
   "source": []
  }
 ],
 "metadata": {
  "kernelspec": {
   "display_name": "Python 3",
   "language": "python",
   "name": "python3"
  },
  "language_info": {
   "codemirror_mode": {
    "name": "ipython",
    "version": 3
   },
   "file_extension": ".py",
   "mimetype": "text/x-python",
   "name": "python",
   "nbconvert_exporter": "python",
   "pygments_lexer": "ipython3",
   "version": "3.7.2"
  }
 },
 "nbformat": 4,
 "nbformat_minor": 2
}
