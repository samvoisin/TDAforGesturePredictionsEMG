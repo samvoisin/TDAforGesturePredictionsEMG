{
 "cells": [
  {
   "cell_type": "code",
   "execution_count": 1,
   "metadata": {},
   "outputs": [],
   "source": [
    "import numpy as np\n",
    "from numpy import linalg as la\n",
    "from numpy import random as rnd\n",
    "import pandas as pd\n",
    "import matplotlib.pyplot as plt\n",
    "import seaborn as sns\n",
    "\n",
    "from persim import PersImage"
   ]
  },
  {
   "cell_type": "code",
   "execution_count": 2,
   "metadata": {},
   "outputs": [],
   "source": [
    "g = 3.0\n",
    "pim_sbs = pd.read_csv(\"./Data/pim_vectors_mp40_sbs.csv\")\n",
    "pim_smth = pd.read_csv(\"./Data/pim_vectors_mp40_smth.csv\")\n",
    "pim_sbs = pim_sbs.loc[pim_sbs.gest == g, :]\n",
    "pim_smth = pim_smth.loc[pim_smth.gest == g, :]"
   ]
  },
  {
   "cell_type": "code",
   "execution_count": 3,
   "metadata": {},
   "outputs": [],
   "source": [
    "pim_sbs = pim_sbs.values\n",
    "pim_smth = pim_smth.values"
   ]
  },
  {
   "cell_type": "code",
   "execution_count": 4,
   "metadata": {},
   "outputs": [],
   "source": [
    "px = 40\n",
    "pim = PersImage(spread=1e-5, pixels=[px,px], verbose=False)"
   ]
  },
  {
   "cell_type": "code",
   "execution_count": 5,
   "metadata": {},
   "outputs": [
    {
     "data": {
      "text/plain": [
       "array([[ 3., 30.],\n",
       "       [ 3., 30.],\n",
       "       [ 3., 30.],\n",
       "       [ 3., 30.],\n",
       "       [ 3.,  6.],\n",
       "       [ 3.,  6.],\n",
       "       [ 3.,  6.],\n",
       "       [ 3.,  6.],\n",
       "       [ 3.,  9.],\n",
       "       [ 3.,  9.],\n",
       "       [ 3.,  9.],\n",
       "       [ 3.,  9.],\n",
       "       [ 3.,  3.],\n",
       "       [ 3.,  3.],\n",
       "       [ 3.,  3.],\n",
       "       [ 3.,  3.],\n",
       "       [ 3.,  5.],\n",
       "       [ 3.,  5.],\n",
       "       [ 3.,  5.],\n",
       "       [ 3.,  5.],\n",
       "       [ 3., 21.],\n",
       "       [ 3., 21.],\n",
       "       [ 3., 21.],\n",
       "       [ 3., 21.],\n",
       "       [ 3., 17.],\n",
       "       [ 3., 17.],\n",
       "       [ 3., 17.],\n",
       "       [ 3., 17.],\n",
       "       [ 3.,  1.],\n",
       "       [ 3.,  1.],\n",
       "       [ 3.,  1.],\n",
       "       [ 3.,  1.],\n",
       "       [ 3., 16.],\n",
       "       [ 3., 16.],\n",
       "       [ 3., 16.],\n",
       "       [ 3., 16.],\n",
       "       [ 3., 26.],\n",
       "       [ 3., 26.],\n",
       "       [ 3., 26.],\n",
       "       [ 3., 26.],\n",
       "       [ 3., 32.],\n",
       "       [ 3., 32.],\n",
       "       [ 3., 32.],\n",
       "       [ 3., 32.],\n",
       "       [ 3.,  4.],\n",
       "       [ 3.,  4.],\n",
       "       [ 3.,  4.],\n",
       "       [ 3.,  4.],\n",
       "       [ 3.,  8.],\n",
       "       [ 3.,  8.],\n",
       "       [ 3.,  8.],\n",
       "       [ 3.,  8.],\n",
       "       [ 3., 27.],\n",
       "       [ 3., 27.],\n",
       "       [ 3., 27.],\n",
       "       [ 3., 27.],\n",
       "       [ 3., 14.],\n",
       "       [ 3., 14.],\n",
       "       [ 3., 14.],\n",
       "       [ 3., 14.],\n",
       "       [ 3., 23.],\n",
       "       [ 3., 23.],\n",
       "       [ 3., 23.],\n",
       "       [ 3., 23.],\n",
       "       [ 3., 25.],\n",
       "       [ 3., 25.],\n",
       "       [ 3., 25.],\n",
       "       [ 3., 25.],\n",
       "       [ 3., 18.],\n",
       "       [ 3., 18.],\n",
       "       [ 3., 18.],\n",
       "       [ 3., 18.],\n",
       "       [ 3., 29.],\n",
       "       [ 3., 29.],\n",
       "       [ 3., 29.],\n",
       "       [ 3., 29.],\n",
       "       [ 3., 15.],\n",
       "       [ 3., 15.],\n",
       "       [ 3., 15.],\n",
       "       [ 3., 15.],\n",
       "       [ 3., 28.],\n",
       "       [ 3., 28.],\n",
       "       [ 3., 28.],\n",
       "       [ 3., 28.],\n",
       "       [ 3., 12.],\n",
       "       [ 3., 12.],\n",
       "       [ 3., 12.],\n",
       "       [ 3., 12.],\n",
       "       [ 3., 19.],\n",
       "       [ 3., 19.],\n",
       "       [ 3., 19.],\n",
       "       [ 3., 19.],\n",
       "       [ 3.,  7.],\n",
       "       [ 3.,  7.],\n",
       "       [ 3.,  7.],\n",
       "       [ 3.,  7.],\n",
       "       [ 3., 20.],\n",
       "       [ 3., 20.],\n",
       "       [ 3., 20.],\n",
       "       [ 3., 20.],\n",
       "       [ 3., 31.],\n",
       "       [ 3., 31.],\n",
       "       [ 3., 31.],\n",
       "       [ 3., 31.],\n",
       "       [ 3., 13.],\n",
       "       [ 3., 13.],\n",
       "       [ 3., 13.],\n",
       "       [ 3., 13.],\n",
       "       [ 3., 36.],\n",
       "       [ 3., 36.],\n",
       "       [ 3., 36.],\n",
       "       [ 3., 36.],\n",
       "       [ 3., 24.],\n",
       "       [ 3., 24.],\n",
       "       [ 3., 24.],\n",
       "       [ 3., 24.],\n",
       "       [ 3., 33.],\n",
       "       [ 3., 33.],\n",
       "       [ 3., 33.],\n",
       "       [ 3., 33.],\n",
       "       [ 3., 11.],\n",
       "       [ 3., 11.],\n",
       "       [ 3., 11.],\n",
       "       [ 3., 11.],\n",
       "       [ 3., 35.],\n",
       "       [ 3., 35.],\n",
       "       [ 3., 35.],\n",
       "       [ 3., 35.],\n",
       "       [ 3., 22.],\n",
       "       [ 3., 22.],\n",
       "       [ 3., 22.],\n",
       "       [ 3., 22.],\n",
       "       [ 3., 34.],\n",
       "       [ 3., 34.],\n",
       "       [ 3., 34.],\n",
       "       [ 3., 34.],\n",
       "       [ 3., 10.],\n",
       "       [ 3., 10.],\n",
       "       [ 3., 10.],\n",
       "       [ 3., 10.],\n",
       "       [ 3.,  2.],\n",
       "       [ 3.,  2.],\n",
       "       [ 3.,  2.],\n",
       "       [ 3.,  2.]])"
      ]
     },
     "execution_count": 5,
     "metadata": {},
     "output_type": "execute_result"
    }
   ],
   "source": [
    "pim_sbs[:, -2:]"
   ]
  },
  {
   "cell_type": "code",
   "execution_count": 6,
   "metadata": {},
   "outputs": [
    {
     "data": {
      "text/plain": [
       "array([[ 3., 30.],\n",
       "       [ 3., 30.],\n",
       "       [ 3., 30.],\n",
       "       [ 3., 30.],\n",
       "       [ 3.,  6.],\n",
       "       [ 3.,  6.],\n",
       "       [ 3.,  6.],\n",
       "       [ 3.,  6.],\n",
       "       [ 3.,  9.],\n",
       "       [ 3.,  9.],\n",
       "       [ 3.,  9.],\n",
       "       [ 3.,  9.],\n",
       "       [ 3.,  3.],\n",
       "       [ 3.,  3.],\n",
       "       [ 3.,  3.],\n",
       "       [ 3.,  3.],\n",
       "       [ 3.,  5.],\n",
       "       [ 3.,  5.],\n",
       "       [ 3.,  5.],\n",
       "       [ 3.,  5.],\n",
       "       [ 3., 21.],\n",
       "       [ 3., 21.],\n",
       "       [ 3., 21.],\n",
       "       [ 3., 21.],\n",
       "       [ 3., 17.],\n",
       "       [ 3., 17.],\n",
       "       [ 3., 17.],\n",
       "       [ 3., 17.],\n",
       "       [ 3.,  1.],\n",
       "       [ 3.,  1.],\n",
       "       [ 3.,  1.],\n",
       "       [ 3.,  1.],\n",
       "       [ 3., 16.],\n",
       "       [ 3., 16.],\n",
       "       [ 3., 16.],\n",
       "       [ 3., 16.],\n",
       "       [ 3., 26.],\n",
       "       [ 3., 26.],\n",
       "       [ 3., 26.],\n",
       "       [ 3., 26.],\n",
       "       [ 3., 32.],\n",
       "       [ 3., 32.],\n",
       "       [ 3., 32.],\n",
       "       [ 3., 32.],\n",
       "       [ 3.,  4.],\n",
       "       [ 3.,  4.],\n",
       "       [ 3.,  4.],\n",
       "       [ 3.,  4.],\n",
       "       [ 3.,  8.],\n",
       "       [ 3.,  8.],\n",
       "       [ 3.,  8.],\n",
       "       [ 3.,  8.],\n",
       "       [ 3., 27.],\n",
       "       [ 3., 27.],\n",
       "       [ 3., 27.],\n",
       "       [ 3., 27.],\n",
       "       [ 3., 14.],\n",
       "       [ 3., 14.],\n",
       "       [ 3., 14.],\n",
       "       [ 3., 14.],\n",
       "       [ 3., 23.],\n",
       "       [ 3., 23.],\n",
       "       [ 3., 23.],\n",
       "       [ 3., 23.],\n",
       "       [ 3., 25.],\n",
       "       [ 3., 25.],\n",
       "       [ 3., 25.],\n",
       "       [ 3., 25.],\n",
       "       [ 3., 18.],\n",
       "       [ 3., 18.],\n",
       "       [ 3., 18.],\n",
       "       [ 3., 18.],\n",
       "       [ 3., 29.],\n",
       "       [ 3., 29.],\n",
       "       [ 3., 29.],\n",
       "       [ 3., 29.],\n",
       "       [ 3., 15.],\n",
       "       [ 3., 15.],\n",
       "       [ 3., 15.],\n",
       "       [ 3., 15.],\n",
       "       [ 3., 28.],\n",
       "       [ 3., 28.],\n",
       "       [ 3., 28.],\n",
       "       [ 3., 28.],\n",
       "       [ 3., 12.],\n",
       "       [ 3., 12.],\n",
       "       [ 3., 12.],\n",
       "       [ 3., 12.],\n",
       "       [ 3., 19.],\n",
       "       [ 3., 19.],\n",
       "       [ 3., 19.],\n",
       "       [ 3., 19.],\n",
       "       [ 3.,  7.],\n",
       "       [ 3.,  7.],\n",
       "       [ 3.,  7.],\n",
       "       [ 3.,  7.],\n",
       "       [ 3., 20.],\n",
       "       [ 3., 20.],\n",
       "       [ 3., 20.],\n",
       "       [ 3., 20.],\n",
       "       [ 3., 31.],\n",
       "       [ 3., 31.],\n",
       "       [ 3., 31.],\n",
       "       [ 3., 31.],\n",
       "       [ 3., 13.],\n",
       "       [ 3., 13.],\n",
       "       [ 3., 13.],\n",
       "       [ 3., 13.],\n",
       "       [ 3., 36.],\n",
       "       [ 3., 36.],\n",
       "       [ 3., 36.],\n",
       "       [ 3., 36.],\n",
       "       [ 3., 24.],\n",
       "       [ 3., 24.],\n",
       "       [ 3., 24.],\n",
       "       [ 3., 24.],\n",
       "       [ 3., 33.],\n",
       "       [ 3., 33.],\n",
       "       [ 3., 33.],\n",
       "       [ 3., 33.],\n",
       "       [ 3., 11.],\n",
       "       [ 3., 11.],\n",
       "       [ 3., 11.],\n",
       "       [ 3., 11.],\n",
       "       [ 3., 35.],\n",
       "       [ 3., 35.],\n",
       "       [ 3., 35.],\n",
       "       [ 3., 35.],\n",
       "       [ 3., 22.],\n",
       "       [ 3., 22.],\n",
       "       [ 3., 22.],\n",
       "       [ 3., 22.],\n",
       "       [ 3., 34.],\n",
       "       [ 3., 34.],\n",
       "       [ 3., 34.],\n",
       "       [ 3., 34.],\n",
       "       [ 3., 10.],\n",
       "       [ 3., 10.],\n",
       "       [ 3., 10.],\n",
       "       [ 3., 10.],\n",
       "       [ 3.,  2.],\n",
       "       [ 3.,  2.],\n",
       "       [ 3.,  2.],\n",
       "       [ 3.,  2.]])"
      ]
     },
     "execution_count": 6,
     "metadata": {},
     "output_type": "execute_result"
    }
   ],
   "source": [
    "pim_smth[:, -2:]"
   ]
  },
  {
   "cell_type": "code",
   "execution_count": 7,
   "metadata": {},
   "outputs": [],
   "source": [
    "s = pim_sbs[4, :-2].reshape(-1, px)\n",
    "m = pim_smth[4, :-2].reshape(-1, px)"
   ]
  },
  {
   "cell_type": "code",
   "execution_count": 8,
   "metadata": {},
   "outputs": [
    {
     "data": {
      "image/png": "[encoded data removed]",
      "text/plain": [
       "<Figure size 432x288 with 1 Axes>"
      ]
     },
     "metadata": {
      "needs_background": "light"
     },
     "output_type": "display_data"
    }
   ],
   "source": [
    "pim.show(s)"
   ]
  },
  {
   "cell_type": "code",
   "execution_count": 9,
   "metadata": {},
   "outputs": [
    {
     "data": {
      "image/png": "[encoded data removed]",
      "text/plain": [
       "<Figure size 432x288 with 1 Axes>"
      ]
     },
     "metadata": {
      "needs_background": "light"
     },
     "output_type": "display_data"
    }
   ],
   "source": [
    "pim.show(m)"
   ]
  },
  {
   "cell_type": "code",
   "execution_count": 10,
   "metadata": {},
   "outputs": [],
   "source": [
    "s = pim_sbs[4, :-2].reshape(-1, px)\n",
    "m = pim_smth[4, :-2].reshape(-1, px)"
   ]
  },
  {
   "cell_type": "code",
   "execution_count": 11,
   "metadata": {},
   "outputs": [
    {
     "data": {
      "image/png": "[encoded data removed]",
      "text/plain": [
       "<Figure size 432x288 with 1 Axes>"
      ]
     },
     "metadata": {
      "needs_background": "light"
     },
     "output_type": "display_data"
    }
   ],
   "source": [
    "pim.show(s)"
   ]
  },
  {
   "cell_type": "code",
   "execution_count": 12,
   "metadata": {},
   "outputs": [
    {
     "data": {
      "image/png": "[encoded data removed]",
      "text/plain": [
       "<Figure size 432x288 with 1 Axes>"
      ]
     },
     "metadata": {
      "needs_background": "light"
     },
     "output_type": "display_data"
    }
   ],
   "source": [
    "pim.show(m)"
   ]
  },
  {
   "cell_type": "code",
   "execution_count": null,
   "metadata": {},
   "outputs": [],
   "source": []
  }
 ],
 "metadata": {
  "kernelspec": {
   "display_name": "Python 3",
   "language": "python",
   "name": "python3"
  },
  "language_info": {
   "codemirror_mode": {
    "name": "ipython",
    "version": 3
   },
   "file_extension": ".py",
   "mimetype": "text/x-python",
   "name": "python",
   "nbconvert_exporter": "python",
   "pygments_lexer": "ipython3",
   "version": "3.6.8"
  }
 },
 "nbformat": 4,
 "nbformat_minor": 2
}
