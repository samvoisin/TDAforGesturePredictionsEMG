{
 "cells": [
  {
   "cell_type": "code",
   "execution_count": 1,
   "metadata": {},
   "outputs": [],
   "source": [
    "import numpy as np\n",
    "import matplotlib.pyplot as plt"
   ]
  },
  {
   "cell_type": "code",
   "execution_count": 2,
   "metadata": {},
   "outputs": [],
   "source": [
    "a = np.arange(40).reshape(-1, 4)\n",
    "a = np.c_[np.arange(10), a]"
   ]
  },
  {
   "cell_type": "code",
   "execution_count": 3,
   "metadata": {},
   "outputs": [
    {
     "data": {
      "text/plain": [
       "array([[ 0,  0,  1,  2,  3],\n",
       "       [ 1,  4,  5,  6,  7],\n",
       "       [ 2,  8,  9, 10, 11],\n",
       "       [ 3, 12, 13, 14, 15],\n",
       "       [ 4, 16, 17, 18, 19],\n",
       "       [ 5, 20, 21, 22, 23],\n",
       "       [ 6, 24, 25, 26, 27],\n",
       "       [ 7, 28, 29, 30, 31],\n",
       "       [ 8, 32, 33, 34, 35],\n",
       "       [ 9, 36, 37, 38, 39]])"
      ]
     },
     "execution_count": 3,
     "metadata": {},
     "output_type": "execute_result"
    }
   ],
   "source": [
    "a"
   ]
  },
  {
   "cell_type": "code",
   "execution_count": 4,
   "metadata": {},
   "outputs": [],
   "source": [
    "def root_mean_sq(a):\n",
    "    return (sum(a**2)/a.size)**(0.5)"
   ]
  },
  {
   "cell_type": "code",
   "execution_count": 5,
   "metadata": {},
   "outputs": [],
   "source": [
    "def rms_smooth(a, N, stp):\n",
    "    \"\"\"\n",
    "    Perform root-mean-squares smoothing on the data set\n",
    "    This creates data_set_smooth attribute\n",
    "    N - number of samples in time window\n",
    "    stp - step size\n",
    "    \"\"\"\n",
    "    nr, nc = a.shape\n",
    "    n_slides = (a[:, 1].size - (N - stp)) / stp # num windows\n",
    "    ### initialize sliding window variables ###\n",
    "    res_sz = int(n_slides) # truncate num of slides for result size\n",
    "    res = np.zeros(shape=(res_sz, nc))\n",
    "    s = 0 # window start\n",
    "    e = N # window end\n",
    "    for n, v in enumerate(res):\n",
    "        v[0] = a[e, 0]\n",
    "        v[1:] = np.apply_along_axis(root_mean_sq, 0, a[s:e, 1:])\n",
    "        s += stp\n",
    "        e += stp\n",
    "    return res"
   ]
  },
  {
   "cell_type": "code",
   "execution_count": 6,
   "metadata": {},
   "outputs": [
    {
     "data": {
      "text/plain": [
       "array([[ 3.        ,  5.16397779,  5.97215762,  6.83130051,  7.72442015],\n",
       "       [ 5.        , 12.4365054 , 13.40397951, 14.37590577, 15.35143859],\n",
       "       [ 7.        , 20.2649122 , 21.25245084, 22.24110309, 23.23072678],\n",
       "       [ 9.        , 28.18983268, 29.18332857, 30.17725413, 31.17156824]])"
      ]
     },
     "execution_count": 6,
     "metadata": {},
     "output_type": "execute_result"
    }
   ],
   "source": [
    "rms_smooth(a, 3, 2)"
   ]
  },
  {
   "cell_type": "markdown",
   "metadata": {},
   "source": [
    "---"
   ]
  },
  {
   "cell_type": "code",
   "execution_count": 7,
   "metadata": {},
   "outputs": [],
   "source": [
    "from data_cube import DataCube"
   ]
  },
  {
   "cell_type": "code",
   "execution_count": 8,
   "metadata": {},
   "outputs": [],
   "source": [
    "dc = DataCube(\n",
    "    subjects=\"all\",\n",
    "    gestures=[\"1\", \"2\", \"3\", \"4\"],\n",
    "    data_grp=\"subsample\"\n",
    ")\n",
    "dc.load_data()"
   ]
  },
  {
   "cell_type": "code",
   "execution_count": 9,
   "metadata": {},
   "outputs": [],
   "source": [
    "dc.rms_smooth(20, 5)"
   ]
  },
  {
   "cell_type": "code",
   "execution_count": 10,
   "metadata": {},
   "outputs": [
    {
     "data": {
      "image/png": "[encoded data removed]",
      "text/plain": [
       "<Figure size 432x288 with 1 Axes>"
      ]
     },
     "metadata": {
      "needs_background": "light"
     },
     "output_type": "display_data"
    }
   ],
   "source": [
    "plt.plot(dc.data_set_smooth[\"20\"][\"1_0_2\"][:, 0],\n",
    "         dc.data_set_smooth[\"20\"][\"1_0_2\"][:, 3])\n",
    "plt.show()"
   ]
  },
  {
   "cell_type": "code",
   "execution_count": null,
   "metadata": {},
   "outputs": [],
   "source": []
  }
 ],
 "metadata": {
  "kernelspec": {
   "display_name": "Python 3",
   "language": "python",
   "name": "python3"
  },
  "language_info": {
   "codemirror_mode": {
    "name": "ipython",
    "version": 3
   },
   "file_extension": ".py",
   "mimetype": "text/x-python",
   "name": "python",
   "nbconvert_exporter": "python",
   "pygments_lexer": "ipython3",
   "version": "3.6.8"
  }
 },
 "nbformat": 4,
 "nbformat_minor": 2
}
