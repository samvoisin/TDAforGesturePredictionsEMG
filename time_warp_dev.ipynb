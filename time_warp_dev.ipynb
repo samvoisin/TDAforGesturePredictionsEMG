{
 "cells": [
  {
   "cell_type": "code",
   "execution_count": 9,
   "metadata": {},
   "outputs": [],
   "source": [
    "import numpy as np\n",
    "import tslearn as ts\n",
    "from numpy import linalg as la\n",
    "import matplotlib.pyplot as plt\n",
    "\n",
    "from tslearn.metrics import cdist_dtw\n",
    "\n",
    "from data_cube import DataCube"
   ]
  },
  {
   "cell_type": "code",
   "execution_count": 10,
   "metadata": {},
   "outputs": [],
   "source": [
    "dc = DataCube(subjects=[\"10\", \"20\"],\n",
    "              gestures=[\"1\", \"2\", \"3\", \"4\"],\n",
    "              channels=[\"2\", \"4\", \"5\", \"6\", \"8\"],\n",
    "              data_grp=\"parsed\")\n",
    "dc.load_data()\n",
    "dc.get_max_obs()\n",
    "dc.get_min_obs()"
   ]
  },
  {
   "cell_type": "code",
   "execution_count": 14,
   "metadata": {},
   "outputs": [],
   "source": [
    "t1 = dc.data_set[\"10\"][\"2_0_1\"]\n",
    "t1_ts = t1[:, 1:2]\n",
    "t2 = dc.data_set[\"20\"][\"2_0_1\"]\n",
    "t2_ts = t2[:, 1:2]"
   ]
  },
  {
   "cell_type": "code",
   "execution_count": null,
   "metadata": {},
   "outputs": [],
   "source": [
    "cdist_dtw(t1_ts, t2_ts)"
   ]
  },
  {
   "cell_type": "code",
   "execution_count": null,
   "metadata": {},
   "outputs": [],
   "source": []
  }
 ],
 "metadata": {
  "kernelspec": {
   "display_name": "Python 3",
   "language": "python",
   "name": "python3"
  },
  "language_info": {
   "codemirror_mode": {
    "name": "ipython",
    "version": 3
   },
   "file_extension": ".py",
   "mimetype": "text/x-python",
   "name": "python",
   "nbconvert_exporter": "python",
   "pygments_lexer": "ipython3",
   "version": "3.7.2"
  }
 },
 "nbformat": 4,
 "nbformat_minor": 2
}
