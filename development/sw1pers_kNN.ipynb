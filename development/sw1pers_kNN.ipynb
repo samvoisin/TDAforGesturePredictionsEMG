{
 "cells": [
  {
   "cell_type": "code",
   "execution_count": null,
   "metadata": {},
   "outputs": [],
   "source": [
    "import numpy as np\n",
    "\n",
    "import matplotlib.pyplot as plt\n",
    "\n",
    "from sklearn.decomposition import PCA\n",
    "\n",
    "from scipy.interpolate import interp1d\n",
    "\n",
    "from ripser import ripser\n",
    "from persim import plot_diagrams\n",
    "from persim import wasserstein, wasserstein_matching\n",
    "from persim import bottleneck, bottleneck_matching"
   ]
  },
  {
   "cell_type": "code",
   "execution_count": null,
   "metadata": {},
   "outputs": [],
   "source": [
    "from data_cube import DataCube\n",
    "from TDA_helper_fcns import sublevel_set_time_series_dist"
   ]
  },
  {
   "cell_type": "code",
   "execution_count": null,
   "metadata": {},
   "outputs": [],
   "source": [
    "dc = DataCube(subjects=\"all\",\n",
    "              gestures=\"all\",\n",
    "              channels=[\"2\", \"4\", \"5\", \"6\", \"8\"],\n",
    "              data_grp=\"parsed\")\n",
    "\n",
    "dc.load_data()\n",
    "dc.normalize_modalities()\n",
    "dc.rms_smooth(100, 50)\n",
    "dc.interpolate_modalities()"
   ]
  },
  {
   "cell_type": "code",
   "execution_count": null,
   "metadata": {},
   "outputs": [],
   "source": [
    "test_sig = dc.data_set_interp[\"10\"][\"5_0_1\"]"
   ]
  },
  {
   "cell_type": "code",
   "execution_count": null,
   "metadata": {},
   "outputs": [],
   "source": [
    "# Setup the sliding window code\n",
    "def getSlidingWindow(x, dim, Tau, dT):\n",
    "    \"\"\"\n",
    "    x - The 1-D signal as a numpy array\n",
    "    dim - window size i.e. dimension of output vectors/ embedding dimension\n",
    "    Tau - skip between samples in a given window\n",
    "    dT - The distance to slide between windows\n",
    "    \"\"\"\n",
    "    N = len(x)\n",
    "    NWindows = int(np.floor((N-dim*Tau)/dT)) # The number of windows\n",
    "    if NWindows <= 0:\n",
    "        print(\"Error: Tau too large for signal extent\")\n",
    "        return np.zeros((3, dim))\n",
    "    X = np.zeros((NWindows, dim)) # Create a 2D array which will store all windows\n",
    "    idx = np.arange(N)\n",
    "    for i in range(NWindows):\n",
    "        # Figure out the indices of the samples in this window\n",
    "        idxx = dT*i + Tau*np.arange(dim) # index to sample on iteration i\n",
    "        start = int(np.floor(idxx[0]))\n",
    "        end = int(np.ceil(idxx[-1]))+2\n",
    "        if end >= len(x):\n",
    "            X = X[0:i, :]\n",
    "            break\n",
    "        # Do spline interpolation to fill in this window, and place\n",
    "        # it in the resulting array\n",
    "        f = interp1d(idx[start:end+1], x[start:end+1], kind=\"cubic\")\n",
    "        X[i, :] = f(idxx)\n",
    "    return X"
   ]
  },
  {
   "cell_type": "code",
   "execution_count": null,
   "metadata": {},
   "outputs": [],
   "source": [
    "# Step 1: Setup the signal\n",
    "t = test_sig[:, 0]\n",
    "x = test_sig[:, 4]\n",
    "N = t.size"
   ]
  },
  {
   "cell_type": "code",
   "execution_count": null,
   "metadata": {},
   "outputs": [],
   "source": [
    "plt.plot(t,x)\n",
    "plt.show()"
   ]
  },
  {
   "cell_type": "code",
   "execution_count": null,
   "metadata": {},
   "outputs": [],
   "source": [
    "# Step 2: Do a sliding window embedding\n",
    "dim = 30\n",
    "Tau = 10\n",
    "dT = 10\n",
    "X = getSlidingWindow(x, dim, Tau, dT)\n",
    "extent = Tau*dim"
   ]
  },
  {
   "cell_type": "code",
   "execution_count": null,
   "metadata": {},
   "outputs": [],
   "source": [
    "# Step 3a: Do Rips Filtration for sls\n",
    "sls = sublevel_set_time_series_dist(x) # LIMITING TO MODALITY 1\n",
    "PDs = ripser(sls, maxdim=1,distance_matrix=True)['dgms']\n",
    "I = PDs[1]"
   ]
  },
  {
   "cell_type": "code",
   "execution_count": null,
   "metadata": {},
   "outputs": [],
   "source": [
    "# plot sublevel-set PD\n",
    "# note that only 0-cycles exist\n",
    "plot_diagrams(PDs)"
   ]
  },
  {
   "cell_type": "code",
   "execution_count": null,
   "metadata": {},
   "outputs": [],
   "source": [
    "# Step 3b: Do Rips Filtration\n",
    "PDs = ripser(X, maxdim=1)['dgms']\n",
    "I = PDs[1]"
   ]
  },
  {
   "cell_type": "code",
   "execution_count": null,
   "metadata": {},
   "outputs": [],
   "source": [
    "# plot sliding window embedding PD\n",
    "plot_diagrams(PDs)"
   ]
  },
  {
   "cell_type": "code",
   "execution_count": null,
   "metadata": {},
   "outputs": [],
   "source": [
    "# Step 4: Perform PCA down to 2D for visualization\n",
    "pca = PCA(n_components = 2)\n",
    "Y = pca.fit_transform(X)\n",
    "eigs = pca.explained_variance_\n",
    "print(pca.explained_variance_ratio_.sum())"
   ]
  },
  {
   "cell_type": "code",
   "execution_count": null,
   "metadata": {},
   "outputs": [],
   "source": [
    "plt.scatter(Y[:,0],Y[:,1])\n",
    "plt.show()"
   ]
  },
  {
   "cell_type": "markdown",
   "metadata": {},
   "source": [
    "---"
   ]
  },
  {
   "cell_type": "code",
   "execution_count": null,
   "metadata": {},
   "outputs": [],
   "source": [
    "def tally_votes(votes):\n",
    "    \"\"\"\n",
    "    count up number of appearances of unique\n",
    "    elements in a numpy array\n",
    "    return element with most votes\n",
    "    \"\"\"\n",
    "    unq, cnts = np.unique(votes, return_counts=True)\n",
    "    d = dict(zip(cnts,unq))\n",
    "    return int(d[max(d.keys())])"
   ]
  },
  {
   "cell_type": "markdown",
   "metadata": {},
   "source": [
    "---"
   ]
  },
  {
   "cell_type": "code",
   "execution_count": null,
   "metadata": {},
   "outputs": [],
   "source": [
    "mod = 2 # limiting to 1 modality for now\n",
    "ts_lst = []\n",
    "pd_lab = []\n",
    "sbj_lab = []\n",
    "for s, gdict in dc.data_set_interp.items():\n",
    "    for g, a in gdict.items():\n",
    "        ts_lst.append(a[:,mod])\n",
    "        sbj_lab.append(s)\n",
    "        pd_lab.append(int(g[0]))\n",
    "        \n",
    "pd_lab = np.array(pd_lab)"
   ]
  },
  {
   "cell_type": "code",
   "execution_count": null,
   "metadata": {},
   "outputs": [],
   "source": [
    "dim = 30\n",
    "Tau = 5\n",
    "dT = 10\n",
    "\n",
    "pd_lst = []\n",
    "for i,ts in enumerate(ts_lst):\n",
    "    # sliding window embedding\n",
    "    X = getSlidingWindow(ts, dim, Tau, dT)\n",
    "    # compute homology groups of embedding\n",
    "    pd_lst.append(ripser(X, maxdim=1)['dgms'][1]) # H1 cycles"
   ]
  },
  {
   "cell_type": "code",
   "execution_count": null,
   "metadata": {},
   "outputs": [],
   "source": [
    "# Wasserstein distance\n",
    "N = len(pd_lab)\n",
    "dw_mat = np.zeros(shape=(N,N))\n",
    "for i in range(N):\n",
    "    for j in range(N):\n",
    "        if i <= j: continue # upper triangular only\n",
    "        dw_mat[i,j] = wasserstein(pd_lst[i],pd_lst[j])\n",
    "\n",
    "dw_mat = dw_mat + dw_mat.T"
   ]
  },
  {
   "cell_type": "code",
   "execution_count": null,
   "metadata": {},
   "outputs": [],
   "source": [
    "k = 1\n",
    "pred_lst = []\n",
    "for i in range(N):\n",
    "    kNN_idx = np.argsort(dw_mat[i,:])[1:k+1]\n",
    "    votes = pd_lab[kNN_idx]\n",
    "    pred_lst.append(tally_votes(votes))"
   ]
  },
  {
   "cell_type": "code",
   "execution_count": null,
   "metadata": {},
   "outputs": [],
   "source": [
    "sum(np.array(pred_lst) == pd_lab) / pd_lab.size"
   ]
  },
  {
   "cell_type": "code",
   "execution_count": null,
   "metadata": {},
   "outputs": [],
   "source": [
    "# bottleneck distance\n",
    "N = len(pd_lab)\n",
    "db_mat = np.zeros(shape=(N,N))\n",
    "for i in range(N):\n",
    "    for j in range(N):\n",
    "        if i <= j: continue # upper triangular only\n",
    "        db_mat[i,j] = bottleneck(pd_lst[i],pd_lst[j])\n",
    "\n",
    "dw_mat = db_mat + db_mat.T"
   ]
  },
  {
   "cell_type": "code",
   "execution_count": null,
   "metadata": {},
   "outputs": [],
   "source": [
    "k = 1\n",
    "pred_lst = []\n",
    "for i in range(N):\n",
    "    kNN_idx = np.argsort(db_mat[i,:])[1:k+1]\n",
    "    votes = pd_lab[kNN_idx]\n",
    "    pred_lst.append(tally_votes(votes))"
   ]
  },
  {
   "cell_type": "code",
   "execution_count": null,
   "metadata": {},
   "outputs": [],
   "source": [
    "sum(np.array(pred_lst) == pd_lab) / pd_lab.size"
   ]
  },
  {
   "cell_type": "markdown",
   "metadata": {},
   "source": [
    "---"
   ]
  },
  {
   "cell_type": "code",
   "execution_count": null,
   "metadata": {},
   "outputs": [],
   "source": [
    "def make_plots(ts,emb,PDs):\n",
    "    \"\"\"\n",
    "    x - raw time series (1D numpy array)\n",
    "    emb - sliding window embedding reduced to 2D (2D numpy array)\n",
    "    PDs - persistence diagrams (H0 and H1)\n",
    "    \"\"\"\n",
    "    plt.figure(figsize=(12,6))\n",
    "    plt.subplot(131)\n",
    "    plt.scatter(np.arange(ts.size),ts)\n",
    "    \n",
    "    plt.subplot(132)\n",
    "    plt.scatter(emb[:,0],emb[:,1])\n",
    "    \n",
    "    plt.subplot(133)\n",
    "    plot_diagrams(PDs)\n",
    "    \n",
    "    plt.show()"
   ]
  },
  {
   "cell_type": "code",
   "execution_count": null,
   "metadata": {},
   "outputs": [],
   "source": [
    "dim = 30\n",
    "Tau = 10\n",
    "dT = 10\n",
    "\n",
    "pca = PCA(n_components = 2)\n",
    "pov_lst = []\n",
    "\n",
    "for i,ts in enumerate(ts_lst):\n",
    "    print(f\"Subject {sbj_lab[i]}; gesture {gest_lab[i]}\")\n",
    "    # sliding window embedding\n",
    "    X = getSlidingWindow(ts, dim, Tau, dT)\n",
    "    # perform PCA on embedding\n",
    "    Y = pca.fit_transform(X)\n",
    "    pov = pca.explained_variance_ratio_.sum()\n",
    "    pov_lst.append(pov)\n",
    "    print(f\"2 component PoV: {pov}\")\n",
    "    # compute homology groups of embedding\n",
    "    PDs = ripser(X, maxdim=1)['dgms']\n",
    "    \n",
    "    # generate plots\n",
    "    make_plots(ts,Y,PDs)"
   ]
  }
 ],
 "metadata": {
  "kernelspec": {
   "display_name": "Python 3",
   "language": "python",
   "name": "python3"
  },
  "language_info": {
   "codemirror_mode": {
    "name": "ipython",
    "version": 3
   },
   "file_extension": ".py",
   "mimetype": "text/x-python",
   "name": "python",
   "nbconvert_exporter": "python",
   "pygments_lexer": "ipython3",
   "version": "3.7.2"
  }
 },
 "nbformat": 4,
 "nbformat_minor": 2
}
