{
 "cells": [
  {
   "cell_type": "code",
   "execution_count": 9,
   "metadata": {},
   "outputs": [],
   "source": [
    "import numpy as np\n",
    "from numpy import linalg as la\n",
    "import pandas as pd\n",
    "import matplotlib.pyplot as plt\n",
    "import seaborn as sns\n",
    "\n",
    "from persim import PersImage"
   ]
  },
  {
   "cell_type": "code",
   "execution_count": 2,
   "metadata": {},
   "outputs": [
    {
     "data": {
      "text/html": [
       "<div>\n",
       "<style scoped>\n",
       "    .dataframe tbody tr th:only-of-type {\n",
       "        vertical-align: middle;\n",
       "    }\n",
       "\n",
       "    .dataframe tbody tr th {\n",
       "        vertical-align: top;\n",
       "    }\n",
       "\n",
       "    .dataframe thead th {\n",
       "        text-align: right;\n",
       "    }\n",
       "</style>\n",
       "<table border=\"1\" class=\"dataframe\">\n",
       "  <thead>\n",
       "    <tr style=\"text-align: right;\">\n",
       "      <th></th>\n",
       "      <th>px0</th>\n",
       "      <th>px1</th>\n",
       "      <th>px2</th>\n",
       "      <th>px3</th>\n",
       "      <th>px4</th>\n",
       "      <th>px5</th>\n",
       "      <th>px6</th>\n",
       "      <th>px7</th>\n",
       "      <th>px8</th>\n",
       "      <th>px9</th>\n",
       "      <th>...</th>\n",
       "      <th>px392</th>\n",
       "      <th>px393</th>\n",
       "      <th>px394</th>\n",
       "      <th>px395</th>\n",
       "      <th>px396</th>\n",
       "      <th>px397</th>\n",
       "      <th>px398</th>\n",
       "      <th>px399</th>\n",
       "      <th>gest</th>\n",
       "      <th>subj</th>\n",
       "    </tr>\n",
       "  </thead>\n",
       "  <tbody>\n",
       "    <tr>\n",
       "      <th>0</th>\n",
       "      <td>0.0</td>\n",
       "      <td>0.0</td>\n",
       "      <td>0.0</td>\n",
       "      <td>0.0</td>\n",
       "      <td>0.0</td>\n",
       "      <td>0.0</td>\n",
       "      <td>0.0</td>\n",
       "      <td>0.0</td>\n",
       "      <td>0.0</td>\n",
       "      <td>0.0</td>\n",
       "      <td>...</td>\n",
       "      <td>0.002271</td>\n",
       "      <td>0.000007</td>\n",
       "      <td>1.973388e-02</td>\n",
       "      <td>8.235150e-02</td>\n",
       "      <td>0.054174</td>\n",
       "      <td>0.000297</td>\n",
       "      <td>9.576168e-04</td>\n",
       "      <td>1.096862e-03</td>\n",
       "      <td>5.0</td>\n",
       "      <td>30.0</td>\n",
       "    </tr>\n",
       "    <tr>\n",
       "      <th>1</th>\n",
       "      <td>0.0</td>\n",
       "      <td>0.0</td>\n",
       "      <td>0.0</td>\n",
       "      <td>0.0</td>\n",
       "      <td>0.0</td>\n",
       "      <td>0.0</td>\n",
       "      <td>0.0</td>\n",
       "      <td>0.0</td>\n",
       "      <td>0.0</td>\n",
       "      <td>0.0</td>\n",
       "      <td>...</td>\n",
       "      <td>0.000000</td>\n",
       "      <td>0.000000</td>\n",
       "      <td>0.000000e+00</td>\n",
       "      <td>0.000000e+00</td>\n",
       "      <td>0.000000</td>\n",
       "      <td>0.000000</td>\n",
       "      <td>0.000000e+00</td>\n",
       "      <td>0.000000e+00</td>\n",
       "      <td>3.0</td>\n",
       "      <td>30.0</td>\n",
       "    </tr>\n",
       "    <tr>\n",
       "      <th>2</th>\n",
       "      <td>0.0</td>\n",
       "      <td>0.0</td>\n",
       "      <td>0.0</td>\n",
       "      <td>0.0</td>\n",
       "      <td>0.0</td>\n",
       "      <td>0.0</td>\n",
       "      <td>0.0</td>\n",
       "      <td>0.0</td>\n",
       "      <td>0.0</td>\n",
       "      <td>0.0</td>\n",
       "      <td>...</td>\n",
       "      <td>0.093948</td>\n",
       "      <td>0.000150</td>\n",
       "      <td>3.287840e-11</td>\n",
       "      <td>0.000000e+00</td>\n",
       "      <td>0.000000</td>\n",
       "      <td>0.000000</td>\n",
       "      <td>0.000000e+00</td>\n",
       "      <td>0.000000e+00</td>\n",
       "      <td>4.0</td>\n",
       "      <td>30.0</td>\n",
       "    </tr>\n",
       "    <tr>\n",
       "      <th>3</th>\n",
       "      <td>0.0</td>\n",
       "      <td>0.0</td>\n",
       "      <td>0.0</td>\n",
       "      <td>0.0</td>\n",
       "      <td>0.0</td>\n",
       "      <td>0.0</td>\n",
       "      <td>0.0</td>\n",
       "      <td>0.0</td>\n",
       "      <td>0.0</td>\n",
       "      <td>0.0</td>\n",
       "      <td>...</td>\n",
       "      <td>0.430686</td>\n",
       "      <td>0.253208</td>\n",
       "      <td>8.314040e-02</td>\n",
       "      <td>1.197688e-01</td>\n",
       "      <td>0.035306</td>\n",
       "      <td>0.000668</td>\n",
       "      <td>4.911566e-08</td>\n",
       "      <td>1.071083e-10</td>\n",
       "      <td>2.0</td>\n",
       "      <td>30.0</td>\n",
       "    </tr>\n",
       "    <tr>\n",
       "      <th>4</th>\n",
       "      <td>0.0</td>\n",
       "      <td>0.0</td>\n",
       "      <td>0.0</td>\n",
       "      <td>0.0</td>\n",
       "      <td>0.0</td>\n",
       "      <td>0.0</td>\n",
       "      <td>0.0</td>\n",
       "      <td>0.0</td>\n",
       "      <td>0.0</td>\n",
       "      <td>0.0</td>\n",
       "      <td>...</td>\n",
       "      <td>0.013055</td>\n",
       "      <td>0.027899</td>\n",
       "      <td>9.637778e-05</td>\n",
       "      <td>2.980224e-11</td>\n",
       "      <td>0.000000</td>\n",
       "      <td>0.000000</td>\n",
       "      <td>0.000000e+00</td>\n",
       "      <td>0.000000e+00</td>\n",
       "      <td>4.0</td>\n",
       "      <td>30.0</td>\n",
       "    </tr>\n",
       "  </tbody>\n",
       "</table>\n",
       "<p>5 rows × 402 columns</p>\n",
       "</div>"
      ],
      "text/plain": [
       "   px0  px1  px2  px3  px4  px5  px6  px7  px8  px9  ...      px392     px393  \\\n",
       "0  0.0  0.0  0.0  0.0  0.0  0.0  0.0  0.0  0.0  0.0  ...   0.002271  0.000007   \n",
       "1  0.0  0.0  0.0  0.0  0.0  0.0  0.0  0.0  0.0  0.0  ...   0.000000  0.000000   \n",
       "2  0.0  0.0  0.0  0.0  0.0  0.0  0.0  0.0  0.0  0.0  ...   0.093948  0.000150   \n",
       "3  0.0  0.0  0.0  0.0  0.0  0.0  0.0  0.0  0.0  0.0  ...   0.430686  0.253208   \n",
       "4  0.0  0.0  0.0  0.0  0.0  0.0  0.0  0.0  0.0  0.0  ...   0.013055  0.027899   \n",
       "\n",
       "          px394         px395     px396     px397         px398         px399  \\\n",
       "0  1.973388e-02  8.235150e-02  0.054174  0.000297  9.576168e-04  1.096862e-03   \n",
       "1  0.000000e+00  0.000000e+00  0.000000  0.000000  0.000000e+00  0.000000e+00   \n",
       "2  3.287840e-11  0.000000e+00  0.000000  0.000000  0.000000e+00  0.000000e+00   \n",
       "3  8.314040e-02  1.197688e-01  0.035306  0.000668  4.911566e-08  1.071083e-10   \n",
       "4  9.637778e-05  2.980224e-11  0.000000  0.000000  0.000000e+00  0.000000e+00   \n",
       "\n",
       "   gest  subj  \n",
       "0   5.0  30.0  \n",
       "1   3.0  30.0  \n",
       "2   4.0  30.0  \n",
       "3   2.0  30.0  \n",
       "4   4.0  30.0  \n",
       "\n",
       "[5 rows x 402 columns]"
      ]
     },
     "execution_count": 2,
     "metadata": {},
     "output_type": "execute_result"
    }
   ],
   "source": [
    "pim_df = pd.read_csv(\"./pim_vectors.csv\")\n",
    "pim_df.head()"
   ]
  },
  {
   "cell_type": "code",
   "execution_count": 26,
   "metadata": {},
   "outputs": [],
   "source": [
    "evals = spect[0]"
   ]
  },
  {
   "cell_type": "code",
   "execution_count": 28,
   "metadata": {},
   "outputs": [],
   "source": [
    "evals.sort()"
   ]
  },
  {
   "cell_type": "code",
   "execution_count": 30,
   "metadata": {},
   "outputs": [
    {
     "data": {
      "text/plain": [
       "(18674.30775270566+0j)"
      ]
     },
     "execution_count": 30,
     "metadata": {},
     "output_type": "execute_result"
    }
   ],
   "source": [
    "evals[-1]"
   ]
  },
  {
   "cell_type": "code",
   "execution_count": 10,
   "metadata": {},
   "outputs": [
    {
     "name": "stdout",
     "output_type": "stream",
     "text": [
      "1th eigenvalue: 7.133324556949406e-85\n",
      "2th eigenvalue: 18674.30775270566\n",
      "3th eigenvalue: 7502.917251982413\n",
      "4th eigenvalue: 6790.02867990441\n",
      "5th eigenvalue: 4430.469236458929\n",
      "6th eigenvalue: 2851.071529924472\n",
      "7th eigenvalue: 1711.0635665290113\n",
      "8th eigenvalue: 908.9756109882408\n",
      "9th eigenvalue: 535.3978568821021\n",
      "10th eigenvalue: 344.8193318777039\n",
      "Percent of Variation: (0.5706328770882787+0j)\n"
     ]
    },
    {
     "data": {
      "image/png": "[encoded data removed]",
      "text/plain": [
       "<Figure size 432x288 with 1 Axes>"
      ]
     },
     "metadata": {
      "needs_background": "light"
     },
     "output_type": "display_data"
    }
   ],
   "source": [
    "pims = pim_df.values[:, :-2] # persistence image vectors\n",
    "pimcov = pims.T @ pims\n",
    "\n",
    "spect = la.eig(pimcov)\n",
    "\n",
    "# percent of var exp\n",
    "for n, i in enumerate(spect[0][:10]):\n",
    "    print(f\"{n+1}th eigenvalue: {i.real}\")\n",
    "\n",
    "print(f\"Percent of Variation: {sum(spect[0][1:3]) / sum(spect[0])}\")\n",
    "\n",
    "eigbase = spect[1][:, 1:3].real\n",
    "\n",
    "PCApims = pims @ eigbase\n",
    "\n",
    "pca_df = pd.DataFrame(np.c_[PCApims, pim_df.values[:, -2]])\n",
    "pca_df.columns = [\"V1\", \"V2\", \"gest\"]\n",
    "pca_df.gest = pca_df.gest.astype(\"int32\")\n",
    "#pca_df.gest = pca_df.gest.astype(\"category\")\n",
    "\n",
    "sns.scatterplot(\"V1\", \"V2\", hue=\"gest\", data=pca_df)\n",
    "plt.show()"
   ]
  },
  {
   "cell_type": "code",
   "execution_count": 10,
   "metadata": {},
   "outputs": [],
   "source": [
    "g5=pim_df.iloc[0,:-2].values.reshape(20, 20)\n",
    "g3=pim_df.iloc[1,:-2].values.reshape(20, 20)\n",
    "g4=pim_df.iloc[2,:-2].values.reshape(20, 20)\n",
    "g2=pim_df.iloc[3,:-2].values.reshape(20, 20)\n",
    "g2n=pim_df.iloc[3,:-2].values.reshape(20, 20)"
   ]
  },
  {
   "cell_type": "code",
   "execution_count": 11,
   "metadata": {},
   "outputs": [],
   "source": [
    "pim = PersImage(spread=1e-5, pixels=[20,20], verbose=False)"
   ]
  },
  {
   "cell_type": "code",
   "execution_count": 12,
   "metadata": {},
   "outputs": [
    {
     "data": {
      "image/png": "[encoded data removed]",
      "text/plain": [
       "<Figure size 432x288 with 1 Axes>"
      ]
     },
     "metadata": {
      "needs_background": "light"
     },
     "output_type": "display_data"
    }
   ],
   "source": [
    "pim.show(g5)"
   ]
  },
  {
   "cell_type": "code",
   "execution_count": 13,
   "metadata": {},
   "outputs": [
    {
     "data": {
      "image/png": "[encoded data removed]",
      "text/plain": [
       "<Figure size 432x288 with 1 Axes>"
      ]
     },
     "metadata": {
      "needs_background": "light"
     },
     "output_type": "display_data"
    }
   ],
   "source": [
    "pim.show(g3)"
   ]
  },
  {
   "cell_type": "code",
   "execution_count": 14,
   "metadata": {},
   "outputs": [
    {
     "data": {
      "image/png": "[encoded data removed]",
      "text/plain": [
       "<Figure size 432x288 with 1 Axes>"
      ]
     },
     "metadata": {
      "needs_background": "light"
     },
     "output_type": "display_data"
    }
   ],
   "source": [
    "pim.show(g4)"
   ]
  },
  {
   "cell_type": "code",
   "execution_count": 11,
   "metadata": {},
   "outputs": [
    {
     "data": {
      "image/png": "[encoded data removed]",
      "text/plain": [
       "<Figure size 432x288 with 1 Axes>"
      ]
     },
     "metadata": {
      "needs_background": "light"
     },
     "output_type": "display_data"
    }
   ],
   "source": [
    "pim.show(g2)"
   ]
  },
  {
   "cell_type": "code",
   "execution_count": null,
   "metadata": {},
   "outputs": [],
   "source": []
  }
 ],
 "metadata": {
  "kernelspec": {
   "display_name": "Python 3",
   "language": "python",
   "name": "python3"
  },
  "language_info": {
   "codemirror_mode": {
    "name": "ipython",
    "version": 3
   },
   "file_extension": ".py",
   "mimetype": "text/x-python",
   "name": "python",
   "nbconvert_exporter": "python",
   "pygments_lexer": "ipython3",
   "version": "3.6.8"
  }
 },
 "nbformat": 4,
 "nbformat_minor": 2
}
