{
 "cells": [
  {
   "cell_type": "code",
   "execution_count": 1,
   "metadata": {},
   "outputs": [],
   "source": [
    "import numpy as np\n",
    "import pandas as pd\n",
    "import os"
   ]
  },
  {
   "cell_type": "code",
   "execution_count": null,
   "metadata": {},
   "outputs": [],
   "source": [
    "def load_data(subjects = \"all\", gestures = \"all\", dataset = \"parsed\"):\n",
    "    \"\"\"load data set from master (i.e. raw) or parsed set\n",
    "    if subject number is specified (iterable) load just that (those) subject(s)\n",
    "    if gesture is specified (iterable) load just that (those) gesture number(s)\"\"\"\n",
    "    \n",
    "    subj_lvl_dir = \"./Data/EMG_data_for_gestures-\" + dataset\n",
    "    \n",
    "    if subject == \"all\":\n",
    "        subjs = os.listdir(subj_lvl_dir)\n",
    "    else:\n",
    "        subjs = subjects\n",
    "    \n",
    "    if gesture == \"all\":\n",
    "        gests = set(1, 2, 3, 4, 5, 6)\n",
    "    else:\n",
    "        gests = gestures\n",
    "        \n",
    "    "
   ]
  }
 ],
 "metadata": {
  "kernelspec": {
   "display_name": "Python 3",
   "language": "python",
   "name": "python3"
  },
  "language_info": {
   "codemirror_mode": {
    "name": "ipython",
    "version": 3
   },
   "file_extension": ".py",
   "mimetype": "text/x-python",
   "name": "python",
   "nbconvert_exporter": "python",
   "pygments_lexer": "ipython3",
   "version": "3.6.8"
  }
 },
 "nbformat": 4,
 "nbformat_minor": 2
}
