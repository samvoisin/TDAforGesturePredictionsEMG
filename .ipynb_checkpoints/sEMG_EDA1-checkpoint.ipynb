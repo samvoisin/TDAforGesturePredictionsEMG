{
 "cells": [
  {
   "cell_type": "code",
   "execution_count": 1,
   "metadata": {},
   "outputs": [],
   "source": [
    "import numpy as np\n",
    "import matplotlib.pyplot as plt\n",
    "\n",
    "from scipy import sparse\n",
    "from ripser import ripser\n",
    "from persim import plot_diagrams\n",
    "from persim import wasserstein, wasserstein_matching\n",
    "from persim import bottleneck, bottleneck_matching\n",
    "\n",
    "import warnings\n",
    "warnings.filterwarnings('ignore')"
   ]
  },
  {
   "cell_type": "code",
   "execution_count": 2,
   "metadata": {},
   "outputs": [],
   "source": [
    "# import custom functions\n",
    "from TDA_helper_fcns import load_data, plot_gests, sublevel_set_time_series_dist\n",
    "from gen_all_pds import plot_ts_pd"
   ]
  },
  {
   "cell_type": "code",
   "execution_count": 3,
   "metadata": {},
   "outputs": [],
   "source": [
    "tst = load_data(subjects=[\"05\", \"11\", \"30\"])\n",
    "#plot_gests(\"05\", \"3_0_2\", tst, 1)"
   ]
  },
  {
   "cell_type": "markdown",
   "metadata": {},
   "source": [
    "---"
   ]
  },
  {
   "cell_type": "markdown",
   "metadata": {},
   "source": [
    "Check out Wasserstein and Bottleneck Lab and link below to Ripser docs"
   ]
  },
  {
   "cell_type": "markdown",
   "metadata": {},
   "source": [
    "https://ripser.scikit-tda.org/notebooks/Lower%20Star%20Time%20Series.html"
   ]
  },
  {
   "cell_type": "code",
   "execution_count": null,
   "metadata": {},
   "outputs": [],
   "source": [
    "# arbitrarily selecting a modality\n",
    "seq53 = tst[\"05\"][\"3_0_2\"][:200, 0:5]\n",
    "t = seq53[:, 0]\n",
    "y = seq53[:, 1]\n",
    "n = len(y)"
   ]
  },
  {
   "cell_type": "code",
   "execution_count": null,
   "metadata": {},
   "outputs": [],
   "source": [
    "plt.plot(t, y)\n",
    "plt.title(\"Subject 5; Gesture 3; Signal 1\")\n",
    "plt.xlabel(\"t\")\n",
    "plt.ylabel(\"kHz\")\n",
    "plt.show()"
   ]
  },
  {
   "cell_type": "code",
   "execution_count": null,
   "metadata": {},
   "outputs": [],
   "source": [
    "# compare each point of modality to its neighbor\n",
    "# return an array of the max value of the two\n",
    "maxY = np.maximum(y[0:-1], y[1:])\n",
    "sigDat = np.concatenate((maxY, y)) # signal data\n",
    "# sparse matrix indices\n",
    "I = np.concatenate((np.arange(n-1), np.arange(n)))\n",
    "J = np.concatenate((np.arange(1, n), np.arange(n)))"
   ]
  },
  {
   "cell_type": "code",
   "execution_count": null,
   "metadata": {},
   "outputs": [],
   "source": [
    "#dstMat = sparse.coo_matrix((sigDat, (I, J)), shape=(n, n)).toarray()\n",
    "dstMat = sparse.coo_matrix((sigDat, (I, J)), shape=(n, n)).tocsr()"
   ]
  },
  {
   "cell_type": "code",
   "execution_count": null,
   "metadata": {},
   "outputs": [],
   "source": [
    "# compute persistence diagram\n",
    "dgm0 = ripser(dstMat, maxdim=0, distance_matrix=True, metric=\"euclidian\")['dgms'][0]"
   ]
  },
  {
   "cell_type": "code",
   "execution_count": null,
   "metadata": {},
   "outputs": [],
   "source": [
    "allgrid = np.unique(dgm0.flatten())\n",
    "allgrid = allgrid[allgrid < np.inf]\n",
    "xs = np.unique(dgm0[:, 0]) # unique birth times\n",
    "ys = np.unique(dgm0[:, 1]) # unique death times\n",
    "ys = ys[ys < np.inf] # remove inf value"
   ]
  },
  {
   "cell_type": "code",
   "execution_count": null,
   "metadata": {},
   "outputs": [],
   "source": [
    "#Plot the time series and the persistence diagram\n",
    "plt.figure(figsize=(12, 6))\n",
    "#ylims = [-1, 6.5]\n",
    "plt.subplot(121)\n",
    "plt.plot(t, y)\n",
    "ax = plt.gca()\n",
    "ax.set_yticks(allgrid)\n",
    "ax.set_xticks([])\n",
    "#plt.ylim(ylims)\n",
    "plt.grid(linewidth=1, linestyle='--')\n",
    "plt.title(\"Subject 5; Gesture 3; Signal 1\")\n",
    "plt.xlabel(\"time (ms)\")\n",
    "\n",
    "plt.subplot(122)\n",
    "ax = plt.gca()\n",
    "ax.set_yticks(ys)\n",
    "ax.set_xticks(xs)\n",
    "#plt.ylim(ylims)\n",
    "plt.grid(linewidth=1, linestyle='--')\n",
    "plot_diagrams(dgm0, size=50)\n",
    "plt.title(\"Persistence Diagram\")\n",
    "\n",
    "plt.show()"
   ]
  },
  {
   "cell_type": "code",
   "execution_count": null,
   "metadata": {},
   "outputs": [],
   "source": [
    "dgm0"
   ]
  },
  {
   "cell_type": "code",
   "execution_count": null,
   "metadata": {},
   "outputs": [],
   "source": [
    "dgm0.flatten()"
   ]
  },
  {
   "cell_type": "markdown",
   "metadata": {},
   "source": [
    "---"
   ]
  },
  {
   "cell_type": "code",
   "execution_count": null,
   "metadata": {},
   "outputs": [],
   "source": [
    "def getLowerStarTimeSeriesD(x):\n",
    "    N = x.size\n",
    "    # Add edges between adjacent points in the time series, with the \"distance\" \n",
    "    # along the edge equal to the max value of the points it connects\n",
    "    I = np.arange(N-1)\n",
    "    J = np.arange(1, N)\n",
    "    V = np.maximum(x[0:-1], x[1::])\n",
    "    # Add vertex birth times along the diagonal of the distance matrix\n",
    "    I = np.concatenate((I, np.arange(N)))\n",
    "    J = np.concatenate((J, np.arange(N)))\n",
    "    V = np.concatenate((V, x))\n",
    "    #Create the sparse distance matrix\n",
    "    D = sparse.coo_matrix((V, (I, J)), shape=(N, N)).tocsr()\n",
    "    return D"
   ]
  },
  {
   "cell_type": "code",
   "execution_count": null,
   "metadata": {},
   "outputs": [],
   "source": [
    "Dy = getLowerStarTimeSeriesD(y)\n",
    "Iy = ripser(Dy, distance_matrix=True, maxdim=0)['dgms'][0]\n",
    "\n",
    "#plt.figure(figsize=(8, 4))\n",
    "plt.figure(figsize=(12, 6))\n",
    "plt.subplot(121)\n",
    "plt.plot(y)\n",
    "plt.subplot(122)\n",
    "plot_diagrams(Iy)\n",
    "\n",
    "#Remove point at infinity before bottleneck/wasserstein\n",
    "Iy = Iy[np.isfinite(Iy[:, 1]), :]\n",
    "\n",
    "#dw = wasserstein(Ix, Iy)\n",
    "#print(\"Elapsed time Wasserstein: %.3g\"%(time.time()-tic))\n",
    "#tic = time.time()\n",
    "#db = bottleneck(Ix, Iy)\n",
    "#print(\"Elapsed time Bottleneck: %.3g\"%(time.time()-tic))\n",
    "#plt.title(\"Wasserstein = %.3g, Bottleneck=%.3g\"%(dw, db))\n",
    "plt.show()"
   ]
  },
  {
   "cell_type": "code",
   "execution_count": null,
   "metadata": {},
   "outputs": [],
   "source": [
    "#Plot the time series and the persistence diagram\n",
    "plt.figure(figsize=(12, 6))\n",
    "#ylims = [-1, 6.5]\n",
    "plt.subplot(121)\n",
    "plt.plot(t, y)\n",
    "ax = plt.gca()\n",
    "#ax.set_yticks(allgrid)\n",
    "#ax.set_xticks([])\n",
    "#plt.ylim(ylims)\n",
    "plt.grid(linewidth=1, linestyle='--')\n",
    "plt.title(\"Subject 5; Gesture 3; Signal 1\")\n",
    "plt.xlabel(\"time (ms)\")\n",
    "\n",
    "plt.subplot(122)\n",
    "ax = plt.gca()\n",
    "#ax.set_yticks(ys)\n",
    "#ax.set_xticks(xs)\n",
    "#plt.ylim(ylims)\n",
    "plt.grid(linewidth=1, linestyle='--')\n",
    "plot_diagrams(dgm0, size=50)\n",
    "plt.title(\"Persistence Diagram\")\n",
    "\n",
    "plt.show()"
   ]
  },
  {
   "cell_type": "code",
   "execution_count": null,
   "metadata": {},
   "outputs": [],
   "source": []
  }
 ],
 "metadata": {
  "kernelspec": {
   "display_name": "Python 3",
   "language": "python",
   "name": "python3"
  },
  "language_info": {
   "codemirror_mode": {
    "name": "ipython",
    "version": 3
   },
   "file_extension": ".py",
   "mimetype": "text/x-python",
   "name": "python",
   "nbconvert_exporter": "python",
   "pygments_lexer": "ipython3",
   "version": "3.7.2"
  }
 },
 "nbformat": 4,
 "nbformat_minor": 2
}
