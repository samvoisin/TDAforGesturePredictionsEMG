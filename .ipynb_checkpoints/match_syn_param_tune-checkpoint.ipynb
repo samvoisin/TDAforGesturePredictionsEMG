{
 "cells": [
  {
   "cell_type": "code",
   "execution_count": 1,
   "metadata": {},
   "outputs": [],
   "source": [
    "import numpy as np\n",
    "from numpy import linalg as la\n",
    "import matplotlib.pyplot as plt\n",
    "from sklearn.preprocessing import scale\n",
    "\n",
    "from data_cube import DataCube\n",
    "from ssm import SSM\n",
    "from similarity_network_fusion import SNF"
   ]
  },
  {
   "cell_type": "code",
   "execution_count": 2,
   "metadata": {},
   "outputs": [],
   "source": [
    "from tslearn.metrics import dtw, dtw_path"
   ]
  },
  {
   "cell_type": "code",
   "execution_count": 3,
   "metadata": {},
   "outputs": [],
   "source": [
    "dc = DataCube(\n",
    "    subjects=\"all\",\n",
    "    gestures=[\"1\", \"2\", \"3\", \"4\"],\n",
    "    channels=[\"2\", \"4\", \"6\", \"8\"],\n",
    "    data_grp=\"parsed\"\n",
    ")\n",
    "dc.load_data()\n",
    "dc.rms_smooth(300, 20)\n",
    "dc.normalize_modalities(smooth=True)"
   ]
  },
  {
   "cell_type": "markdown",
   "metadata": {},
   "source": [
    "---"
   ]
  },
  {
   "cell_type": "code",
   "execution_count": 4,
   "metadata": {},
   "outputs": [],
   "source": [
    "def pass_synergist_channels(gnum, array):\n",
    "    \"\"\"\n",
    "    pass synergist only channels for each gesture\n",
    "    gnum - gesture number (i.e. 1, 2, 3, or 4)\n",
    "    array - entire array of all channels and time index\n",
    "    \"\"\"\n",
    "    synrgsts = {\"1\":[0, 1, 4], # channels 2 & 8; 0 is tidx\n",
    "                \"2\":[0, 2, 3], # channels 4 & 6; 0 is tidx\n",
    "                \"3\":[0, 1, 2], # channels 4 & 2; 0 is tidx\n",
    "                \"4\":[0, 3, 4]} # channels 6 & 8; 0 is tidx\n",
    "    synergist_array = np.c_[array[:, synrgsts[gnum][0]],\n",
    "                            array[:, synrgsts[gnum][1]],\n",
    "                            array[:, synrgsts[gnum][2]]]\n",
    "    return synergist_array"
   ]
  },
  {
   "cell_type": "markdown",
   "metadata": {},
   "source": [
    "---"
   ]
  },
  {
   "cell_type": "code",
   "execution_count": 5,
   "metadata": {
    "slideshow": {
     "slide_type": "-"
    }
   },
   "outputs": [],
   "source": [
    "def perform_fusions(k):\n",
    "    \n",
    "    dict_synerg = {}\n",
    "    for s, gdict in dc.data_set_smooth.items():\n",
    "        dict_synerg[s] = {}\n",
    "        for g, a in gdict.items():\n",
    "            snf = SNF(pass_synergist_channels(g[0], a), k=k)\n",
    "            # calculate graph weights to find knn\n",
    "            snf.calc_weights()\n",
    "            snf.normalize_weights()\n",
    "            # generate and normalize knn graphs\n",
    "            snf.calc_knn_weights()\n",
    "            snf.normalize_knn_weights()\n",
    "            # fuse graphs\n",
    "            snf.network_fusion(eta=0.2, iters=50)\n",
    "            # save template to dict\n",
    "            dict_synerg[s][g] = snf.fused_similarity_template\n",
    "            \n",
    "    return dict_synerg"
   ]
  },
  {
   "cell_type": "markdown",
   "metadata": {},
   "source": [
    "---"
   ]
  },
  {
   "cell_type": "code",
   "execution_count": 6,
   "metadata": {},
   "outputs": [],
   "source": [
    "def perform_pca():\n",
    "    decomp_syn = {}\n",
    "\n",
    "    for s, gdict in dict_synerg.items():\n",
    "        decomp_syn[s] = {}\n",
    "        for g, a in gdict.items():\n",
    "            evals, evecs = la.eig(a)\n",
    "            evals = evals.real\n",
    "            sort_idx = np.argsort(-evals)\n",
    "            evals = evals[sort_idx]\n",
    "            evecs = evecs[:, sort_idx]\n",
    "            # do PCA\n",
    "            res = a @ evecs[:, 0]\n",
    "            res = scale(res.real)\n",
    "            decomp_syn[s][g] = res\n",
    "            \n",
    "    return decomp_syn"
   ]
  },
  {
   "cell_type": "markdown",
   "metadata": {},
   "source": [
    "---"
   ]
  },
  {
   "cell_type": "code",
   "execution_count": 7,
   "metadata": {},
   "outputs": [
    {
     "name": "stdout",
     "output_type": "stream",
     "text": [
      "0.1\n",
      "0.15000000000000002\n",
      "0.2\n",
      "0.25\n",
      "0.3\n",
      "0.35\n",
      "0.39999999999999997\n",
      "0.44999999999999996\n",
      "0.49999999999999994\n",
      "0.5499999999999999\n",
      "0.6\n",
      "0.65\n",
      "0.7000000000000001\n",
      "0.7500000000000001\n",
      "0.8000000000000002\n",
      "0.8500000000000002\n",
      "0.9000000000000002\n",
      "0.9500000000000003\n"
     ]
    }
   ],
   "source": [
    "k = 0.1\n",
    "ct = 0\n",
    "\n",
    "acc = np.zeros(18)\n",
    "\n",
    "while k <= 1:\n",
    "    print(k)\n",
    "    pred_labs = []\n",
    "    # perform fusion and decomposition\n",
    "    dict_synerg = perform_fusions(k)\n",
    "    decomp_syn = perform_pca()\n",
    "    # organize vectors and true labels\n",
    "    true_lab = []\n",
    "    gest_vect = []\n",
    "    for s, gdict in decomp_syn.items():\n",
    "        for g, a in gdict.items():\n",
    "            true_lab.append(int(g[0]))\n",
    "            gest_vect.append(a)\n",
    "    # compare vectors and make predictions\n",
    "    for n, g1 in enumerate(gest_vect):\n",
    "        dtw_diffs = np.zeros(len(gest_vect))\n",
    "        for m, g2 in enumerate(gest_vect):\n",
    "            dtw_diffs[m] = dtw(g1, g2)\n",
    "        # 2nd closest vector is predicted label; 1st closest is self\n",
    "        dist_idx = np.argsort(dtw_diffs)\n",
    "        pred = true_lab[dist_idx[1]]\n",
    "        pred_labs.append(pred)\n",
    "        \n",
    "    acc[ct] = np.mean(true_lab == pred_labs)\n",
    "        \n",
    "    k += 0.05\n",
    "    ct += 1"
   ]
  },
  {
   "cell_type": "code",
   "execution_count": 8,
   "metadata": {},
   "outputs": [
    {
     "data": {
      "text/plain": [
       "[<matplotlib.lines.Line2D at 0x7fd1ac6764a8>]"
      ]
     },
     "execution_count": 8,
     "metadata": {},
     "output_type": "execute_result"
    },
    {
     "data": {
      "image/png": "[encoded data removed]",
      "text/plain": [
       "<Figure size 432x288 with 1 Axes>"
      ]
     },
     "metadata": {
      "needs_background": "light"
     },
     "output_type": "display_data"
    }
   ],
   "source": [
    "plt.plot(range(len(acc)), acc)"
   ]
  },
  {
   "cell_type": "code",
   "execution_count": null,
   "metadata": {},
   "outputs": [],
   "source": []
  }
 ],
 "metadata": {
  "kernelspec": {
   "display_name": "Python 3",
   "language": "python",
   "name": "python3"
  },
  "language_info": {
   "codemirror_mode": {
    "name": "ipython",
    "version": 3
   },
   "file_extension": ".py",
   "mimetype": "text/x-python",
   "name": "python",
   "nbconvert_exporter": "python",
   "pygments_lexer": "ipython3",
   "version": "3.6.8"
  }
 },
 "nbformat": 4,
 "nbformat_minor": 2
}
