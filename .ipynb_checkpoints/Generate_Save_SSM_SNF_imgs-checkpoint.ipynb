{
 "cells": [
  {
   "cell_type": "code",
   "execution_count": 1,
   "metadata": {},
   "outputs": [],
   "source": [
    "import numpy as np\n",
    "import scipy.linalg as la\n",
    "import matplotlib.pyplot as plt"
   ]
  },
  {
   "cell_type": "code",
   "execution_count": 2,
   "metadata": {},
   "outputs": [],
   "source": [
    "from scipy.ndimage import gaussian_filter\n",
    "from sklearn.manifold import Isomap\n",
    "from sklearn.model_selection import train_test_split\n",
    "from math import floor\n",
    "\n",
    "from data_cube import DataCube\n",
    "from similarity_network_fusion import SNF, cumulated_euc_ts"
   ]
  },
  {
   "cell_type": "code",
   "execution_count": 3,
   "metadata": {},
   "outputs": [],
   "source": [
    "import os"
   ]
  },
  {
   "cell_type": "code",
   "execution_count": 13,
   "metadata": {},
   "outputs": [],
   "source": [
    "img_types = [\"ssm\", \"iso\", \"snf\"]\n",
    "for img in img_types:\n",
    "    for i in range(4):\n",
    "        os.makedirs(\"./Data/\"+img+\"/\"+str(i), exist_ok=True)"
   ]
  },
  {
   "cell_type": "code",
   "execution_count": 4,
   "metadata": {},
   "outputs": [],
   "source": [
    "dc = DataCube(\n",
    "    subjects=\"all\",\n",
    "    gestures=[\"3\", \"4\", \"5\", \"6\"],\n",
    "    channels=[\"2\", \"4\", \"6\", \"8\"],\n",
    "    data_grp=\"parsed\")\n",
    "dc.load_data()\n",
    "dc.normalize_modalities()\n",
    "dc.rms_smooth(100, 50)\n",
    "\n",
    "dc.get_max_obs(smooth=True)"
   ]
  },
  {
   "cell_type": "code",
   "execution_count": 5,
   "metadata": {},
   "outputs": [],
   "source": [
    "subj_lab = []\n",
    "gest_lab = []\n",
    "arrays = []\n",
    "\n",
    "for s, gdict in dc.data_set_smooth.items():\n",
    "    for g, a in gdict.items():\n",
    "        subj_lab.append(s)\n",
    "        gest_lab.append(int(g[0]))\n",
    "        arrays.append(a[:, 1:-1])"
   ]
  },
  {
   "cell_type": "code",
   "execution_count": null,
   "metadata": {},
   "outputs": [],
   "source": [
    "# set to array and base at shift gestures down by 3 (i.e. to 0,1,2,3 instead of 3,4,5,6) for keras\n",
    "gest_lab = np.array(gest_lab) - 3"
   ]
  },
  {
   "cell_type": "markdown",
   "metadata": {},
   "source": [
    "---"
   ]
  },
  {
   "cell_type": "code",
   "execution_count": null,
   "metadata": {},
   "outputs": [],
   "source": [
    "def cumulated_ts_2(a1, a2):\n",
    "    \"\"\"\n",
    "    cumulated version of the time series w/ euclidean distance\n",
    "    in which we take the sum values over time as time increases\n",
    "    and then apply the chosen metric.\n",
    "    i, j - arrays of data points\n",
    "    \"\"\"\n",
    "    return la.norm(a1.sum(axis=0)-a2.sum(axis=0))"
   ]
  },
  {
   "cell_type": "markdown",
   "metadata": {},
   "source": [
    "---"
   ]
  },
  {
   "cell_type": "code",
   "execution_count": null,
   "metadata": {},
   "outputs": [],
   "source": [
    "# generate raw signal SSMs for each gesture\n",
    "raw_ssm_lst = [np.zeros(shape=(a.shape[0], a.shape[0])) for a in arrays]\n",
    "for n, a in enumerate(arrays):\n",
    "    for i in range(a.shape[0]):\n",
    "        for j in range(a.shape[0]):\n",
    "            raw_ssm_lst[n][i,j] = cumulated_ts_2(a[i,:],a[j,:])\n",
    "                \n",
    "# smooth SSM images\n",
    "for r, s in enumerate(raw_ssm_lst):\n",
    "    raw_ssm_lst[r] = gaussian_filter(s, sigma=1)"
   ]
  },
  {
   "cell_type": "code",
   "execution_count": null,
   "metadata": {},
   "outputs": [],
   "source": [
    "# generate ISOMAP SSMs for each gesture\n",
    "\n",
    "# initialize embedding\n",
    "iso = Isomap(n_neighbors=3, n_components=1)\n",
    "\n",
    "iso_ssm_lst = [np.zeros(shape=(a.shape[0], a.shape[0])) for a in arrays]\n",
    "for n, a in enumerate(arrays):\n",
    "    embed = iso.fit_transform(a)\n",
    "    for i in range(embed.size):\n",
    "        for j in range(embed.size):\n",
    "            iso_ssm_lst[n][i,j] = cumulated_ts_2(embed[i,:], embed[j,:])\n",
    "                \n",
    "# smooth SSM images\n",
    "for r, s in enumerate(iso_ssm_lst):\n",
    "    iso_ssm_lst[r] = gaussian_filter(s, sigma=1)"
   ]
  },
  {
   "cell_type": "code",
   "execution_count": null,
   "metadata": {},
   "outputs": [],
   "source": [
    "# generate SNF images for each gesture\n",
    "\n",
    "snf_lst = []\n",
    "for n, a in enumerate(arrays):\n",
    "    if n % 100 == 0: print(n)\n",
    "    snf = SNF(a, k=0.2, metric=cumulated_euc_ts)\n",
    "    # calculate graph weights to find knn\n",
    "    snf.calc_weights()\n",
    "    snf.normalize_weights()\n",
    "    # generate and normalize knn graphs\n",
    "    snf.calc_knn_weights()\n",
    "    snf.normalize_knn_weights()\n",
    "    # fuse graphs\n",
    "    snf.network_fusion(eta=1, iters=20)\n",
    "    # save template to dict\n",
    "    \n",
    "    \n",
    "\n",
    "# smooth SNF images\n",
    "for r, s in enumerate(snf_lst):\n",
    "    snf_lst[r] = gaussian_filter(s, sigma=1)"
   ]
  },
  {
   "cell_type": "code",
   "execution_count": null,
   "metadata": {},
   "outputs": [],
   "source": [
    "for s, gdict in dc.data_set_smooth.items():\n",
    "    for g, a in gdict.items():\n",
    "        snf = SNF(a, k=0.2, metric=cumulated_euc_ts)\n",
    "        # calculate graph weights to find knn\n",
    "        snf.calc_weights()\n",
    "        snf.normalize_weights()\n",
    "        # generate and normalize knn graphs\n",
    "        snf.calc_knn_weights()\n",
    "        snf.normalize_knn_weights()\n",
    "        # fuse graphs\n",
    "        snf.network_fusion(eta=1, iters=20)\n",
    "        # save template image\n",
    "        fp = \"./\"+g[0]+\"_\"+\n",
    "        plt.imshow(snf.fused_similarity_template)\n",
    "        plt.savefig()"
   ]
  },
  {
   "cell_type": "markdown",
   "metadata": {},
   "source": [
    "---"
   ]
  },
  {
   "cell_type": "code",
   "execution_count": 6,
   "metadata": {},
   "outputs": [
    {
     "data": {
      "text/plain": [
       "'.'"
      ]
     },
     "execution_count": 6,
     "metadata": {},
     "output_type": "execute_result"
    }
   ],
   "source": [
    "os.curdir"
   ]
  },
  {
   "cell_type": "code",
   "execution_count": 8,
   "metadata": {},
   "outputs": [
    {
     "data": {
      "text/plain": [
       "3"
      ]
     },
     "execution_count": 8,
     "metadata": {},
     "output_type": "execute_result"
    }
   ],
   "source": [
    "gest_lab[1]"
   ]
  },
  {
   "cell_type": "code",
   "execution_count": null,
   "metadata": {},
   "outputs": [],
   "source": [
    "for n, a in enumerate(arrays):\n",
    "    plt.imshow(a)\n",
    "    plab = str(gest_lab[n]) + \"_\" + subj_lab[n] + \"_\" + \".png\"\n",
    "    plt.savefig(os.curdir + \"/Data/snf_imgs/\" +  )"
   ]
  },
  {
   "cell_type": "code",
   "execution_count": null,
   "metadata": {},
   "outputs": [],
   "source": []
  },
  {
   "cell_type": "markdown",
   "metadata": {},
   "source": [
    "---\n",
    "### Pre-Process images"
   ]
  },
  {
   "cell_type": "code",
   "execution_count": null,
   "metadata": {},
   "outputs": [],
   "source": [
    "# normalize and standardize raw signal SSMs for each gesture\n",
    "for r, s in enumerate(raw_ssm_lst):\n",
    "    s = (s-s.mean()) / s.std()"
   ]
  },
  {
   "cell_type": "code",
   "execution_count": null,
   "metadata": {},
   "outputs": [],
   "source": [
    "# normalize and standardize ISOMAP SSMs for each gesture\n",
    "for r, s in enumerate(iso_ssm_lst):\n",
    "    s = (s-s.mean()) / s.std()"
   ]
  },
  {
   "cell_type": "code",
   "execution_count": null,
   "metadata": {},
   "outputs": [],
   "source": [
    "# normalize and standardize SNF images for each gesture\n",
    "for r, s in enumerate(snf_lst):\n",
    "    s = (s-s.mean()) / s.std()"
   ]
  },
  {
   "cell_type": "code",
   "execution_count": null,
   "metadata": {},
   "outputs": [],
   "source": [
    "# zero pad raw signal SSMs for each gesture\n",
    "pad_ssm_lst = [np.zeros(shape=(dc.max_obs, dc.max_obs)) for a in arrays]\n",
    "for r, s in enumerate(raw_ssm_lst):\n",
    "    pad_ssm_lst[r][:s.shape[0], :s.shape[1]] = s"
   ]
  },
  {
   "cell_type": "code",
   "execution_count": null,
   "metadata": {},
   "outputs": [],
   "source": [
    "# zero pad ISOMAP SSMs for each gesture\n",
    "pad_iso_lst = [np.zeros(shape=(dc.max_obs, dc.max_obs)) for a in arrays]\n",
    "for r, s in enumerate(iso_ssm_lst):\n",
    "    pad_iso_lst[r][:s.shape[0], :s.shape[1]] = s"
   ]
  },
  {
   "cell_type": "code",
   "execution_count": null,
   "metadata": {},
   "outputs": [],
   "source": [
    "# zero pad SNF images for each gesture\n",
    "pad_snf_lst = [np.zeros(shape=(dc.max_obs, dc.max_obs)) for a in arrays]\n",
    "for r, s in enumerate(snf_lst):\n",
    "    pad_snf_lst[r][:s.shape[0], :s.shape[1]] = s"
   ]
  },
  {
   "cell_type": "markdown",
   "metadata": {},
   "source": [
    "---"
   ]
  },
  {
   "cell_type": "code",
   "execution_count": null,
   "metadata": {},
   "outputs": [],
   "source": []
  }
 ],
 "metadata": {
  "kernelspec": {
   "display_name": "Python 3",
   "language": "python",
   "name": "python3"
  },
  "language_info": {
   "codemirror_mode": {
    "name": "ipython",
    "version": 3
   },
   "file_extension": ".py",
   "mimetype": "text/x-python",
   "name": "python",
   "nbconvert_exporter": "python",
   "pygments_lexer": "ipython3",
   "version": "3.6.9"
  }
 },
 "nbformat": 4,
 "nbformat_minor": 2
}
