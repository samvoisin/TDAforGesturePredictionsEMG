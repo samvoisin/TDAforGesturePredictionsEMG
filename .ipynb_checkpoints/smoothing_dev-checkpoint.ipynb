{
 "cells": [
  {
   "cell_type": "code",
   "execution_count": 1,
   "metadata": {},
   "outputs": [],
   "source": [
    "import numpy as np"
   ]
  },
  {
   "cell_type": "code",
   "execution_count": 2,
   "metadata": {},
   "outputs": [],
   "source": [
    "a = np.arange(40).reshape(-1, 4)\n",
    "a = np.c_[np.arange(10), a]"
   ]
  },
  {
   "cell_type": "code",
   "execution_count": 3,
   "metadata": {},
   "outputs": [
    {
     "data": {
      "text/plain": [
       "array([[ 0,  0,  1,  2,  3],\n",
       "       [ 1,  4,  5,  6,  7],\n",
       "       [ 2,  8,  9, 10, 11],\n",
       "       [ 3, 12, 13, 14, 15],\n",
       "       [ 4, 16, 17, 18, 19],\n",
       "       [ 5, 20, 21, 22, 23],\n",
       "       [ 6, 24, 25, 26, 27],\n",
       "       [ 7, 28, 29, 30, 31],\n",
       "       [ 8, 32, 33, 34, 35],\n",
       "       [ 9, 36, 37, 38, 39]])"
      ]
     },
     "execution_count": 3,
     "metadata": {},
     "output_type": "execute_result"
    }
   ],
   "source": [
    "a"
   ]
  },
  {
   "cell_type": "code",
   "execution_count": null,
   "metadata": {},
   "outputs": [],
   "source": [
    "### RMS SMOOTHING ###\n",
    "def rms_smooth(series, N, ss):\n",
    "    \"\"\"\n",
    "    series - time series (numpy array of dim 2 including time index as first col)\n",
    "    N - number of samples in time window\n",
    "    ss - step size\n",
    "    \"\"\"\n",
    "    n_slides = (series[:, 1].size - (N - ss)) / ss # number of window slides\n",
    "    res_sz = int(n_slides) # truncate number of slides for resulting vector size\n",
    "    V = np.zeros(res_sz * 2).reshape(-1, 2)\n",
    "    s = 0 # window start\n",
    "    e = s + N # window end\n",
    "    for n, i in enumerate(V):\n",
    "        V[n, 0] = series[e, 0]\n",
    "        V[n, 1] = (sum(series[s:e, 1]**2)/N)**(0.5)\n",
    "        s += ss\n",
    "        e += ss\n",
    "    \n",
    "    return V"
   ]
  },
  {
   "cell_type": "code",
   "execution_count": 18,
   "metadata": {},
   "outputs": [],
   "source": [
    "def root_mean_sq(a):\n",
    "    return (sum(a**2)/a.size)**(0.5)"
   ]
  },
  {
   "cell_type": "code",
   "execution_count": 19,
   "metadata": {},
   "outputs": [],
   "source": [
    "def rms_smooth(a, N, stp):\n",
    "    \"\"\"\n",
    "    Perform root-mean-squares smoothing on the data set\n",
    "    This creates data_set_smooth attribute\n",
    "    N - number of samples in time window\n",
    "    stp - step size\n",
    "    \"\"\"\n",
    "    nr, nc = a.shape\n",
    "    n_slides = (a[:, 1].size - (N - stp)) / stp # num windows\n",
    "    ### initialize sliding window variables ###\n",
    "    res_sz = int(n_slides) # truncate num of slides for result size\n",
    "    res = np.zeros(shape=(res_sz, nc))\n",
    "    s = 0 # window start\n",
    "    e = N # window end\n",
    "    for n, v in enumerate(res):\n",
    "        v[0] = a[e, 0]\n",
    "        v[1:] = np.apply_along_axis(root_mean_sq, 0, a[s:e, 1:])\n",
    "        s += stp\n",
    "        e += stp\n",
    "    return res"
   ]
  },
  {
   "cell_type": "code",
   "execution_count": 20,
   "metadata": {},
   "outputs": [
    {
     "data": {
      "text/plain": [
       "array([[ 3.        ,  5.16397779,  5.97215762,  6.83130051,  7.72442015],\n",
       "       [ 5.        , 12.4365054 , 13.40397951, 14.37590577, 15.35143859],\n",
       "       [ 7.        , 20.2649122 , 21.25245084, 22.24110309, 23.23072678],\n",
       "       [ 9.        , 28.18983268, 29.18332857, 30.17725413, 31.17156824]])"
      ]
     },
     "execution_count": 20,
     "metadata": {},
     "output_type": "execute_result"
    }
   ],
   "source": [
    "rms_smooth(a, 3, 2)"
   ]
  },
  {
   "cell_type": "code",
   "execution_count": 22,
   "metadata": {},
   "outputs": [
    {
     "data": {
      "text/plain": [
       "5.163977794943222"
      ]
     },
     "execution_count": 22,
     "metadata": {},
     "output_type": "execute_result"
    }
   ],
   "source": [
    "((0 + 16 + 64)/3)**(0.5)"
   ]
  },
  {
   "cell_type": "code",
   "execution_count": null,
   "metadata": {},
   "outputs": [],
   "source": []
  }
 ],
 "metadata": {
  "kernelspec": {
   "display_name": "Python 3",
   "language": "python",
   "name": "python3"
  },
  "language_info": {
   "codemirror_mode": {
    "name": "ipython",
    "version": 3
   },
   "file_extension": ".py",
   "mimetype": "text/x-python",
   "name": "python",
   "nbconvert_exporter": "python",
   "pygments_lexer": "ipython3",
   "version": "3.6.8"
  }
 },
 "nbformat": 4,
 "nbformat_minor": 2
}
