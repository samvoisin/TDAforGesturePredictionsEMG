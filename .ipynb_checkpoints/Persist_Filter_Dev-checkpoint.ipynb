{
 "cells": [
  {
   "cell_type": "code",
   "execution_count": 1,
   "metadata": {},
   "outputs": [],
   "source": [
    "import numpy as np\n",
    "import matplotlib.pyplot as plt\n",
    "from ripser import ripser, Rips\n",
    "from persim import plot_diagrams\n",
    "\n",
    "from TDA_helper_fcns import sublevel_set_time_series_dist\n",
    "from gen_pds_smooth import plot_ts_pd\n",
    "\n",
    "from data_cube import DataCube"
   ]
  },
  {
   "cell_type": "code",
   "execution_count": 2,
   "metadata": {},
   "outputs": [],
   "source": [
    "dc = DataCube(\n",
    "    subjects=[\"01\"],\n",
    "    gestures=[\"1\", \"2\", \"3\", \"4\"],\n",
    "    channels=[\"2\", \"4\", \"5\", \"6\", \"8\"],\n",
    "    data_grp=\"parsed\"\n",
    ")\n",
    "dc.load_data()\n",
    "dc.rms_smooth(300, 20)\n",
    "dc.get_max_obs(smooth=True)"
   ]
  },
  {
   "cell_type": "code",
   "execution_count": 3,
   "metadata": {},
   "outputs": [],
   "source": [
    "dc.normalize_modalities(smooth=True)"
   ]
  },
  {
   "cell_type": "code",
   "execution_count": 5,
   "metadata": {},
   "outputs": [],
   "source": [
    "tst = dc.data_set_smooth[\"01\"][\"1_1_1\"]"
   ]
  },
  {
   "cell_type": "code",
   "execution_count": 6,
   "metadata": {},
   "outputs": [],
   "source": [
    "m = 1\n",
    "tidx = tst[:,0]\n",
    "sls = sublevel_set_time_series_dist(tst[:,m])\n",
    "# calculate persistent homology\n",
    "pers_diag = ripser(sls, distance_matrix=True)"
   ]
  },
  {
   "cell_type": "code",
   "execution_count": 8,
   "metadata": {},
   "outputs": [],
   "source": [
    "plot_ts_pd(np.c_[tidx, tst[:,m]], pers_diag, figsize=(48, 24), save_img=True, path=\"./pers_filt_dev.png\")"
   ]
  },
  {
   "cell_type": "markdown",
   "metadata": {},
   "source": [
    "Need to identify time value (`x` axis) with birth and death time (`y` axis) and remove."
   ]
  },
  {
   "cell_type": "code",
   "execution_count": 9,
   "metadata": {},
   "outputs": [
    {
     "data": {
      "text/plain": [
       "{'dgms': [array([[-1.42257714, -1.39918625],\n",
       "         [-1.38585532, -0.71411276],\n",
       "         [-0.69591749, -0.57570559],\n",
       "         [-0.48822871, -0.48380676],\n",
       "         [-0.36534125, -0.34214824],\n",
       "         [ 0.12887709,  0.37277931],\n",
       "         [ 0.38738236,  0.52817518],\n",
       "         [ 0.01049303,  0.68217707],\n",
       "         [ 0.3261514 ,  0.72569704],\n",
       "         [ 0.35815176,  0.79185569],\n",
       "         [ 0.61908519,  0.84494358],\n",
       "         [-0.95473063,  0.86005527],\n",
       "         [ 0.86257148,  0.94023526],\n",
       "         [-1.80999053,  1.71380663],\n",
       "         [-2.74787307,         inf]]), array([], shape=(0, 2), dtype=float64)],\n",
       " 'cocycles': [[], []],\n",
       " 'num_edges': 68,\n",
       " 'dperm2all': <69x69 sparse matrix of type '<class 'numpy.float64'>'\n",
       " \twith 137 stored elements in Compressed Sparse Row format>,\n",
       " 'idx_perm': array([ 0,  1,  2,  3,  4,  5,  6,  7,  8,  9, 10, 11, 12, 13, 14, 15, 16,\n",
       "        17, 18, 19, 20, 21, 22, 23, 24, 25, 26, 27, 28, 29, 30, 31, 32, 33,\n",
       "        34, 35, 36, 37, 38, 39, 40, 41, 42, 43, 44, 45, 46, 47, 48, 49, 50,\n",
       "        51, 52, 53, 54, 55, 56, 57, 58, 59, 60, 61, 62, 63, 64, 65, 66, 67,\n",
       "        68]),\n",
       " 'r_cover': 0.0}"
      ]
     },
     "execution_count": 9,
     "metadata": {},
     "output_type": "execute_result"
    }
   ],
   "source": [
    "pers_diag"
   ]
  },
  {
   "cell_type": "code",
   "execution_count": null,
   "metadata": {},
   "outputs": [],
   "source": []
  }
 ],
 "metadata": {
  "kernelspec": {
   "display_name": "Python 3",
   "language": "python",
   "name": "python3"
  },
  "language_info": {
   "codemirror_mode": {
    "name": "ipython",
    "version": 3
   },
   "file_extension": ".py",
   "mimetype": "text/x-python",
   "name": "python",
   "nbconvert_exporter": "python",
   "pygments_lexer": "ipython3",
   "version": "3.7.2"
  }
 },
 "nbformat": 4,
 "nbformat_minor": 2
}
