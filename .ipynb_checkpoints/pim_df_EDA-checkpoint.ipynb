{
 "cells": [
  {
   "cell_type": "code",
   "execution_count": null,
   "metadata": {},
   "outputs": [],
   "source": [
    "import numpy as np\n",
    "import pandas as pd\n",
    "import matplotlib.pyplot as plt\n",
    "\n",
    "from persim import PersImage"
   ]
  },
  {
   "cell_type": "code",
   "execution_count": null,
   "metadata": {},
   "outputs": [],
   "source": [
    "from TDA_helper_fcns import load_data\n",
    "\n",
    "from ripser import ripser, Rips\n",
    "from persim import plot_diagrams, PersImage\n",
    "\n",
    "gdat = load_data(subjects=[\"01\", \"03\"])"
   ]
  },
  {
   "cell_type": "code",
   "execution_count": null,
   "metadata": {},
   "outputs": [],
   "source": [
    "def subj_to_pims(sbj, sdict, px, sd):\n",
    "    \"\"\"\n",
    "    generate persistence images for all gestures for a given subject\n",
    "    INPUTS\n",
    "    sbj - subject number\n",
    "    sdict - dict of all gestures performed by a subject; 24 per subject\n",
    "    px - pixel dimension/ resolution; e.g. px=20 gives 20x20 persistence image\n",
    "    sd - persistence image concentration parameter (gaussian)\n",
    "\n",
    "    OUTPUTS\n",
    "    array of gestures made by subject\n",
    "    \"\"\"\n",
    "    # instantiate persistence image generator & vietoris-rips complex generators\n",
    "    rips = Rips(maxdim=1, verbose=False) # 1-D homology rips complex\n",
    "    pim = PersImage(pixels=[px,px], spread=sd)\n",
    "    nobs = 24 # each subject performs 24 gestures\n",
    "    # each vector have equal # persim pix + 2 cols for subj & gest labels\n",
    "    res_mat = np.zeros(px**2*nobs + 2*nobs).reshape(nobs, -1)\n",
    "\n",
    "    v = 0\n",
    "    for gnum, garray in sdict.items():\n",
    "        dgms = rips.fit_transform(garray) # generate rips complex on points\n",
    "        print(dgms)\n",
    "        img = pim.transform(dgms[1]) # persistence image of 1 cycles\n",
    "        obs_vec = np.r_[img.flatten(), int(gnum[0]), int(sbj)]\n",
    "        res_mat[v, :] = obs_vec\n",
    "        v += 1\n",
    "\n",
    "    return res_mat"
   ]
  },
  {
   "cell_type": "code",
   "execution_count": null,
   "metadata": {},
   "outputs": [],
   "source": [
    "gdat = load_data(subjects=[\"01\"]) # gestures data (test w/ 2)\n",
    "nvects = len(gdat.keys()) * 24 # each subject performs 24 total gestures\n",
    "pim_px = 20 # persistence image dims (square)\n",
    "pim_sd = 1e-5 # persistence image st. dev.\n",
    "# vects have equal # persim pix + 2 cols for subj & gest labels\n",
    "matsize = pim_px**2*nvects + 2*nvects\n",
    "pim_mat = np.zeros(matsize).reshape(nvects, -1)"
   ]
  },
  {
   "cell_type": "code",
   "execution_count": null,
   "metadata": {},
   "outputs": [],
   "source": [
    "t = subj_to_pims(\"01\", gdat[\"01\"], pim_px, pim_sd)"
   ]
  },
  {
   "cell_type": "code",
   "execution_count": null,
   "metadata": {},
   "outputs": [],
   "source": [
    "t"
   ]
  },
  {
   "cell_type": "code",
   "execution_count": null,
   "metadata": {},
   "outputs": [],
   "source": [
    "pim_df = pd.read_csv(\"./Data/pim_vectors.csv\")"
   ]
  },
  {
   "cell_type": "code",
   "execution_count": null,
   "metadata": {},
   "outputs": [],
   "source": [
    "pim_df"
   ]
  },
  {
   "cell_type": "code",
   "execution_count": null,
   "metadata": {},
   "outputs": [],
   "source": [
    "g5=pim_df.iloc[0,:-2].values.reshape(20, 20)\n",
    "g3=pim_df.iloc[1,:-2].values.reshape(20, 20)\n",
    "g4=pim_df.iloc[2,:-2].values.reshape(20, 20)\n",
    "g2=pim_df.iloc[3,:-2].values.reshape(20, 20)\n",
    "g2n=pim_df.iloc[3,:-2].values.reshape(20, 20)"
   ]
  },
  {
   "cell_type": "code",
   "execution_count": null,
   "metadata": {},
   "outputs": [],
   "source": [
    "pim = PersImage(spread=1e-5, pixels=[20,20], verbose=False)"
   ]
  },
  {
   "cell_type": "code",
   "execution_count": null,
   "metadata": {},
   "outputs": [],
   "source": [
    "pim.show(g5)"
   ]
  },
  {
   "cell_type": "code",
   "execution_count": null,
   "metadata": {},
   "outputs": [],
   "source": [
    "pim.show(g3)"
   ]
  },
  {
   "cell_type": "code",
   "execution_count": null,
   "metadata": {},
   "outputs": [],
   "source": [
    "pim.show(g4)"
   ]
  },
  {
   "cell_type": "code",
   "execution_count": null,
   "metadata": {},
   "outputs": [],
   "source": [
    "pim.show(g2)"
   ]
  },
  {
   "cell_type": "code",
   "execution_count": null,
   "metadata": {},
   "outputs": [],
   "source": []
  }
 ],
 "metadata": {
  "kernelspec": {
   "display_name": "Python 3",
   "language": "python",
   "name": "python3"
  },
  "language_info": {
   "codemirror_mode": {
    "name": "ipython",
    "version": 3
   },
   "file_extension": ".py",
   "mimetype": "text/x-python",
   "name": "python",
   "nbconvert_exporter": "python",
   "pygments_lexer": "ipython3",
   "version": "3.6.8"
  }
 },
 "nbformat": 4,
 "nbformat_minor": 2
}
