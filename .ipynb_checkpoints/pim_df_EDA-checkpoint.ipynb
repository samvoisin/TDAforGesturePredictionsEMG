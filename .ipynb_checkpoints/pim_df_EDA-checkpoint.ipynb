{
 "cells": [
  {
   "cell_type": "code",
   "execution_count": null,
   "metadata": {},
   "outputs": [],
   "source": [
    "import numpy as np\n",
    "from numpy import linalg as la\n",
    "import pandas as pd\n",
    "import matplotlib.pyplot as plt\n",
    "import seaborn as sns\n",
    "\n",
    "from persim import PersImage"
   ]
  },
  {
   "cell_type": "code",
   "execution_count": null,
   "metadata": {},
   "outputs": [],
   "source": [
    "pim_df = pd.read_csv(\"./pim_vectors_mp20_sbst.csv\")"
   ]
  },
  {
   "cell_type": "code",
   "execution_count": null,
   "metadata": {},
   "outputs": [],
   "source": [
    "# normalize matrices\n",
    "for n, v in enumerate(pim_df.iloc[:, :-2].values):\n",
    "    pim_df.iloc[n, :-2] = v / v.sum()"
   ]
  },
  {
   "cell_type": "code",
   "execution_count": null,
   "metadata": {},
   "outputs": [],
   "source": [
    "px = 20\n",
    "pim = PersImage(spread=1e-5, pixels=[px,px], verbose=False)"
   ]
  },
  {
   "cell_type": "code",
   "execution_count": null,
   "metadata": {},
   "outputs": [],
   "source": [
    "import numpy.random as rnd"
   ]
  },
  {
   "cell_type": "code",
   "execution_count": null,
   "metadata": {},
   "outputs": [],
   "source": [
    "t = pim_df.values[1, :-2].reshape(-1, px)\n",
    "t = t / t.sum()"
   ]
  },
  {
   "cell_type": "code",
   "execution_count": null,
   "metadata": {},
   "outputs": [],
   "source": [
    "ns = 3\n",
    "g = 1.0\n",
    "rnd.seed(1)\n",
    "for i in range(ns):\n",
    "    t = pim_df.loc[pim_df.gest == g].sample()\n",
    "    t = t.values[:, :-2].reshape(-1, px)\n",
    "    pim.show(t)\n",
    "    plt.title(\"Class 1\")\n",
    "    plt.show()"
   ]
  },
  {
   "cell_type": "code",
   "execution_count": null,
   "metadata": {},
   "outputs": [],
   "source": [
    "ns = 3\n",
    "g = 2.0\n",
    "rnd.seed(1)\n",
    "for i in range(ns):\n",
    "    t = pim_df.loc[pim_df.gest == g].sample()\n",
    "    t = t.values[:, :-2].reshape(-1, px)\n",
    "    pim.show(t)\n",
    "    plt.title(\"Class 2\")\n",
    "    plt.show()"
   ]
  },
  {
   "cell_type": "code",
   "execution_count": null,
   "metadata": {},
   "outputs": [],
   "source": [
    "ns = 3\n",
    "g = 3.0\n",
    "rnd.seed(1)\n",
    "for i in range(ns):\n",
    "    t = pim_df.loc[pim_df.gest == g].sample()\n",
    "    t = t.values[:, :-2].reshape(-1, px)\n",
    "    pim.show(t)\n",
    "    plt.title(\"Class 3\")\n",
    "    plt.show()"
   ]
  },
  {
   "cell_type": "code",
   "execution_count": null,
   "metadata": {},
   "outputs": [],
   "source": [
    "ns = 3\n",
    "g = 4.0\n",
    "rnd.seed(1)\n",
    "for i in range(ns):\n",
    "    t = pim_df.loc[pim_df.gest == g].sample()\n",
    "    t = t.values[:, :-2].reshape(-1, px)\n",
    "    pim.show(t)\n",
    "    plt.title(\"Class 4\")\n",
    "    plt.show()"
   ]
  },
  {
   "cell_type": "code",
   "execution_count": null,
   "metadata": {},
   "outputs": [],
   "source": [
    "CF = np.sum(pim_df.loc[pim_df.gest==1].values[:, :-2], axis=0)\n",
    "CF = CF / CF.sum()\n",
    "CF = CF.reshape(-1, px)\n",
    "\n",
    "pim.show(CF)\n",
    "plt.title(\"Class 1\")\n",
    "plt.show()"
   ]
  },
  {
   "cell_type": "code",
   "execution_count": null,
   "metadata": {},
   "outputs": [],
   "source": [
    "CF = np.sum(pim_df.loc[pim_df.gest==2].values[:, :-2], axis=0)\n",
    "CF = CF / CF.sum()\n",
    "CF = CF.reshape(-1, px)\n",
    "\n",
    "pim.show(CF)\n",
    "plt.title(\"Class 2\")\n",
    "plt.show()"
   ]
  },
  {
   "cell_type": "code",
   "execution_count": null,
   "metadata": {},
   "outputs": [],
   "source": [
    "CF = np.sum(pim_df.loc[pim_df.gest==3].values[:, :-2], axis=0)\n",
    "CF = CF / CF.sum()\n",
    "CF = CF.reshape(-1, px)\n",
    "\n",
    "pim.show(CF)\n",
    "plt.title(\"Class 3\")\n",
    "plt.show()"
   ]
  },
  {
   "cell_type": "code",
   "execution_count": null,
   "metadata": {},
   "outputs": [],
   "source": [
    "CF = np.sum(pim_df.loc[pim_df.gest==4].values[:, :-2], axis=0)\n",
    "CF = CF / CF.sum()\n",
    "CF = CF.reshape(-1, px)\n",
    "\n",
    "pim.show(CF)\n",
    "plt.title(\"Class 4\")\n",
    "plt.show()"
   ]
  }
 ],
 "metadata": {
  "kernelspec": {
   "display_name": "Python 3",
   "language": "python",
   "name": "python3"
  },
  "language_info": {
   "codemirror_mode": {
    "name": "ipython",
    "version": 3
   },
   "file_extension": ".py",
   "mimetype": "text/x-python",
   "name": "python",
   "nbconvert_exporter": "python",
   "pygments_lexer": "ipython3",
   "version": "3.6.8"
  }
 },
 "nbformat": 4,
 "nbformat_minor": 2
}
