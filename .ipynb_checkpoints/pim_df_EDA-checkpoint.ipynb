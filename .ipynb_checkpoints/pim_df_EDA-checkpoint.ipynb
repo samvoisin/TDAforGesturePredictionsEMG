{
 "cells": [
  {
   "cell_type": "code",
   "execution_count": 1,
   "metadata": {},
   "outputs": [],
   "source": [
    "import numpy as np\n",
    "from numpy import linalg as la\n",
    "from numpy import random as rnd\n",
    "import pandas as pd\n",
    "import matplotlib.pyplot as plt\n",
    "import seaborn as sns\n",
    "\n",
    "from persim import PersImage"
   ]
  },
  {
   "cell_type": "code",
   "execution_count": 2,
   "metadata": {},
   "outputs": [],
   "source": [
    "pim_df = pd.read_csv(\"./pim_vectors_mp20_sbst.csv\")"
   ]
  },
  {
   "cell_type": "code",
   "execution_count": 3,
   "metadata": {},
   "outputs": [],
   "source": [
    "# hold out set\n",
    "#rnd.seed(1)\n",
    "#ho_samp = 30.0#rnd.choice(np.unique(pim_df.subj.values), size=3, replace=False)\n",
    "#pim_df_ho = pim_df.loc[pim_df.subj==ho_samp, :]\n",
    "#pim_df = pim_df.loc[pim_df.subj!=ho_samp, :]"
   ]
  },
  {
   "cell_type": "code",
   "execution_count": 4,
   "metadata": {},
   "outputs": [],
   "source": [
    "# normalize matrices\n",
    "for n, v in enumerate(pim_df.iloc[:, :-2].values):\n",
    "    pim_df.iloc[n, :-2] = v / v.sum()"
   ]
  },
  {
   "cell_type": "code",
   "execution_count": 5,
   "metadata": {},
   "outputs": [],
   "source": [
    "px = 20\n",
    "pim = PersImage(spread=1e-5, pixels=[px,px], verbose=False)"
   ]
  },
  {
   "cell_type": "code",
   "execution_count": 6,
   "metadata": {},
   "outputs": [
    {
     "data": {
      "image/png": "[encoded data removed]",
      "text/plain": [
       "<Figure size 432x288 with 1 Axes>"
      ]
     },
     "metadata": {
      "needs_background": "light"
     },
     "output_type": "display_data"
    }
   ],
   "source": [
    "ns = 3\n",
    "g = 1.0\n",
    "c = 1\n",
    "rnd.seed(1060)\n",
    "for i in range(ns):\n",
    "    t = pim_df.loc[pim_df.gest == g].sample()\n",
    "    t = t.values[:, :-2].reshape(-1, px)\n",
    "    pim.show(t)\n",
    "    plt.title(\"Gesture 1\")\n",
    "    plt.savefig(\"./figures/pres_figs/pim_samp_g\"+str(int(g))+\"_\"+str(c)+\".png\")\n",
    "    c += 1"
   ]
  },
  {
   "cell_type": "code",
   "execution_count": 7,
   "metadata": {},
   "outputs": [
    {
     "data": {
      "image/png": "[encoded data removed]",
      "text/plain": [
       "<Figure size 432x288 with 1 Axes>"
      ]
     },
     "metadata": {
      "needs_background": "light"
     },
     "output_type": "display_data"
    }
   ],
   "source": [
    "ns = 3\n",
    "g = 2.0\n",
    "c = 1\n",
    "rnd.seed(1)\n",
    "for i in range(ns):\n",
    "    t = pim_df.loc[pim_df.gest == g].sample()\n",
    "    t = t.values[:, :-2].reshape(-1, px)\n",
    "    pim.show(t)\n",
    "    plt.title(\"Gesture 2\")\n",
    "    plt.savefig(\"./figures/pres_figs/pim_samp_g\"+str(int(g))+\"_\"+str(c)+\".png\")\n",
    "    c += 1"
   ]
  },
  {
   "cell_type": "code",
   "execution_count": 8,
   "metadata": {},
   "outputs": [
    {
     "data": {
      "image/png": "[encoded data removed]",
      "text/plain": [
       "<Figure size 432x288 with 1 Axes>"
      ]
     },
     "metadata": {
      "needs_background": "light"
     },
     "output_type": "display_data"
    }
   ],
   "source": [
    "ns = 3\n",
    "g = 3.0\n",
    "c = 1\n",
    "rnd.seed(1)\n",
    "for i in range(ns):\n",
    "    t = pim_df.loc[pim_df.gest == g].sample()\n",
    "    t = t.values[:, :-2].reshape(-1, px)\n",
    "    pim.show(t)\n",
    "    plt.title(\"Gesture 3\")\n",
    "    plt.savefig(\"./figures/pres_figs/pim_samp_g\"+str(int(g))+\"_\"+str(c)+\".png\")\n",
    "    c += 1"
   ]
  },
  {
   "cell_type": "code",
   "execution_count": 9,
   "metadata": {},
   "outputs": [
    {
     "data": {
      "image/png": "[encoded data removed]",
      "text/plain": [
       "<Figure size 432x288 with 1 Axes>"
      ]
     },
     "metadata": {
      "needs_background": "light"
     },
     "output_type": "display_data"
    }
   ],
   "source": [
    "ns = 3\n",
    "g = 4.0\n",
    "c = 1\n",
    "rnd.seed(1)\n",
    "for i in range(ns):\n",
    "    t = pim_df.loc[pim_df.gest == g].sample()\n",
    "    t = t.values[:, :-2].reshape(-1, px)\n",
    "    pim.show(t)\n",
    "    plt.title(\"Gesture 4\")\n",
    "    plt.savefig(\"./figures/pres_figs/pim_samp_g\"+str(int(g))+\"_\"+str(c)+\".png\")\n",
    "    c += 1"
   ]
  },
  {
   "cell_type": "markdown",
   "metadata": {},
   "source": [
    "---"
   ]
  },
  {
   "cell_type": "markdown",
   "metadata": {},
   "source": [
    "### Prototypical PIMs - Normalized Sum of Normalized PIMs"
   ]
  },
  {
   "cell_type": "code",
   "execution_count": 10,
   "metadata": {},
   "outputs": [
    {
     "data": {
      "image/png": "[encoded data removed]",
      "text/plain": [
       "<Figure size 432x288 with 1 Axes>"
      ]
     },
     "metadata": {
      "needs_background": "light"
     },
     "output_type": "display_data"
    }
   ],
   "source": [
    "CF1 = np.sum(pim_df.loc[pim_df.gest==1].values[:, :-2], axis=0)\n",
    "CF1 = CF1 / CF1.sum()\n",
    "CF1 = CF1.reshape(-1, px)\n",
    "\n",
    "pim.show(CF1)\n",
    "plt.title(\"Gesture 1\")\n",
    "plt.savefig(\"./figures/pres_figs/norm_sum_g1.png\")"
   ]
  },
  {
   "cell_type": "code",
   "execution_count": 11,
   "metadata": {},
   "outputs": [
    {
     "data": {
      "image/png": "[encoded data removed]",
      "text/plain": [
       "<Figure size 432x288 with 1 Axes>"
      ]
     },
     "metadata": {
      "needs_background": "light"
     },
     "output_type": "display_data"
    }
   ],
   "source": [
    "CF2 = np.sum(pim_df.loc[pim_df.gest==2].values[:, :-2], axis=0)\n",
    "CF2 = CF2 / CF2.sum()\n",
    "CF2 = CF2.reshape(-1, px)\n",
    "\n",
    "pim.show(CF2)\n",
    "plt.title(\"Gesture 2\")\n",
    "plt.savefig(\"./figures/pres_figs/norm_sum_g2.png\")"
   ]
  },
  {
   "cell_type": "code",
   "execution_count": 12,
   "metadata": {},
   "outputs": [
    {
     "data": {
      "image/png": "[encoded data removed]",
      "text/plain": [
       "<Figure size 432x288 with 1 Axes>"
      ]
     },
     "metadata": {
      "needs_background": "light"
     },
     "output_type": "display_data"
    }
   ],
   "source": [
    "CF3 = np.sum(pim_df.loc[pim_df.gest==3].values[:, :-2], axis=0)\n",
    "CF3 = CF3 / CF3.sum()\n",
    "CF3 = CF3.reshape(-1, px)\n",
    "\n",
    "pim.show(CF3)\n",
    "plt.title(\"Gesture 3\")\n",
    "plt.savefig(\"./figures/pres_figs/norm_sum_g3.png\")"
   ]
  },
  {
   "cell_type": "code",
   "execution_count": 13,
   "metadata": {},
   "outputs": [
    {
     "data": {
      "image/png": "[encoded data removed]",
      "text/plain": [
       "<Figure size 432x288 with 1 Axes>"
      ]
     },
     "metadata": {
      "needs_background": "light"
     },
     "output_type": "display_data"
    }
   ],
   "source": [
    "CF4 = np.sum(pim_df.loc[pim_df.gest==4].values[:, :-2], axis=0)\n",
    "CF4 = CF4 / CF4.sum()\n",
    "CF4 = CF4.reshape(-1, px)\n",
    "\n",
    "pim.show(CF4)\n",
    "plt.title(\"Gesture 4\")\n",
    "plt.savefig(\"./figures/pres_figs/norm_sum_g4.png\")"
   ]
  },
  {
   "cell_type": "markdown",
   "metadata": {},
   "source": [
    "---"
   ]
  },
  {
   "cell_type": "markdown",
   "metadata": {},
   "source": [
    "### Classification w/ just dot product of prototypical pim"
   ]
  },
  {
   "cell_type": "code",
   "execution_count": 14,
   "metadata": {},
   "outputs": [],
   "source": [
    "typic_1 = CF1.reshape(-1, 1)\n",
    "typic_2 = CF2.reshape(-1, 1)\n",
    "typic_3 = CF3.reshape(-1, 1)\n",
    "typic_4 = CF4.reshape(-1, 1)"
   ]
  },
  {
   "cell_type": "code",
   "execution_count": 15,
   "metadata": {},
   "outputs": [],
   "source": [
    "nv, c = pim_df.shape\n",
    "acc_df = np.zeros(shape=(nv, 5))\n",
    "acc_df = pd.DataFrame(acc_df)\n",
    "acc_df.columns = [\"G1\", \"G2\", \"G3\", \"G4\", \"gest\"]\n",
    "acc_df.gest = pim_df.gest\n",
    "for i in range(nv):\n",
    "    acc_df.values[i, 0] = pim_df.values[i, :-2].reshape(1, -1).dot(typic_1)\n",
    "    acc_df.values[i, 1] = pim_df.values[i, :-2].reshape(1, -1).dot(typic_2)\n",
    "    acc_df.values[i, 2] = pim_df.values[i, :-2].reshape(1, -1).dot(typic_3)\n",
    "    acc_df.values[i, 3] = pim_df.values[i, :-2].reshape(1, -1).dot(typic_4)\n",
    "    acc_df.values[i, :-1] = acc_df.values[i, :-1] / acc_df.values[i, :-1].sum()\n",
    "    acc_df.values[i, :-1] = np.where(acc_df.values[i, :-1] == acc_df.values[i, :-1].max(), 1, 0)"
   ]
  },
  {
   "cell_type": "code",
   "execution_count": 16,
   "metadata": {},
   "outputs": [
    {
     "data": {
      "text/plain": [
       "0.5357142857142857"
      ]
     },
     "execution_count": 16,
     "metadata": {},
     "output_type": "execute_result"
    }
   ],
   "source": [
    "plcs = np.arange(1, 5).reshape(-1, 1)\n",
    "acc = 0\n",
    "for i in range(nv):\n",
    "    if acc_df.values[i, :-1] @ plcs == acc_df.gest.iloc[i]:\n",
    "        acc+=1\n",
    "acc/nv"
   ]
  },
  {
   "cell_type": "markdown",
   "metadata": {},
   "source": [
    "---\n",
    "Hold out sample"
   ]
  },
  {
   "cell_type": "code",
   "execution_count": 17,
   "metadata": {},
   "outputs": [],
   "source": [
    "nv, c = pim_df_ho.shape\n",
    "acc_df = np.zeros(shape=(nv, 5))\n",
    "acc_df = pd.DataFrame(acc_df)\n",
    "acc_df.columns = [\"G1\", \"G2\", \"G3\", \"G4\", \"gest\"]\n",
    "acc_df.gest = pim_df_ho.gest\n",
    "for i in range(nv):\n",
    "    acc_df.values[i, 0] = pim_df_ho.values[i, :-2].reshape(1, -1).dot(typic_1)\n",
    "    acc_df.values[i, 1] = pim_df_ho.values[i, :-2].reshape(1, -1).dot(typic_2)\n",
    "    acc_df.values[i, 2] = pim_df_ho.values[i, :-2].reshape(1, -1).dot(typic_3)\n",
    "    acc_df.values[i, 3] = pim_df_ho.values[i, :-2].reshape(1, -1).dot(typic_4)\n",
    "    acc_df.values[i, :-1] = acc_df.values[i, :-1] / acc_df.values[i, :-1].sum()\n",
    "    acc_df.values[i, :-1] = np.where(acc_df.values[i, :-1] == acc_df.values[i, :-1].max(), 1, 0)"
   ]
  },
  {
   "cell_type": "code",
   "execution_count": 18,
   "metadata": {},
   "outputs": [
    {
     "data": {
      "text/plain": [
       "0.5625"
      ]
     },
     "execution_count": 18,
     "metadata": {},
     "output_type": "execute_result"
    }
   ],
   "source": [
    "plcs = np.arange(1, 5).reshape(-1, 1)\n",
    "acc = 0\n",
    "for i in range(nv):\n",
    "    if acc_df.values[i, :-1] @ plcs == acc_df.gest.iloc[i]:\n",
    "        acc+=1\n",
    "acc/nv"
   ]
  },
  {
   "cell_type": "code",
   "execution_count": null,
   "metadata": {},
   "outputs": [],
   "source": []
  }
 ],
 "metadata": {
  "kernelspec": {
   "display_name": "Python 3",
   "language": "python",
   "name": "python3"
  },
  "language_info": {
   "codemirror_mode": {
    "name": "ipython",
    "version": 3
   },
   "file_extension": ".py",
   "mimetype": "text/x-python",
   "name": "python",
   "nbconvert_exporter": "python",
   "pygments_lexer": "ipython3",
   "version": "3.6.8"
  }
 },
 "nbformat": 4,
 "nbformat_minor": 2
}
