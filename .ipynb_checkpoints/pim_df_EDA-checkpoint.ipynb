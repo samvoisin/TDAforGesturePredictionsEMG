{
 "cells": [
  {
   "cell_type": "code",
   "execution_count": 1,
   "metadata": {},
   "outputs": [],
   "source": [
    "import numpy as np\n",
    "from numpy import linalg as la\n",
    "import pandas as pd\n",
    "import matplotlib.pyplot as plt\n",
    "import seaborn as sns\n",
    "\n",
    "from persim import PersImage"
   ]
  },
  {
   "cell_type": "code",
   "execution_count": 2,
   "metadata": {},
   "outputs": [
    {
     "data": {
      "text/html": [
       "<div>\n",
       "<style scoped>\n",
       "    .dataframe tbody tr th:only-of-type {\n",
       "        vertical-align: middle;\n",
       "    }\n",
       "\n",
       "    .dataframe tbody tr th {\n",
       "        vertical-align: top;\n",
       "    }\n",
       "\n",
       "    .dataframe thead th {\n",
       "        text-align: right;\n",
       "    }\n",
       "</style>\n",
       "<table border=\"1\" class=\"dataframe\">\n",
       "  <thead>\n",
       "    <tr style=\"text-align: right;\">\n",
       "      <th></th>\n",
       "      <th>px0</th>\n",
       "      <th>px1</th>\n",
       "      <th>px2</th>\n",
       "      <th>px3</th>\n",
       "      <th>px4</th>\n",
       "      <th>px5</th>\n",
       "      <th>px6</th>\n",
       "      <th>px7</th>\n",
       "      <th>px8</th>\n",
       "      <th>px9</th>\n",
       "      <th>...</th>\n",
       "      <th>px392</th>\n",
       "      <th>px393</th>\n",
       "      <th>px394</th>\n",
       "      <th>px395</th>\n",
       "      <th>px396</th>\n",
       "      <th>px397</th>\n",
       "      <th>px398</th>\n",
       "      <th>px399</th>\n",
       "      <th>gest</th>\n",
       "      <th>subj</th>\n",
       "    </tr>\n",
       "  </thead>\n",
       "  <tbody>\n",
       "    <tr>\n",
       "      <th>0</th>\n",
       "      <td>0.000000e+00</td>\n",
       "      <td>0.000000e+00</td>\n",
       "      <td>0.000000e+00</td>\n",
       "      <td>0.000000e+00</td>\n",
       "      <td>0.000000e+00</td>\n",
       "      <td>0.000000e+00</td>\n",
       "      <td>0.000000e+00</td>\n",
       "      <td>0.000000e+00</td>\n",
       "      <td>0.000000e+00</td>\n",
       "      <td>0.000000e+00</td>\n",
       "      <td>...</td>\n",
       "      <td>0.250070</td>\n",
       "      <td>0.197343</td>\n",
       "      <td>0.143084</td>\n",
       "      <td>0.108140</td>\n",
       "      <td>1.244276e-01</td>\n",
       "      <td>1.248595e-01</td>\n",
       "      <td>7.469293e-02</td>\n",
       "      <td>3.321607e-02</td>\n",
       "      <td>3.0</td>\n",
       "      <td>30.0</td>\n",
       "    </tr>\n",
       "    <tr>\n",
       "      <th>1</th>\n",
       "      <td>0.000000e+00</td>\n",
       "      <td>0.000000e+00</td>\n",
       "      <td>0.000000e+00</td>\n",
       "      <td>0.000000e+00</td>\n",
       "      <td>0.000000e+00</td>\n",
       "      <td>0.000000e+00</td>\n",
       "      <td>0.000000e+00</td>\n",
       "      <td>0.000000e+00</td>\n",
       "      <td>0.000000e+00</td>\n",
       "      <td>0.000000e+00</td>\n",
       "      <td>...</td>\n",
       "      <td>0.162447</td>\n",
       "      <td>0.157996</td>\n",
       "      <td>0.118413</td>\n",
       "      <td>0.079776</td>\n",
       "      <td>6.772443e-02</td>\n",
       "      <td>7.421235e-02</td>\n",
       "      <td>8.307823e-02</td>\n",
       "      <td>7.843166e-02</td>\n",
       "      <td>4.0</td>\n",
       "      <td>30.0</td>\n",
       "    </tr>\n",
       "    <tr>\n",
       "      <th>2</th>\n",
       "      <td>2.061327e-164</td>\n",
       "      <td>4.497601e-153</td>\n",
       "      <td>3.478481e-142</td>\n",
       "      <td>9.537495e-132</td>\n",
       "      <td>9.272226e-122</td>\n",
       "      <td>3.196816e-112</td>\n",
       "      <td>3.909540e-103</td>\n",
       "      <td>1.696339e-94</td>\n",
       "      <td>2.612160e-86</td>\n",
       "      <td>1.428004e-78</td>\n",
       "      <td>...</td>\n",
       "      <td>0.062090</td>\n",
       "      <td>0.068438</td>\n",
       "      <td>0.065927</td>\n",
       "      <td>0.062196</td>\n",
       "      <td>6.067055e-02</td>\n",
       "      <td>7.514271e-02</td>\n",
       "      <td>8.786351e-02</td>\n",
       "      <td>7.442120e-02</td>\n",
       "      <td>2.0</td>\n",
       "      <td>30.0</td>\n",
       "    </tr>\n",
       "    <tr>\n",
       "      <th>3</th>\n",
       "      <td>0.000000e+00</td>\n",
       "      <td>0.000000e+00</td>\n",
       "      <td>0.000000e+00</td>\n",
       "      <td>0.000000e+00</td>\n",
       "      <td>0.000000e+00</td>\n",
       "      <td>0.000000e+00</td>\n",
       "      <td>0.000000e+00</td>\n",
       "      <td>0.000000e+00</td>\n",
       "      <td>0.000000e+00</td>\n",
       "      <td>0.000000e+00</td>\n",
       "      <td>...</td>\n",
       "      <td>0.129571</td>\n",
       "      <td>0.128938</td>\n",
       "      <td>0.119042</td>\n",
       "      <td>0.106366</td>\n",
       "      <td>8.913560e-02</td>\n",
       "      <td>4.890861e-02</td>\n",
       "      <td>3.522698e-02</td>\n",
       "      <td>5.278756e-02</td>\n",
       "      <td>4.0</td>\n",
       "      <td>30.0</td>\n",
       "    </tr>\n",
       "    <tr>\n",
       "      <th>4</th>\n",
       "      <td>0.000000e+00</td>\n",
       "      <td>0.000000e+00</td>\n",
       "      <td>0.000000e+00</td>\n",
       "      <td>0.000000e+00</td>\n",
       "      <td>0.000000e+00</td>\n",
       "      <td>0.000000e+00</td>\n",
       "      <td>0.000000e+00</td>\n",
       "      <td>0.000000e+00</td>\n",
       "      <td>0.000000e+00</td>\n",
       "      <td>0.000000e+00</td>\n",
       "      <td>...</td>\n",
       "      <td>0.132948</td>\n",
       "      <td>0.111467</td>\n",
       "      <td>0.097252</td>\n",
       "      <td>0.082426</td>\n",
       "      <td>7.507170e-02</td>\n",
       "      <td>7.893053e-02</td>\n",
       "      <td>7.004861e-02</td>\n",
       "      <td>5.049152e-02</td>\n",
       "      <td>2.0</td>\n",
       "      <td>30.0</td>\n",
       "    </tr>\n",
       "    <tr>\n",
       "      <th>5</th>\n",
       "      <td>0.000000e+00</td>\n",
       "      <td>0.000000e+00</td>\n",
       "      <td>0.000000e+00</td>\n",
       "      <td>0.000000e+00</td>\n",
       "      <td>0.000000e+00</td>\n",
       "      <td>0.000000e+00</td>\n",
       "      <td>0.000000e+00</td>\n",
       "      <td>0.000000e+00</td>\n",
       "      <td>0.000000e+00</td>\n",
       "      <td>0.000000e+00</td>\n",
       "      <td>...</td>\n",
       "      <td>0.015263</td>\n",
       "      <td>0.002094</td>\n",
       "      <td>0.000121</td>\n",
       "      <td>0.000003</td>\n",
       "      <td>2.524741e-08</td>\n",
       "      <td>8.649132e-11</td>\n",
       "      <td>1.110772e-13</td>\n",
       "      <td>5.754927e-17</td>\n",
       "      <td>1.0</td>\n",
       "      <td>30.0</td>\n",
       "    </tr>\n",
       "    <tr>\n",
       "      <th>6</th>\n",
       "      <td>0.000000e+00</td>\n",
       "      <td>0.000000e+00</td>\n",
       "      <td>0.000000e+00</td>\n",
       "      <td>0.000000e+00</td>\n",
       "      <td>0.000000e+00</td>\n",
       "      <td>0.000000e+00</td>\n",
       "      <td>0.000000e+00</td>\n",
       "      <td>0.000000e+00</td>\n",
       "      <td>0.000000e+00</td>\n",
       "      <td>0.000000e+00</td>\n",
       "      <td>...</td>\n",
       "      <td>0.137714</td>\n",
       "      <td>0.140175</td>\n",
       "      <td>0.117478</td>\n",
       "      <td>0.108312</td>\n",
       "      <td>1.244879e-01</td>\n",
       "      <td>1.143135e-01</td>\n",
       "      <td>7.952319e-02</td>\n",
       "      <td>6.317429e-02</td>\n",
       "      <td>2.0</td>\n",
       "      <td>30.0</td>\n",
       "    </tr>\n",
       "    <tr>\n",
       "      <th>7</th>\n",
       "      <td>0.000000e+00</td>\n",
       "      <td>0.000000e+00</td>\n",
       "      <td>0.000000e+00</td>\n",
       "      <td>0.000000e+00</td>\n",
       "      <td>0.000000e+00</td>\n",
       "      <td>0.000000e+00</td>\n",
       "      <td>0.000000e+00</td>\n",
       "      <td>0.000000e+00</td>\n",
       "      <td>0.000000e+00</td>\n",
       "      <td>0.000000e+00</td>\n",
       "      <td>...</td>\n",
       "      <td>0.026032</td>\n",
       "      <td>0.048311</td>\n",
       "      <td>0.054786</td>\n",
       "      <td>0.056241</td>\n",
       "      <td>7.014527e-02</td>\n",
       "      <td>9.367604e-02</td>\n",
       "      <td>9.379197e-02</td>\n",
       "      <td>6.398021e-02</td>\n",
       "      <td>4.0</td>\n",
       "      <td>30.0</td>\n",
       "    </tr>\n",
       "    <tr>\n",
       "      <th>8</th>\n",
       "      <td>0.000000e+00</td>\n",
       "      <td>0.000000e+00</td>\n",
       "      <td>0.000000e+00</td>\n",
       "      <td>0.000000e+00</td>\n",
       "      <td>0.000000e+00</td>\n",
       "      <td>0.000000e+00</td>\n",
       "      <td>0.000000e+00</td>\n",
       "      <td>0.000000e+00</td>\n",
       "      <td>0.000000e+00</td>\n",
       "      <td>0.000000e+00</td>\n",
       "      <td>...</td>\n",
       "      <td>0.128411</td>\n",
       "      <td>0.145687</td>\n",
       "      <td>0.118149</td>\n",
       "      <td>0.087968</td>\n",
       "      <td>4.501192e-02</td>\n",
       "      <td>1.032018e-02</td>\n",
       "      <td>9.213362e-04</td>\n",
       "      <td>3.089129e-05</td>\n",
       "      <td>3.0</td>\n",
       "      <td>30.0</td>\n",
       "    </tr>\n",
       "    <tr>\n",
       "      <th>9</th>\n",
       "      <td>0.000000e+00</td>\n",
       "      <td>0.000000e+00</td>\n",
       "      <td>0.000000e+00</td>\n",
       "      <td>0.000000e+00</td>\n",
       "      <td>0.000000e+00</td>\n",
       "      <td>0.000000e+00</td>\n",
       "      <td>0.000000e+00</td>\n",
       "      <td>0.000000e+00</td>\n",
       "      <td>0.000000e+00</td>\n",
       "      <td>0.000000e+00</td>\n",
       "      <td>...</td>\n",
       "      <td>0.089332</td>\n",
       "      <td>0.043757</td>\n",
       "      <td>0.057182</td>\n",
       "      <td>0.087979</td>\n",
       "      <td>7.801964e-02</td>\n",
       "      <td>5.487717e-02</td>\n",
       "      <td>2.748157e-02</td>\n",
       "      <td>7.056589e-03</td>\n",
       "      <td>1.0</td>\n",
       "      <td>30.0</td>\n",
       "    </tr>\n",
       "  </tbody>\n",
       "</table>\n",
       "<p>10 rows × 402 columns</p>\n",
       "</div>"
      ],
      "text/plain": [
       "             px0            px1            px2            px3            px4  \\\n",
       "0   0.000000e+00   0.000000e+00   0.000000e+00   0.000000e+00   0.000000e+00   \n",
       "1   0.000000e+00   0.000000e+00   0.000000e+00   0.000000e+00   0.000000e+00   \n",
       "2  2.061327e-164  4.497601e-153  3.478481e-142  9.537495e-132  9.272226e-122   \n",
       "3   0.000000e+00   0.000000e+00   0.000000e+00   0.000000e+00   0.000000e+00   \n",
       "4   0.000000e+00   0.000000e+00   0.000000e+00   0.000000e+00   0.000000e+00   \n",
       "5   0.000000e+00   0.000000e+00   0.000000e+00   0.000000e+00   0.000000e+00   \n",
       "6   0.000000e+00   0.000000e+00   0.000000e+00   0.000000e+00   0.000000e+00   \n",
       "7   0.000000e+00   0.000000e+00   0.000000e+00   0.000000e+00   0.000000e+00   \n",
       "8   0.000000e+00   0.000000e+00   0.000000e+00   0.000000e+00   0.000000e+00   \n",
       "9   0.000000e+00   0.000000e+00   0.000000e+00   0.000000e+00   0.000000e+00   \n",
       "\n",
       "             px5            px6           px7           px8           px9  \\\n",
       "0   0.000000e+00   0.000000e+00  0.000000e+00  0.000000e+00  0.000000e+00   \n",
       "1   0.000000e+00   0.000000e+00  0.000000e+00  0.000000e+00  0.000000e+00   \n",
       "2  3.196816e-112  3.909540e-103  1.696339e-94  2.612160e-86  1.428004e-78   \n",
       "3   0.000000e+00   0.000000e+00  0.000000e+00  0.000000e+00  0.000000e+00   \n",
       "4   0.000000e+00   0.000000e+00  0.000000e+00  0.000000e+00  0.000000e+00   \n",
       "5   0.000000e+00   0.000000e+00  0.000000e+00  0.000000e+00  0.000000e+00   \n",
       "6   0.000000e+00   0.000000e+00  0.000000e+00  0.000000e+00  0.000000e+00   \n",
       "7   0.000000e+00   0.000000e+00  0.000000e+00  0.000000e+00  0.000000e+00   \n",
       "8   0.000000e+00   0.000000e+00  0.000000e+00  0.000000e+00  0.000000e+00   \n",
       "9   0.000000e+00   0.000000e+00  0.000000e+00  0.000000e+00  0.000000e+00   \n",
       "\n",
       "   ...      px392     px393     px394     px395         px396         px397  \\\n",
       "0  ...   0.250070  0.197343  0.143084  0.108140  1.244276e-01  1.248595e-01   \n",
       "1  ...   0.162447  0.157996  0.118413  0.079776  6.772443e-02  7.421235e-02   \n",
       "2  ...   0.062090  0.068438  0.065927  0.062196  6.067055e-02  7.514271e-02   \n",
       "3  ...   0.129571  0.128938  0.119042  0.106366  8.913560e-02  4.890861e-02   \n",
       "4  ...   0.132948  0.111467  0.097252  0.082426  7.507170e-02  7.893053e-02   \n",
       "5  ...   0.015263  0.002094  0.000121  0.000003  2.524741e-08  8.649132e-11   \n",
       "6  ...   0.137714  0.140175  0.117478  0.108312  1.244879e-01  1.143135e-01   \n",
       "7  ...   0.026032  0.048311  0.054786  0.056241  7.014527e-02  9.367604e-02   \n",
       "8  ...   0.128411  0.145687  0.118149  0.087968  4.501192e-02  1.032018e-02   \n",
       "9  ...   0.089332  0.043757  0.057182  0.087979  7.801964e-02  5.487717e-02   \n",
       "\n",
       "          px398         px399  gest  subj  \n",
       "0  7.469293e-02  3.321607e-02   3.0  30.0  \n",
       "1  8.307823e-02  7.843166e-02   4.0  30.0  \n",
       "2  8.786351e-02  7.442120e-02   2.0  30.0  \n",
       "3  3.522698e-02  5.278756e-02   4.0  30.0  \n",
       "4  7.004861e-02  5.049152e-02   2.0  30.0  \n",
       "5  1.110772e-13  5.754927e-17   1.0  30.0  \n",
       "6  7.952319e-02  6.317429e-02   2.0  30.0  \n",
       "7  9.379197e-02  6.398021e-02   4.0  30.0  \n",
       "8  9.213362e-04  3.089129e-05   3.0  30.0  \n",
       "9  2.748157e-02  7.056589e-03   1.0  30.0  \n",
       "\n",
       "[10 rows x 402 columns]"
      ]
     },
     "execution_count": 2,
     "metadata": {},
     "output_type": "execute_result"
    }
   ],
   "source": [
    "pim_df = pd.read_csv(\"./pim_vectors_mp40_sbst.csv\")\n",
    "pim_df.head(10)"
   ]
  },
  {
   "cell_type": "code",
   "execution_count": 3,
   "metadata": {},
   "outputs": [],
   "source": [
    "px = 40\n",
    "pim = PersImage(spread=1e-5, pixels=[px,px], verbose=False)"
   ]
  },
  {
   "cell_type": "code",
   "execution_count": 4,
   "metadata": {},
   "outputs": [],
   "source": [
    "import numpy.random as rnd"
   ]
  },
  {
   "cell_type": "code",
   "execution_count": 5,
   "metadata": {},
   "outputs": [
    {
     "data": {
      "image/png": "[encoded data removed]",
      "text/plain": [
       "<Figure size 432x288 with 1 Axes>"
      ]
     },
     "metadata": {
      "needs_background": "light"
     },
     "output_type": "display_data"
    },
    {
     "data": {
      "image/png": "[encoded data removed]",
      "text/plain": [
       "<Figure size 432x288 with 1 Axes>"
      ]
     },
     "metadata": {
      "needs_background": "light"
     },
     "output_type": "display_data"
    },
    {
     "data": {
      "image/png": "[encoded data removed]",
      "text/plain": [
       "<Figure size 432x288 with 1 Axes>"
      ]
     },
     "metadata": {
      "needs_background": "light"
     },
     "output_type": "display_data"
    }
   ],
   "source": [
    "ns = 3\n",
    "g = 1.0\n",
    "rnd.seed(1)\n",
    "for i in range(ns):\n",
    "    t = pim_df.loc[pim_df.gest == g].sample()\n",
    "    t = t.values[:, :-2].reshape(-1, px)\n",
    "    pim.show(t)\n",
    "    plt.show()"
   ]
  },
  {
   "cell_type": "code",
   "execution_count": 6,
   "metadata": {},
   "outputs": [
    {
     "data": {
      "image/png": "[encoded data removed]",
      "text/plain": [
       "<Figure size 432x288 with 1 Axes>"
      ]
     },
     "metadata": {
      "needs_background": "light"
     },
     "output_type": "display_data"
    },
    {
     "data": {
      "image/png": "[encoded data removed]",
      "text/plain": [
       "<Figure size 432x288 with 1 Axes>"
      ]
     },
     "metadata": {
      "needs_background": "light"
     },
     "output_type": "display_data"
    },
    {
     "data": {
      "image/png": "[encoded data removed]",
      "text/plain": [
       "<Figure size 432x288 with 1 Axes>"
      ]
     },
     "metadata": {
      "needs_background": "light"
     },
     "output_type": "display_data"
    }
   ],
   "source": [
    "ns = 3\n",
    "g = 2.0\n",
    "rnd.seed(1)\n",
    "for i in range(ns):\n",
    "    t = pim_df.loc[pim_df.gest == g].sample()\n",
    "    t = t.values[:, :-2].reshape(-1, px)\n",
    "    pim.show(t)\n",
    "    plt.show()"
   ]
  },
  {
   "cell_type": "code",
   "execution_count": 7,
   "metadata": {},
   "outputs": [
    {
     "data": {
      "image/png": "[encoded data removed]",
      "text/plain": [
       "<Figure size 432x288 with 1 Axes>"
      ]
     },
     "metadata": {
      "needs_background": "light"
     },
     "output_type": "display_data"
    },
    {
     "data": {
      "image/png": "[encoded data removed]",
      "text/plain": [
       "<Figure size 432x288 with 1 Axes>"
      ]
     },
     "metadata": {
      "needs_background": "light"
     },
     "output_type": "display_data"
    },
    {
     "data": {
      "image/png": "[encoded data removed]",
      "text/plain": [
       "<Figure size 432x288 with 1 Axes>"
      ]
     },
     "metadata": {
      "needs_background": "light"
     },
     "output_type": "display_data"
    }
   ],
   "source": [
    "ns = 3\n",
    "g = 3.0\n",
    "rnd.seed(1)\n",
    "for i in range(ns):\n",
    "    t = pim_df.loc[pim_df.gest == g].sample()\n",
    "    t = t.values[:, :-2].reshape(-1, px)\n",
    "    pim.show(t)\n",
    "    plt.show()"
   ]
  },
  {
   "cell_type": "code",
   "execution_count": 8,
   "metadata": {},
   "outputs": [
    {
     "data": {
      "image/png": "[encoded data removed]",
      "text/plain": [
       "<Figure size 432x288 with 1 Axes>"
      ]
     },
     "metadata": {
      "needs_background": "light"
     },
     "output_type": "display_data"
    },
    {
     "data": {
      "image/png": "[encoded data removed]",
      "text/plain": [
       "<Figure size 432x288 with 1 Axes>"
      ]
     },
     "metadata": {
      "needs_background": "light"
     },
     "output_type": "display_data"
    },
    {
     "data": {
      "image/png": "[encoded data removed]",
      "text/plain": [
       "<Figure size 432x288 with 1 Axes>"
      ]
     },
     "metadata": {
      "needs_background": "light"
     },
     "output_type": "display_data"
    }
   ],
   "source": [
    "ns = 3\n",
    "g = 4.0\n",
    "rnd.seed(1)\n",
    "for i in range(ns):\n",
    "    t = pim_df.loc[pim_df.gest == g].sample()\n",
    "    t = t.values[:, :-2].reshape(-1, px)\n",
    "    pim.show(t)\n",
    "    plt.show()"
   ]
  },
  {
   "cell_type": "code",
   "execution_count": 16,
   "metadata": {},
   "outputs": [],
   "source": [
    "# find common features by multiplying images element-wise\n",
    "CF = np.ones(px**2).reshape(-1, px)\n",
    "for i in pim_df.loc[pim_df.gest == 4].values[:, :-2]:\n",
    "    CF *= i.reshape(-1, px)"
   ]
  },
  {
   "cell_type": "code",
   "execution_count": 17,
   "metadata": {},
   "outputs": [
    {
     "data": {
      "image/png": "[encoded data removed]",
      "text/plain": [
       "<Figure size 432x288 with 1 Axes>"
      ]
     },
     "metadata": {
      "needs_background": "light"
     },
     "output_type": "display_data"
    }
   ],
   "source": [
    "pim.show(CF)"
   ]
  },
  {
   "cell_type": "code",
   "execution_count": null,
   "metadata": {},
   "outputs": [],
   "source": []
  }
 ],
 "metadata": {
  "kernelspec": {
   "display_name": "Python 3",
   "language": "python",
   "name": "python3"
  },
  "language_info": {
   "codemirror_mode": {
    "name": "ipython",
    "version": 3
   },
   "file_extension": ".py",
   "mimetype": "text/x-python",
   "name": "python",
   "nbconvert_exporter": "python",
   "pygments_lexer": "ipython3",
   "version": "3.6.8"
  }
 },
 "nbformat": 4,
 "nbformat_minor": 2
}
