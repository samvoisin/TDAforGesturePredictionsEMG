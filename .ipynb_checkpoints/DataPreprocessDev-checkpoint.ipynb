{
 "cells": [
  {
   "cell_type": "code",
   "execution_count": null,
   "metadata": {},
   "outputs": [],
   "source": [
    "import os\n",
    "import pandas as pd"
   ]
  },
  {
   "cell_type": "code",
   "execution_count": null,
   "metadata": {},
   "outputs": [],
   "source": [
    "### still going to need to make new dir for copies ###\n",
    "\n",
    "data_dir = \"./Data/EMG_data_for_gestures-master/\"\n",
    "subj_nums = os.listdir(data_dir)\n",
    "subj_data = {n : os.listdir(data_dir + n) for n in subj_nums}"
   ]
  },
  {
   "cell_type": "code",
   "execution_count": null,
   "metadata": {},
   "outputs": [],
   "source": [
    "for n in subj_nums:\n",
    "    print(os.listdir(data_dir + n + \"/\"))"
   ]
  },
  {
   "cell_type": "code",
   "execution_count": null,
   "metadata": {},
   "outputs": [],
   "source": [
    "# looking at this subject\n",
    "tst_subj = \"03\""
   ]
  },
  {
   "cell_type": "code",
   "execution_count": null,
   "metadata": {},
   "outputs": [],
   "source": [
    "tst_path_0 = data_dir + tst_subj + \"/\" + subj_data[tst_subj][0]\n",
    "tt0 = pd.read_table(tst_path_0)"
   ]
  },
  {
   "cell_type": "code",
   "execution_count": null,
   "metadata": {},
   "outputs": [],
   "source": [
    "tst_path_1 = data_dir + tst_subj + \"/\" + subj_data[tst_subj][1]\n",
    "tt1 = pd.read_table(tst_path_1)"
   ]
  },
  {
   "cell_type": "code",
   "execution_count": null,
   "metadata": {},
   "outputs": [],
   "source": [
    "tst_path_1 # example path"
   ]
  },
  {
   "cell_type": "code",
   "execution_count": null,
   "metadata": {},
   "outputs": [],
   "source": [
    "# rename \"time\" variable to \"time_ms\"\n",
    "# rename \"class\" variable to \"gesture\"\n",
    "colnames = list(tt0.columns)\n",
    "colnames[0] = \"time_ms\"\n",
    "colnames[-1] = \"gesture\"\n",
    "tt0.columns = colnames\n",
    "tt1.columns = colnames"
   ]
  },
  {
   "cell_type": "code",
   "execution_count": null,
   "metadata": {},
   "outputs": [],
   "source": [
    "def mod_col_names(full_frame):\n",
    "    \"\"\"modify column names of full_frame prior to any other manipulation\"\"\"\n",
    "    # rename \"time\" variable to \"time_ms\"\n",
    "    # rename \"class\" variable to \"gesture\"\n",
    "    colnames = list(full_frame.columns)\n",
    "    colnames[0] = \"time_ms\"\n",
    "    colnames[-1] = \"gesture\"\n",
    "    full_frame.columns = colnames\n",
    "    return full_frame"
   ]
  },
  {
   "cell_type": "code",
   "execution_count": null,
   "metadata": {},
   "outputs": [],
   "source": [
    "def find_break_pts(gesture, t = 1000):\n",
    "    \"\"\"find and return index for moments in data frame with > t ms between pt and next pt\"\"\"\n",
    "    nrow = gesture.shape[0]\n",
    "    brk_pts = [i-1 for i in range(2, nrow) if gesture.iloc[i].time_ms - gesture.iloc[i-1].time_ms > t]\n",
    "    return brk_pts"
   ]
  },
  {
   "cell_type": "code",
   "execution_count": null,
   "metadata": {},
   "outputs": [],
   "source": [
    "def zero_time(seg_df):\n",
    "    \"\"\"take previously segmented DataFrame by gesture and set time_ms to start at 0\"\"\"\n",
    "    end_time = min(seg_df.time_ms)\n",
    "    seg_df.time_ms = seg_df.time_ms - end_time\n",
    "    return seg_df"
   ]
  },
  {
   "cell_type": "code",
   "execution_count": null,
   "metadata": {},
   "outputs": [],
   "source": [
    "def gest_dict(filepath):\n",
    "    \"\"\"return dict where key is gesture # and value is indiv DataFrames for that gesture\"\"\"\n",
    "    df = pd.read_table(filepath)\n",
    "    df = mod_col_names(df)\n",
    "    gests = df.gesture.unique()\n",
    "    all_gst = dict()\n",
    "    # seperate gestures in file\n",
    "    for g in gests:\n",
    "        # split single gesture df into iterations of gesture g\n",
    "        brk_pts = find_break_pts(df[df.gesture == g])\n",
    "        gd = dict() # store sub-dfs created by breaks\n",
    "        trail = 0 \n",
    "        for n, b in enumerate(brk_pts):\n",
    "            if g == 0:\n",
    "                # treat gest == 0 seperately\n",
    "                # due to many cases btwn non-0 gests\n",
    "                gd[n] = df[df.gesture == 0].iloc[trail:b]\n",
    "                gd[n] = zero_time(gd[n])\n",
    "                train = b + 1\n",
    "            else:\n",
    "                # this will handle all other cases (gesture != 0)\n",
    "                gd[0] = zero_time(df[df.gesture == g].iloc[:b])\n",
    "                gd[1] = zero_time(df[df.gesture == g].iloc[b+1:])\n",
    "            all_gst[g] = gd\n",
    "    \n",
    "    return all_gst"
   ]
  },
  {
   "cell_type": "code",
   "execution_count": null,
   "metadata": {},
   "outputs": [],
   "source": [
    "tst = gest_dict(tst_path_1)[6]"
   ]
  },
  {
   "cell_type": "code",
   "execution_count": null,
   "metadata": {},
   "outputs": [],
   "source": [
    "tst_path_1"
   ]
  },
  {
   "cell_type": "code",
   "execution_count": null,
   "metadata": {},
   "outputs": [],
   "source": [
    "def build_new_ref(to_dir, sn, orig_file, g, ct):\n",
    "    \"\"\"build a new file path based on attributes of data to be saved; naming convention:\n",
    "    to_dir - top level dir for cleaned data\n",
    "    sn - subject number\n",
    "    orig_file - file name with raw data; 2 per subject\n",
    "    g - gesture number\n",
    "    ct - counter for files w/ similar names (e.g. gesture 2, 0 & 1)\n",
    "    \"\"\"\n",
    "    if orig_file.startswith(\"1\"):\n",
    "        new_ref = to_dir + sn + \"/1/\" + g + \"_\" + ct\n",
    "    else:\n",
    "        new_ref = to_dir + sn + \"/2/\" + g + \"_\" + ct\n",
    "    return new_ref"
   ]
  },
  {
   "cell_type": "code",
   "execution_count": null,
   "metadata": {},
   "outputs": [],
   "source": [
    "for j in subj_nums:\n",
    "    # get files 1 and 2 for subject j\n",
    "    fp0 = data_dir + j + \"/\" + subj_data[j][0]\n",
    "    fp1 = data_dir + j + \"/\" + subj_data[j][1]\n",
    "    gest_dict(fp0)"
   ]
  },
  {
   "cell_type": "code",
   "execution_count": null,
   "metadata": {},
   "outputs": [],
   "source": [
    "# check if residual movement from gesture persists to 0 range"
   ]
  },
  {
   "cell_type": "code",
   "execution_count": null,
   "metadata": {},
   "outputs": [],
   "source": [
    "subj_data[\"30\"][1].startswith(\"1\")"
   ]
  },
  {
   "cell_type": "code",
   "execution_count": null,
   "metadata": {},
   "outputs": [],
   "source": []
  }
 ],
 "metadata": {
  "kernelspec": {
   "display_name": "Python 3",
   "language": "python",
   "name": "python3"
  },
  "language_info": {
   "codemirror_mode": {
    "name": "ipython",
    "version": 3
   },
   "file_extension": ".py",
   "mimetype": "text/x-python",
   "name": "python",
   "nbconvert_exporter": "python",
   "pygments_lexer": "ipython3",
   "version": "3.6.8"
  }
 },
 "nbformat": 4,
 "nbformat_minor": 2
}
