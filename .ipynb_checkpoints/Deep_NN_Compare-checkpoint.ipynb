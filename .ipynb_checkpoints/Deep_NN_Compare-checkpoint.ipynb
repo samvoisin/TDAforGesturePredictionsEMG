{
 "cells": [
  {
   "cell_type": "code",
   "execution_count": null,
   "metadata": {},
   "outputs": [],
   "source": [
    "import numpy as np\n",
    "import scipy.linalg as la\n",
    "import matplotlib.pyplot as plt"
   ]
  },
  {
   "cell_type": "code",
   "execution_count": null,
   "metadata": {},
   "outputs": [],
   "source": [
    "from scipy.ndimage import gaussian_filter\n",
    "from sklearn.manifold import Isomap\n",
    "from sklearn.model_selection import train_test_split\n",
    "from math import floor\n",
    "\n",
    "from data_cube import DataCube\n",
    "from similarity_network_fusion import SNF, cumulated_euc_ts"
   ]
  },
  {
   "cell_type": "code",
   "execution_count": null,
   "metadata": {},
   "outputs": [],
   "source": [
    "dc = DataCube(\n",
    "    subjects=\"all\",\n",
    "    gestures=[\"3\", \"4\", \"5\", \"6\"],\n",
    "    channels=[\"2\", \"4\", \"6\", \"8\"],\n",
    "    data_grp=\"parsed\")\n",
    "dc.load_data()\n",
    "dc.normalize_modalities()\n",
    "dc.rms_smooth(100, 50)\n",
    "\n",
    "dc.get_max_obs(smooth=True)\n",
    "dc.get_min_obs(smooth=True)"
   ]
  },
  {
   "cell_type": "code",
   "execution_count": null,
   "metadata": {},
   "outputs": [],
   "source": [
    "subj_lab = []\n",
    "gest_lab = []\n",
    "arrays = []\n",
    "\n",
    "for s, gdict in dc.data_set_smooth.items():\n",
    "    for g, a in gdict.items():\n",
    "        subj_lab.append(s)\n",
    "        gest_lab.append(int(g[0]))\n",
    "        arrays.append(a[:, 1:-1])"
   ]
  },
  {
   "cell_type": "code",
   "execution_count": null,
   "metadata": {},
   "outputs": [],
   "source": [
    "# set to array and base at shift gestures down by 3 (i.e. to 0,1,2,3 instead of 3,4,5,6) for keras\n",
    "gest_lab = np.array(gest_lab) - 3"
   ]
  },
  {
   "cell_type": "markdown",
   "metadata": {},
   "source": [
    "---"
   ]
  },
  {
   "cell_type": "code",
   "execution_count": null,
   "metadata": {},
   "outputs": [],
   "source": [
    "def cumulated_ts_2(a1, a2):\n",
    "    \"\"\"\n",
    "    cumulated version of the time series w/ euclidean distance\n",
    "    in which we take the sum values over time as time increases\n",
    "    and then apply the chosen metric.\n",
    "    i, j - arrays of data points\n",
    "    \"\"\"\n",
    "    return la.norm(a1.sum(axis=0)-a2.sum(axis=0))"
   ]
  },
  {
   "cell_type": "markdown",
   "metadata": {},
   "source": [
    "---"
   ]
  },
  {
   "cell_type": "code",
   "execution_count": null,
   "metadata": {},
   "outputs": [],
   "source": [
    "# generate raw signal SSMs for each gesture\n",
    "raw_ssm_lst = [np.zeros(shape=(a.shape[0], a.shape[0])) for a in arrays]\n",
    "for n, a in enumerate(arrays):\n",
    "    for i in range(a.shape[0]):\n",
    "        for j in range(a.shape[0]):\n",
    "            raw_ssm_lst[n][i,j] = cumulated_ts_2(a[i,:],a[j,:])\n",
    "                \n",
    "# smooth SSM images\n",
    "for r, s in enumerate(raw_ssm_lst):\n",
    "    raw_ssm_lst[r] = gaussian_filter(s, sigma=1)"
   ]
  },
  {
   "cell_type": "code",
   "execution_count": null,
   "metadata": {},
   "outputs": [],
   "source": [
    "# generate ISOMAP SSMs for each gesture\n",
    "\n",
    "# initialize embedding\n",
    "iso = Isomap(n_neighbors=3, n_components=1)\n",
    "\n",
    "iso_ssm_lst = [np.zeros(shape=(a.shape[0], a.shape[0])) for a in arrays]\n",
    "for n, a in enumerate(arrays):\n",
    "    embed = iso.fit_transform(a)\n",
    "    for i in range(embed.size):\n",
    "        for j in range(embed.size):\n",
    "            iso_ssm_lst[n][i,j] = cumulated_ts_2(embed[i,:], embed[j,:])\n",
    "                \n",
    "# smooth SSM images\n",
    "for r, s in enumerate(iso_ssm_lst):\n",
    "    iso_ssm_lst[r] = gaussian_filter(s, sigma=1)"
   ]
  },
  {
   "cell_type": "code",
   "execution_count": null,
   "metadata": {},
   "outputs": [],
   "source": [
    "# generate SNF images for each gesture\n",
    "\n",
    "print(len(arrays))\n",
    "\n",
    "snf_lst = []\n",
    "for n, a in enumerate(arrays):\n",
    "    if n % 100 == 0: print(n)\n",
    "    snf = SNF(a, k=0.2, metric=cumulated_euc_ts)\n",
    "    # calculate graph weights to find knn\n",
    "    snf.calc_weights()\n",
    "    snf.normalize_weights()\n",
    "    # generate and normalize knn graphs\n",
    "    snf.calc_knn_weights()\n",
    "    snf.normalize_knn_weights()\n",
    "    # fuse graphs\n",
    "    snf.network_fusion(eta=1, iters=20)\n",
    "    # save template to dict\n",
    "    snf_lst.append(snf.fused_similarity_template)\n",
    "\n",
    "# smooth SNF images\n",
    "for r, s in enumerate(snf_lst):\n",
    "    snf_lst[r] = gaussian_filter(s, sigma=1)"
   ]
  },
  {
   "cell_type": "markdown",
   "metadata": {},
   "source": [
    "---\n",
    "### Pre-Process images"
   ]
  },
  {
   "cell_type": "code",
   "execution_count": null,
   "metadata": {},
   "outputs": [],
   "source": [
    "# normalize and standardize raw signal SSMs for each gesture\n",
    "for r, s in enumerate(raw_ssm_lst):\n",
    "    s = (s-s.mean()) / s.std()"
   ]
  },
  {
   "cell_type": "code",
   "execution_count": null,
   "metadata": {},
   "outputs": [],
   "source": [
    "# normalize and standardize ISOMAP SSMs for each gesture\n",
    "for r, s in enumerate(iso_ssm_lst):\n",
    "    s = (s-s.mean()) / s.std()"
   ]
  },
  {
   "cell_type": "code",
   "execution_count": null,
   "metadata": {},
   "outputs": [],
   "source": [
    "# normalize and standardize SNF images for each gesture\n",
    "for r, s in enumerate(snf_lst):\n",
    "    s = (s-s.mean()) / s.std()"
   ]
  },
  {
   "cell_type": "code",
   "execution_count": null,
   "metadata": {},
   "outputs": [],
   "source": [
    "# zero pad raw signal SSMs for each gesture\n",
    "pad_ssm_lst = [np.zeros(shape=(dc.max_obs, dc.max_obs)) for a in arrays]\n",
    "for r, s in enumerate(raw_ssm_lst):\n",
    "    pad_ssm_lst[r][:s.shape[0], :s.shape[1]] = s"
   ]
  },
  {
   "cell_type": "code",
   "execution_count": null,
   "metadata": {},
   "outputs": [],
   "source": [
    "# zero pad ISOMAP SSMs for each gesture\n",
    "pad_iso_lst = [np.zeros(shape=(dc.max_obs, dc.max_obs)) for a in arrays]\n",
    "for r, s in enumerate(iso_ssm_lst):\n",
    "    pad_iso_lst[r][:s.shape[0], :s.shape[1]] = s"
   ]
  },
  {
   "cell_type": "code",
   "execution_count": null,
   "metadata": {},
   "outputs": [],
   "source": [
    "# zero pad SNF images for each gesture\n",
    "pad_snf_lst = [np.zeros(shape=(dc.max_obs, dc.max_obs)) for a in arrays]\n",
    "for r, s in enumerate(snf_lst):\n",
    "    pad_snf_lst[r][:s.shape[0], :s.shape[1]] = s"
   ]
  },
  {
   "cell_type": "markdown",
   "metadata": {},
   "source": [
    "---"
   ]
  },
  {
   "cell_type": "code",
   "execution_count": null,
   "metadata": {},
   "outputs": [],
   "source": [
    "import keras\n",
    "from keras.models import Sequential\n",
    "from keras.layers import Dense, Activation, Dropout, Flatten, Conv2D, MaxPooling2D\n",
    "from keras.layers.normalization import BatchNormalization\n",
    "from keras.preprocessing.image import ImageDataGenerator\n",
    "from keras.utils import to_categorical\n",
    "from keras.optimizers import Adam\n",
    "\n",
    "np.random.seed(1)"
   ]
  },
  {
   "cell_type": "code",
   "execution_count": null,
   "metadata": {},
   "outputs": [],
   "source": [
    "inp_shp = (dc.max_obs,dc.max_obs,1)"
   ]
  },
  {
   "cell_type": "code",
   "execution_count": null,
   "metadata": {},
   "outputs": [],
   "source": [
    "#Instantiate an empty model\n",
    "model = Sequential()\n",
    "\n",
    "# 1st Convolutional Layer\n",
    "model.add(Conv2D(filters=96, input_shape=inp_shp, kernel_size=(11,11), strides=(1,1), padding=\"valid\"))\n",
    "model.add(Activation(\"relu\"))\n",
    "# Max Pooling\n",
    "model.add(MaxPooling2D(pool_size=(2,2), strides=(2,2), padding=\"valid\"))\n",
    "\n",
    "# 2nd Convolutional Layer\n",
    "model.add(Conv2D(filters=256, kernel_size=(11,11), strides=(1,1), padding=\"valid\"))\n",
    "model.add(Activation(\"relu\"))\n",
    "# Max Pooling\n",
    "model.add(MaxPooling2D(pool_size=(2,2), strides=(2,2), padding=\"valid\"))\n",
    "\n",
    "# 3rd Convolutional Layer\n",
    "model.add(Conv2D(filters=384, kernel_size=(3,3), strides=(1,1), padding=\"valid\"))\n",
    "model.add(Activation(\"relu\"))\n",
    "\n",
    "# 4th Convolutional Layer\n",
    "model.add(Conv2D(filters=384, kernel_size=(3,3), strides=(1,1), padding=\"valid\"))\n",
    "model.add(Activation(\"relu\"))\n",
    "\n",
    "# 5th Convolutional Layer\n",
    "model.add(Conv2D(filters=256, kernel_size=(3,3), strides=(1,1), padding=\"valid\"))\n",
    "model.add(Activation(\"relu\"))\n",
    "# Max Pooling\n",
    "model.add(MaxPooling2D(pool_size=(2,2), strides=(2,2), padding=\"valid\"))\n",
    "\n",
    "# Passing it to a Fully Connected layer\n",
    "model.add(Flatten())\n",
    "# 1st Fully Connected Layer\n",
    "model.add(Dense(4096, input_shape=(224*224*3,)))\n",
    "model.add(Activation(\"relu\"))\n",
    "# Add Dropout to prevent overfitting\n",
    "model.add(Dropout(0.4))\n",
    "\n",
    "# 2nd Fully Connected Layer\n",
    "model.add(Dense(4096))\n",
    "model.add(Activation(\"relu\"))\n",
    "# Add Dropout\n",
    "model.add(Dropout(0.4))\n",
    "\n",
    "# 3rd Fully Connected Layer\n",
    "model.add(Dense(1000))\n",
    "model.add(Activation(\"relu\"))\n",
    "# Add Dropout\n",
    "model.add(Dropout(0.4))\n",
    "\n",
    "# Output Layer\n",
    "model.add(Dense(4))\n",
    "model.add(Activation(\"softmax\"))\n",
    "\n",
    "model.summary()"
   ]
  },
  {
   "cell_type": "code",
   "execution_count": null,
   "metadata": {},
   "outputs": [],
   "source": [
    "# Compile the model\n",
    "opt = Adam(learning_rate=1e-5, beta_1=0.9, beta_2=0.999, amsgrad=False)\n",
    "\n",
    "model.compile(loss=keras.losses.categorical_crossentropy,\n",
    "              optimizer=\"adam\",\n",
    "              metrics=[\"accuracy\"])"
   ]
  },
  {
   "cell_type": "code",
   "execution_count": null,
   "metadata": {},
   "outputs": [],
   "source": [
    "# train/ test\n",
    "x_train, x_test, y_train, y_test = train_test_split(pad_ssm_lst, gest_lab, test_size=0.2, random_state=1)\n",
    "\n",
    "# transform to numpy arrays\n",
    "x_train = np.array(x_train).reshape(len(x_train), 63, 63, 1)\n",
    "x_test = np.array(x_test).reshape(len(x_test), 63, 63, 1)\n",
    "y_train = to_categorical(np.array(y_train))\n",
    "y_test = to_categorical(np.array(y_test))"
   ]
  },
  {
   "cell_type": "code",
   "execution_count": null,
   "metadata": {},
   "outputs": [],
   "source": [
    "batch_size = len(gest_lab)\n",
    "epochs = 100\n",
    "\n",
    "history = model.fit(x_train, y_train,\n",
    "                    batch_size=batch_size,\n",
    "                    epochs=epochs,\n",
    "                    validation_data=(x_test, y_test),\n",
    "                    shuffle=True)"
   ]
  },
  {
   "cell_type": "code",
   "execution_count": null,
   "metadata": {},
   "outputs": [],
   "source": [
    "# Plot training & validation accuracy values\n",
    "plt.plot(history.history['accuracy'])\n",
    "plt.plot(history.history['val_accuracy'])\n",
    "plt.title('Model accuracy')\n",
    "plt.ylabel('Accuracy')\n",
    "plt.xlabel('Epoch')\n",
    "plt.legend(['Train', 'Test'], loc='upper left')\n",
    "plt.show()\n",
    "\n",
    "# Plot training & validation loss values\n",
    "plt.plot(history.history['loss'])\n",
    "plt.plot(history.history['val_loss'])\n",
    "plt.title('Model loss')\n",
    "plt.ylabel('Loss')\n",
    "plt.xlabel('Epoch')\n",
    "plt.legend(['Train', 'Test'], loc='upper left')\n",
    "plt.show()"
   ]
  },
  {
   "cell_type": "code",
   "execution_count": null,
   "metadata": {},
   "outputs": [],
   "source": []
  }
 ],
 "metadata": {
  "kernelspec": {
   "display_name": "Python 3",
   "language": "python",
   "name": "python3"
  },
  "language_info": {
   "codemirror_mode": {
    "name": "ipython",
    "version": 3
   },
   "file_extension": ".py",
   "mimetype": "text/x-python",
   "name": "python",
   "nbconvert_exporter": "python",
   "pygments_lexer": "ipython3",
   "version": "3.6.8"
  }
 },
 "nbformat": 4,
 "nbformat_minor": 2
}
