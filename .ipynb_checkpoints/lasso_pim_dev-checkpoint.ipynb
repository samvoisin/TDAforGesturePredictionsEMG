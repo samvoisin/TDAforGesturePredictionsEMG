{
 "cells": [
  {
   "cell_type": "code",
   "execution_count": null,
   "metadata": {},
   "outputs": [],
   "source": [
    "import numpy as np\n",
    "import pandas as pd\n",
    "import pickle\n",
    "\n",
    "from persim import PersImage\n",
    "\n",
    "from sklearn.linear_model import LogisticRegression\n",
    "#from sklearn.model_selection import train_test_split\n",
    "from sklearn.model_selection import StratifiedKFold\n",
    "import matplotlib.pyplot as plt"
   ]
  },
  {
   "cell_type": "code",
   "execution_count": null,
   "metadata": {},
   "outputs": [],
   "source": [
    "pim_df = pd.read_csv(\"./pim_vectors_mp20_sbst.csv\")\n",
    "pim_df.gest = pim_df.gest.astype(\"category\")\n",
    "\n",
    "pims = pim_df.values[:, :-2] # predictor vectors: persistence images (864xpx**2)\n",
    "gests = pim_df.values[:, -2].astype(\"int64\") # data labels: gesture numbers\n",
    "unq_gests = np.unique(gests).size"
   ]
  },
  {
   "cell_type": "code",
   "execution_count": null,
   "metadata": {},
   "outputs": [],
   "source": [
    "skf = StratifiedKFold(n_splits=5, shuffle=True)"
   ]
  },
  {
   "cell_type": "code",
   "execution_count": null,
   "metadata": {},
   "outputs": [],
   "source": [
    "fit_mat = np.zeros(200*2).reshape(-1, 2)\n",
    "ctr = 0\n",
    "for n, lbda in enumerate(range(1, 1001, 5)):\n",
    "    ctr += 1\n",
    "    if ctr % 10 == 0:\n",
    "        print(ctr)\n",
    "    fv_acc = []\n",
    "    for trn_idx, tst_idx in skf.split(pims, gests):\n",
    "        pims_trn, pims_tst = pims[trn_idx, :], pims[tst_idx, :]\n",
    "        gests_trn, gests_tst = gests[trn_idx], gests[tst_idx]\n",
    "        \n",
    "        lasso_reg = LogisticRegression(\n",
    "            penalty=\"l1\",\n",
    "            C=lbda,\n",
    "            solver=\"saga\",\n",
    "            fit_intercept=True,\n",
    "            max_iter=5000,\n",
    "            multi_class=\"multinomial\",\n",
    "            random_state=1)\n",
    "        lasso_reg.fit(pims_trn, gests_trn)\n",
    "        \n",
    "        fv_acc.append(lasso_reg.score(pims_tst, gests_tst))\n",
    "    \n",
    "    acc = sum(fv_acc) / 5\n",
    "    \n",
    "    fit_mat[n, :] = np.array([lbda, acc])        "
   ]
  },
  {
   "cell_type": "code",
   "execution_count": null,
   "metadata": {},
   "outputs": [],
   "source": [
    "plt.scatter(fit_mat[:, 0], fit_mat[:, 1])\n",
    "plt.show()"
   ]
  },
  {
   "cell_type": "code",
   "execution_count": null,
   "metadata": {},
   "outputs": [],
   "source": []
  }
 ],
 "metadata": {
  "kernelspec": {
   "display_name": "Python 3",
   "language": "python",
   "name": "python3"
  },
  "language_info": {
   "codemirror_mode": {
    "name": "ipython",
    "version": 3
   },
   "file_extension": ".py",
   "mimetype": "text/x-python",
   "name": "python",
   "nbconvert_exporter": "python",
   "pygments_lexer": "ipython3",
   "version": "3.7.2"
  }
 },
 "nbformat": 4,
 "nbformat_minor": 2
}
