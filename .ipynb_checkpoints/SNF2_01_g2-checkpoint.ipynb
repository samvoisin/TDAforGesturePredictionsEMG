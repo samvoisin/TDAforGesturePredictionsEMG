{
 "cells": [
  {
   "cell_type": "code",
   "execution_count": 1,
   "metadata": {},
   "outputs": [],
   "source": [
    "import numpy as np\n",
    "from numpy import linalg as la\n",
    "import matplotlib.pyplot as plt\n",
    "from scipy.interpolate import griddata\n",
    "\n",
    "from data_cube import DataCube\n",
    "from ssm import SSM\n",
    "from snf2 import SNF"
   ]
  },
  {
   "cell_type": "code",
   "execution_count": 2,
   "metadata": {},
   "outputs": [],
   "source": [
    "dc = DataCube(\n",
    "    subjects=[\"01\"],\n",
    "    gestures=[\"1\", \"2\", \"3\", \"4\"],\n",
    "    channels=[\"2\", \"4\", \"5\", \"6\", \"8\"],\n",
    "    data_grp=\"parsed\"\n",
    ")\n",
    "dc.load_data()\n",
    "dc.rms_smooth(300, 20)\n",
    "dc.get_max_obs(smooth=True)"
   ]
  },
  {
   "cell_type": "code",
   "execution_count": 3,
   "metadata": {},
   "outputs": [
    {
     "ename": "KeyError",
     "evalue": "'02'",
     "output_type": "error",
     "traceback": [
      "\u001b[0;31m---------------------------------------------------------------------------\u001b[0m",
      "\u001b[0;31mKeyError\u001b[0m                                  Traceback (most recent call last)",
      "\u001b[0;32m<ipython-input-3-93e01ba78d01>\u001b[0m in \u001b[0;36m<module>\u001b[0;34m\u001b[0m\n\u001b[0;32m----> 1\u001b[0;31m \u001b[0msnf_tst\u001b[0m \u001b[0;34m=\u001b[0m \u001b[0mSNF\u001b[0m\u001b[0;34m(\u001b[0m\u001b[0mdc\u001b[0m\u001b[0;34m.\u001b[0m\u001b[0mdata_set_smooth\u001b[0m\u001b[0;34m[\u001b[0m\u001b[0;34m\"02\"\u001b[0m\u001b[0;34m]\u001b[0m\u001b[0;34m[\u001b[0m\u001b[0;34m\"1_1_1\"\u001b[0m\u001b[0;34m]\u001b[0m\u001b[0;34m[\u001b[0m\u001b[0;34m:\u001b[0m\u001b[0;34m,\u001b[0m \u001b[0;34m:\u001b[0m\u001b[0;36m6\u001b[0m\u001b[0;34m]\u001b[0m\u001b[0;34m,\u001b[0m \u001b[0mk\u001b[0m\u001b[0;34m=\u001b[0m\u001b[0;36m0.5\u001b[0m\u001b[0;34m)\u001b[0m\u001b[0;34m\u001b[0m\u001b[0;34m\u001b[0m\u001b[0m\n\u001b[0m\u001b[1;32m      2\u001b[0m \u001b[0msnf_tst\u001b[0m\u001b[0;34m.\u001b[0m\u001b[0mnormalize_modalities\u001b[0m\u001b[0;34m(\u001b[0m\u001b[0;34m)\u001b[0m\u001b[0;34m\u001b[0m\u001b[0;34m\u001b[0m\u001b[0m\n\u001b[1;32m      3\u001b[0m \u001b[0;34m\u001b[0m\u001b[0m\n\u001b[1;32m      4\u001b[0m \u001b[0;31m# need to calc weights to find knn\u001b[0m\u001b[0;34m\u001b[0m\u001b[0;34m\u001b[0m\u001b[0;34m\u001b[0m\u001b[0m\n\u001b[1;32m      5\u001b[0m \u001b[0msnf_tst\u001b[0m\u001b[0;34m.\u001b[0m\u001b[0mcalc_weights\u001b[0m\u001b[0;34m(\u001b[0m\u001b[0;34m)\u001b[0m\u001b[0;34m\u001b[0m\u001b[0;34m\u001b[0m\u001b[0m\n",
      "\u001b[0;31mKeyError\u001b[0m: '02'"
     ]
    }
   ],
   "source": [
    "snf_tst = SNF(dc.data_set_smooth[\"01\"][\"2_1_1\"][:, :6], k=0.5)\n",
    "snf_tst.normalize_modalities()\n",
    "\n",
    "# need to calc weights to find knn\n",
    "snf_tst.calc_weights()\n",
    "snf_tst.normalize_weights()\n",
    "# generate and normalize knn graph\n",
    "snf_tst.calc_knn_weights()\n",
    "snf_tst.normalize_knn_weights()\n",
    "\n",
    "snf_tst.network_fusion(iters=5000)\n",
    "\n",
    "snf_tst.plot_template()"
   ]
  },
  {
   "cell_type": "markdown",
   "metadata": {},
   "source": [
    "---"
   ]
  },
  {
   "cell_type": "code",
   "execution_count": null,
   "metadata": {},
   "outputs": [],
   "source": [
    "snf_tst = SNF(dc.data_set_smooth[\"01\"][\"2_0_1\"][:, :6], k=0.5)\n",
    "snf_tst.normalize_modalities()\n",
    "\n",
    "# need to calc weights to find knn\n",
    "snf_tst.calc_weights()\n",
    "snf_tst.normalize_weights()\n",
    "# generate and normalize knn graph\n",
    "snf_tst.calc_knn_weights()\n",
    "snf_tst.normalize_knn_weights()\n",
    "\n",
    "snf_tst.network_fusion(iters=5000)\n",
    "\n",
    "snf_tst.plot_template()"
   ]
  },
  {
   "cell_type": "markdown",
   "metadata": {},
   "source": [
    "---"
   ]
  },
  {
   "cell_type": "code",
   "execution_count": null,
   "metadata": {},
   "outputs": [],
   "source": [
    "snf_tst = SNF(dc.data_set_smooth[\"01\"][\"2_1_2\"][:, :6], k=0.5)\n",
    "snf_tst.normalize_modalities()\n",
    "\n",
    "# need to calc weights to find knn\n",
    "snf_tst.calc_weights()\n",
    "snf_tst.normalize_weights()\n",
    "# generate and normalize knn graph\n",
    "snf_tst.calc_knn_weights()\n",
    "snf_tst.normalize_knn_weights()\n",
    "\n",
    "snf_tst.network_fusion(iters=5000)\n",
    "\n",
    "snf_tst.plot_template()"
   ]
  },
  {
   "cell_type": "markdown",
   "metadata": {},
   "source": [
    "---"
   ]
  },
  {
   "cell_type": "code",
   "execution_count": null,
   "metadata": {},
   "outputs": [],
   "source": [
    "snf_tst = SNF(dc.data_set_smooth[\"01\"][\"2_0_2\"][:, :6], k=0.5)\n",
    "snf_tst.normalize_modalities()\n",
    "\n",
    "# need to calc weights to find knn\n",
    "snf_tst.calc_weights()\n",
    "snf_tst.normalize_weights()\n",
    "# generate and normalize knn graph\n",
    "snf_tst.calc_knn_weights()\n",
    "snf_tst.normalize_knn_weights()\n",
    "\n",
    "snf_tst.network_fusion(iters=5000)\n",
    "\n",
    "snf_tst.plot_template()"
   ]
  },
  {
   "cell_type": "code",
   "execution_count": null,
   "metadata": {},
   "outputs": [],
   "source": []
  }
 ],
 "metadata": {
  "kernelspec": {
   "display_name": "Python 3",
   "language": "python",
   "name": "python3"
  },
  "language_info": {
   "codemirror_mode": {
    "name": "ipython",
    "version": 3
   },
   "file_extension": ".py",
   "mimetype": "text/x-python",
   "name": "python",
   "nbconvert_exporter": "python",
   "pygments_lexer": "ipython3",
   "version": "3.6.8"
  }
 },
 "nbformat": 4,
 "nbformat_minor": 2
}
