{
 "cells": [
  {
   "cell_type": "code",
   "execution_count": 1,
   "metadata": {},
   "outputs": [],
   "source": [
    "import pandas as pd\n",
    "import numpy as np\n",
    "import numpy.linalg as la\n",
    "import matplotlib.pyplot as plt\n",
    "import seaborn as sns\n",
    "\n",
    "from sklearn.cluster import SpectralClustering, KMeans"
   ]
  },
  {
   "cell_type": "code",
   "execution_count": 2,
   "metadata": {},
   "outputs": [],
   "source": [
    "def rbf_kern(v1, v2, scale):\n",
    "    \"\"\"\n",
    "    radial-basis function\n",
    "    \"\"\"\n",
    "    return np.exp(la.norm(v1-v2, 2)**2 / -scale)"
   ]
  },
  {
   "cell_type": "code",
   "execution_count": 3,
   "metadata": {},
   "outputs": [],
   "source": [
    "def form_wgt_mat(A, kern, gamma, tol=1e-10):\n",
    "    \"\"\"\n",
    "    generate weight matrix\n",
    "    INPUT:\n",
    "    pim vectors A\n",
    "    kernel function\n",
    "    tolerance - any weight below this value will be set to zero\n",
    "    \"\"\"\n",
    "    (r, c) = A.shape\n",
    "    wgt_mat = np.zeros(r * r).reshape(r, r)\n",
    "\n",
    "    for i in range(r):\n",
    "        ### progress bar ###\n",
    "        pb = \"~\"*int(i/r*100)+\" \"*int((1-i/r)*100)+\"|\"\n",
    "        print(pb, end=\"\\r\")\n",
    "        ####################\n",
    "        for j in range(r):\n",
    "            if i == j: wgt_mat[i, j] = 0\n",
    "            else: wgt_mat[i, j] = rbf_kern(A[i, :], A[j, :], gamma)\n",
    "\n",
    "    for i in range(r):\n",
    "        for j in range(r):\n",
    "            if wgt_mat[i, j] < tol and wgt_mat[i, j] != 0:\n",
    "                wgt_mat[i, j] = 0\n",
    "\n",
    "    return wgt_mat"
   ]
  },
  {
   "cell_type": "code",
   "execution_count": 4,
   "metadata": {},
   "outputs": [],
   "source": [
    "def cluster_composition(clabs, df, idcol):\n",
    "    \"\"\"\n",
    "    return percentage of each gesture composing each cluster\n",
    "    INPUT:\n",
    "    clabs - cluster labels (numpy array)\n",
    "    df - data frame of observations including column of IDs (pandas DataFrame)\n",
    "    idcol - specific column which includs ID values\n",
    "    \"\"\"\n",
    "    df[\"cluster_ID\"] = clabs\n",
    "    unq_cats = df[idcol].unique() # unique category variables in idcol"
   ]
  },
  {
   "cell_type": "code",
   "execution_count": 5,
   "metadata": {},
   "outputs": [
    {
     "name": "stdout",
     "output_type": "stream",
     "text": [
      "~~~~~~~~~~~~~~~~~~~~~~~~~~~~~~~~~~~~~~~~~~~~~~~~~~~~~~~~~~~~~~~~~~~~~~~~~~~~~~~~~~~~~~~~~~~~~~~~~~~||\r"
     ]
    }
   ],
   "source": [
    "pim_df = pd.read_csv(\"./pim_vectors_mp40.csv\")\n",
    "pim_vecs = pim_df.values[:, :-2]\n",
    "\n",
    "W = form_wgt_mat(pim_vecs, rbf_kern, 15)\n",
    "D = np.diag(W.sum(axis=1))\n",
    "L = D - W # graph laplacian\n",
    "\n",
    "evals, evecs = la.eig(L)\n",
    "eidx = np.argsort(evals.real)\n",
    "evecs = evecs.real[:, eidx]\n",
    "evals = evals.real[eidx]"
   ]
  },
  {
   "cell_type": "code",
   "execution_count": 6,
   "metadata": {},
   "outputs": [],
   "source": [
    "X = evecs[:, :4]"
   ]
  },
  {
   "cell_type": "code",
   "execution_count": 7,
   "metadata": {},
   "outputs": [],
   "source": [
    "kmeans = KMeans(n_clusters=4, precompute_distances=True)\n",
    "kmeans.fit_predict(X)\n",
    "clabs = kmeans.labels_\n",
    "idcol = \"gest\""
   ]
  },
  {
   "cell_type": "code",
   "execution_count": 11,
   "metadata": {},
   "outputs": [],
   "source": [
    "tstfrm = pim_df\n",
    "tstfrm[\"cluster_ID\"] = clabs\n",
    "unq_cats = tstfrm[idcol].unique() # unique category variables in idcol\n",
    "unq_cats = unq_cats.astype(\"int\")\n",
    "unq_cids = tstfrm[\"cluster_ID\"].unique() # unique cluster IDs"
   ]
  },
  {
   "cell_type": "code",
   "execution_count": 12,
   "metadata": {
    "scrolled": false
   },
   "outputs": [],
   "source": [
    "comp_df = np.zeros(len(unq_cats)*len(unq_cids)).reshape(len(unq_cids), -1)\n",
    "\n",
    "for n, i in enumerate(unq_cids):\n",
    "    clust_tot = sum(tstfrm.cluster_ID==i)\n",
    "    temp = tstfrm[idcol][tstfrm.cluster_ID==i]\n",
    "    for m, j in enumerate(unq_cats):\n",
    "        comp_df[n, m] = (sum(temp == j) / clust_tot)*100\n",
    "    "
   ]
  },
  {
   "cell_type": "code",
   "execution_count": 13,
   "metadata": {},
   "outputs": [
    {
     "data": {
      "text/html": [
       "<div>\n",
       "<style scoped>\n",
       "    .dataframe tbody tr th:only-of-type {\n",
       "        vertical-align: middle;\n",
       "    }\n",
       "\n",
       "    .dataframe tbody tr th {\n",
       "        vertical-align: top;\n",
       "    }\n",
       "\n",
       "    .dataframe thead th {\n",
       "        text-align: right;\n",
       "    }\n",
       "</style>\n",
       "<table border=\"1\" class=\"dataframe\">\n",
       "  <thead>\n",
       "    <tr style=\"text-align: right;\">\n",
       "      <th></th>\n",
       "      <th>5</th>\n",
       "      <th>3</th>\n",
       "      <th>4</th>\n",
       "      <th>2</th>\n",
       "      <th>1</th>\n",
       "      <th>6</th>\n",
       "    </tr>\n",
       "  </thead>\n",
       "  <tbody>\n",
       "    <tr>\n",
       "      <th>0</th>\n",
       "      <td>16.744186</td>\n",
       "      <td>16.744186</td>\n",
       "      <td>16.744186</td>\n",
       "      <td>16.744186</td>\n",
       "      <td>16.27907</td>\n",
       "      <td>16.744186</td>\n",
       "    </tr>\n",
       "    <tr>\n",
       "      <th>2</th>\n",
       "      <td>0.000000</td>\n",
       "      <td>0.000000</td>\n",
       "      <td>0.000000</td>\n",
       "      <td>0.000000</td>\n",
       "      <td>100.00000</td>\n",
       "      <td>0.000000</td>\n",
       "    </tr>\n",
       "    <tr>\n",
       "      <th>3</th>\n",
       "      <td>0.000000</td>\n",
       "      <td>0.000000</td>\n",
       "      <td>0.000000</td>\n",
       "      <td>0.000000</td>\n",
       "      <td>100.00000</td>\n",
       "      <td>0.000000</td>\n",
       "    </tr>\n",
       "    <tr>\n",
       "      <th>1</th>\n",
       "      <td>0.000000</td>\n",
       "      <td>0.000000</td>\n",
       "      <td>0.000000</td>\n",
       "      <td>0.000000</td>\n",
       "      <td>100.00000</td>\n",
       "      <td>0.000000</td>\n",
       "    </tr>\n",
       "  </tbody>\n",
       "</table>\n",
       "</div>"
      ],
      "text/plain": [
       "           5          3          4          2          1          6\n",
       "0  16.744186  16.744186  16.744186  16.744186   16.27907  16.744186\n",
       "2   0.000000   0.000000   0.000000   0.000000  100.00000   0.000000\n",
       "3   0.000000   0.000000   0.000000   0.000000  100.00000   0.000000\n",
       "1   0.000000   0.000000   0.000000   0.000000  100.00000   0.000000"
      ]
     },
     "execution_count": 13,
     "metadata": {},
     "output_type": "execute_result"
    }
   ],
   "source": [
    "cpdf = pd.DataFrame(comp_df)\n",
    "cpdf.columns = unq_cats\n",
    "cpdf.index = unq_cids\n",
    "cpdf"
   ]
  },
  {
   "cell_type": "code",
   "execution_count": null,
   "metadata": {},
   "outputs": [],
   "source": []
  }
 ],
 "metadata": {
  "kernelspec": {
   "display_name": "Python 3",
   "language": "python",
   "name": "python3"
  },
  "language_info": {
   "codemirror_mode": {
    "name": "ipython",
    "version": 3
   },
   "file_extension": ".py",
   "mimetype": "text/x-python",
   "name": "python",
   "nbconvert_exporter": "python",
   "pygments_lexer": "ipython3",
   "version": "3.7.2"
  }
 },
 "nbformat": 4,
 "nbformat_minor": 2
}
