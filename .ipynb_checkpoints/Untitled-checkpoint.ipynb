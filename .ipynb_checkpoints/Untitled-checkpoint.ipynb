{
 "cells": [
  {
   "cell_type": "code",
   "execution_count": 1,
   "metadata": {},
   "outputs": [],
   "source": [
    "import numpy as np\n",
    "import scipy.linalg as la\n",
    "import pandas as pd\n",
    "from sklearn import datasets\n",
    "from scipy.stats import multivariate_normal as mvn\n",
    "import matplotlib.pyplot as plt\n",
    "\n",
    "from scipy.ndimage import gaussian_filter"
   ]
  },
  {
   "cell_type": "code",
   "execution_count": 2,
   "metadata": {},
   "outputs": [],
   "source": [
    "from data_cube import DataCube"
   ]
  },
  {
   "cell_type": "code",
   "execution_count": 3,
   "metadata": {},
   "outputs": [],
   "source": [
    "dc = DataCube(\n",
    "    subjects=\"all\",\n",
    "    gestures=[\"3\",\"4\",\"5\",\"6\"],\n",
    "    channels=[\"2\", \"4\", \"6\", \"8\"],\n",
    "    data_grp=\"parsed\"\n",
    ")\n",
    "dc.load_data()\n",
    "dc.normalize_modalities()\n",
    "dc.rms_smooth(100, 50)\n",
    "\n",
    "dc.get_min_obs(smooth=True)"
   ]
  },
  {
   "cell_type": "code",
   "execution_count": 18,
   "metadata": {},
   "outputs": [],
   "source": [
    "def dog_walk(xi, xj, n, mtrc):\n",
    "    \"\"\"\n",
    "    xi, xj - instances of time series metrics\n",
    "    xi := (i, vi); vi \\in R^D\n",
    "    n - length of time series\n",
    "    \"\"\"\n",
    "    return abs(xi[0]-xj[0])/ + mtrc(xi[1:]-xj[1:])"
   ]
  },
  {
   "cell_type": "code",
   "execution_count": 11,
   "metadata": {},
   "outputs": [],
   "source": [
    "subj_lab = []\n",
    "gest_lab = []\n",
    "arrays = []\n",
    "\n",
    "for s, gdict in dc.data_set_smooth.items():\n",
    "    for g, a in gdict.items():\n",
    "        subj_lab.append(s)\n",
    "        gest_lab.append(int(g[0]))\n",
    "        arrays.append(a[:, :-1])"
   ]
  },
  {
   "cell_type": "code",
   "execution_count": 16,
   "metadata": {},
   "outputs": [],
   "source": [
    "# generate raw signal SSMs for each gesture\n",
    "raw_ssm_lst = [np.zeros(shape=(a.shape[0], a.shape[0])) for a in arrays]\n",
    "for n, a in enumerate(arrays):\n",
    "    for i in range(a.shape[0]):\n",
    "        for j in range(a.shape[0]):\n",
    "            raw_ssm_lst[n][i,j] = dog_walk(a[i,:],a[j,:], a.shape[0], la.norm)\n",
    "            \n",
    "            \n",
    "# smooth SSM images\n",
    "#for r, s in enumerate(raw_ssm_lst):\n",
    "#    raw_ssm_lst[r] = gaussian_filter(s, sigma=1)"
   ]
  },
  {
   "cell_type": "code",
   "execution_count": 7,
   "metadata": {},
   "outputs": [],
   "source": [
    "# normalize and standardize raw signal SSMs for each gesture\n",
    "for r, s in enumerate(raw_ssm_lst):\n",
    "    s = (s-s.mean()) / s.std()"
   ]
  },
  {
   "cell_type": "code",
   "execution_count": 8,
   "metadata": {},
   "outputs": [],
   "source": [
    "# smooth SSM images\n",
    "for r, s in enumerate(raw_ssm_lst):\n",
    "    raw_ssm_lst[r] = gaussian_filter(s, sigma=1)"
   ]
  },
  {
   "cell_type": "code",
   "execution_count": null,
   "metadata": {},
   "outputs": [],
   "source": []
  },
  {
   "cell_type": "code",
   "execution_count": 17,
   "metadata": {},
   "outputs": [
    {
     "data": {
      "text/plain": [
       "<matplotlib.image.AxesImage at 0x7fe302d4bba8>"
      ]
     },
     "execution_count": 17,
     "metadata": {},
     "output_type": "execute_result"
    },
    {
     "data": {
      "image/png": "[encoded data removed]",
      "text/plain": [
       "<Figure size 432x288 with 1 Axes>"
      ]
     },
     "metadata": {
      "needs_background": "light"
     },
     "output_type": "display_data"
    }
   ],
   "source": [
    "plt.imshow(raw_ssm_lst[4])"
   ]
  },
  {
   "cell_type": "code",
   "execution_count": null,
   "metadata": {},
   "outputs": [],
   "source": []
  },
  {
   "cell_type": "code",
   "execution_count": null,
   "metadata": {},
   "outputs": [],
   "source": []
  },
  {
   "cell_type": "code",
   "execution_count": null,
   "metadata": {},
   "outputs": [],
   "source": []
  },
  {
   "cell_type": "code",
   "execution_count": null,
   "metadata": {},
   "outputs": [],
   "source": []
  },
  {
   "cell_type": "code",
   "execution_count": null,
   "metadata": {},
   "outputs": [],
   "source": [
    "# zero pad raw signal SSMs for each gesture\n",
    "pad_ssm_lst = [np.zeros(shape=(dc.min_obs, dc.min_obs)) for a in arrays]\n",
    "for r, s in enumerate(raw_ssm_lst):\n",
    "    pad_ssm_lst[r][:s.shape[0], :s.shape[1]] = s"
   ]
  },
  {
   "cell_type": "code",
   "execution_count": null,
   "metadata": {},
   "outputs": [],
   "source": [
    "# calculate dtw between all arrays and make predictions\n",
    "predicts = []\n",
    "for n, g1 in enumerate(pad_ssm_lst):\n",
    "    g1_dst = []\n",
    "    #print(f\"gesture label: {gest_lab[n]}\")\n",
    "    for m, g2 in enumerate(pad_ssm_lst):\n",
    "        g1_dst.append(la.norm(g1.reshape(-1,1)-g2.reshape(-1,1), 1))\n",
    "    g1_dst = np.array(g1_dst)\n",
    "    pred_idx = np.argsort(g1_dst)[1] # index of 2nd closest array by dtw; 1st closest is self\n",
    "    predicts.append(gest_lab[pred_idx])\n",
    "    #print(f\"prediction label: {gest_lab[pred_idx]}\")\n",
    "    #print(f\"distance: {g1_dst[pred_idx]}\")\n",
    "    #print(\"--------\")\n",
    "    \n",
    "\n",
    "acc = (sum(np.array(gest_lab) == np.array(predicts)) / len(gest_lab)) * 100\n",
    "\n",
    "print(f\"accuracy: {acc}%\")"
   ]
  },
  {
   "cell_type": "markdown",
   "metadata": {},
   "source": [
    "---"
   ]
  },
  {
   "cell_type": "code",
   "execution_count": null,
   "metadata": {},
   "outputs": [],
   "source": []
  }
 ],
 "metadata": {
  "kernelspec": {
   "display_name": "Python 3",
   "language": "python",
   "name": "python3"
  },
  "language_info": {
   "codemirror_mode": {
    "name": "ipython",
    "version": 3
   },
   "file_extension": ".py",
   "mimetype": "text/x-python",
   "name": "python",
   "nbconvert_exporter": "python",
   "pygments_lexer": "ipython3",
   "version": "3.6.9"
  }
 },
 "nbformat": 4,
 "nbformat_minor": 2
}
