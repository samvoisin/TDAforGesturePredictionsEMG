{
 "cells": [
  {
   "cell_type": "code",
   "execution_count": 1,
   "metadata": {},
   "outputs": [],
   "source": [
    "import numpy as np\n",
    "import persim\n",
    "from numpy import linalg as la\n",
    "import matplotlib.pyplot as plt\n",
    "\n",
    "from data_cube import DataCube\n",
    "from ripser import lower_star_img\n",
    "from persim import plot_diagrams, PersImage, bottleneck\n",
    "\n",
    "from similarity_network_fusion import SNF, cumulated_euc_ts"
   ]
  },
  {
   "cell_type": "code",
   "execution_count": null,
   "metadata": {},
   "outputs": [],
   "source": [
    "dc = DataCube(\n",
    "    subjects=\"all\",\n",
    "    gestures=\"all\",\n",
    "    channels=[\"2\", \"4\", \"6\", \"8\"],\n",
    "    data_grp=\"parsed\"\n",
    ")\n",
    "dc.load_data()\n",
    "dc.rms_smooth(100, 50)\n",
    "dc.normalize_modalities(smooth=True)\n",
    "dc.normalize_modalities(smooth=False)"
   ]
  },
  {
   "cell_type": "code",
   "execution_count": null,
   "metadata": {},
   "outputs": [],
   "source": [
    "ex_raw1 = dc.data_set[\"10\"][\"3_0_1\"]"
   ]
  },
  {
   "cell_type": "code",
   "execution_count": null,
   "metadata": {},
   "outputs": [],
   "source": [
    "plt.figure(num=None, figsize=(15, 6))\n",
    "plt.subplots_adjust(hspace = 0.3)\n",
    "plt.suptitle('Subject 1; Gesture \"left\"')\n",
    "plt.subplot(221)\n",
    "plt.title(\"Channel 1 - synergist\")\n",
    "plt.plot(ex_raw1[:,0],ex_raw1[:,1], color=\"black\")\n",
    "plt.subplot(222)\n",
    "plt.title(\"Channel 2 - antagonist\")\n",
    "plt.plot(ex_raw1[:,0],ex_raw1[:,2], color=\"black\")\n",
    "plt.subplot(223)\n",
    "plt.title(\"Channel 3 - antagonist\")\n",
    "plt.plot(ex_raw1[:,0],ex_raw1[:,3], color=\"black\")\n",
    "plt.subplot(224)\n",
    "plt.title(\"Channel 4 - synergist\")\n",
    "plt.plot(ex_raw1[:,0],ex_raw1[:,4], color=\"black\")\n",
    "plt.savefig(\"../../Thesis/LaTeX_template/images/raw_chan_examp.png\", bbox_inches = 'tight',\n",
    "    pad_inches = 0)"
   ]
  },
  {
   "cell_type": "code",
   "execution_count": null,
   "metadata": {},
   "outputs": [],
   "source": [
    "ex_smth1 = dc.data_set_smooth[\"10\"][\"3_0_1\"]"
   ]
  },
  {
   "cell_type": "code",
   "execution_count": null,
   "metadata": {},
   "outputs": [],
   "source": [
    "plt.figure(num=None, figsize=(15, 6))\n",
    "plt.subplots_adjust(hspace = 0.3)\n",
    "plt.suptitle('Subject 1; Gesture \"left\"')\n",
    "plt.subplot(221)\n",
    "plt.title(\"Channel 1 - synergist\")\n",
    "plt.plot(ex_smth1[:,0],ex_smth1[:,1], color=\"black\")\n",
    "plt.subplot(222)\n",
    "plt.title(\"Channel 2 - antagonist\")\n",
    "plt.plot(ex_smth1[:,0],ex_smth1[:,2], color=\"black\")\n",
    "plt.subplot(223)\n",
    "plt.title(\"Channel 3 - antagonist\")\n",
    "plt.plot(ex_smth1[:,0],ex_smth1[:,3], color=\"black\")\n",
    "plt.subplot(224)\n",
    "plt.title(\"Channel 4 - synergist\")\n",
    "plt.plot(ex_smth1[:,0],ex_smth1[:,4], color=\"black\")\n",
    "plt.savefig(\"../../Thesis/LaTeX_template/images/smth_chan_examp.png\", bbox_inches = 'tight',\n",
    "    pad_inches = 0)"
   ]
  },
  {
   "cell_type": "markdown",
   "metadata": {},
   "source": [
    "---"
   ]
  },
  {
   "cell_type": "code",
   "execution_count": 2,
   "metadata": {},
   "outputs": [],
   "source": [
    "dc = DataCube(\n",
    "    subjects=[\"10\", \"20\"],\n",
    "    gestures=\"all\",\n",
    "    channels=[\"2\", \"4\", \"6\", \"8\"],\n",
    "    data_grp=\"parsed\"\n",
    ")\n",
    "dc.load_data()\n",
    "dc.rms_smooth(100, 50)\n",
    "dc.normalize_modalities(smooth=True)"
   ]
  },
  {
   "cell_type": "code",
   "execution_count": null,
   "metadata": {},
   "outputs": [],
   "source": [
    "def cet(i, j):\n",
    "    \"\"\"\n",
    "    cumulated version of the time series w/ euclidean distance\n",
    "    in which we take the sum values over time as time increases\n",
    "    and then apply the chosen metric.\n",
    "    i, j - arrays of data points\n",
    "    \"\"\"\n",
    "    return la.norm(i.sum(axis=0) - j.sum(axis=0))"
   ]
  },
  {
   "cell_type": "code",
   "execution_count": null,
   "metadata": {},
   "outputs": [],
   "source": [
    "ex_g1 = dc.data_set_smooth[\"10\"][\"3_0_1\"]\n",
    "ex_g2 = dc.data_set_smooth[\"10\"][\"4_0_1\"]\n",
    "ex_g3 = dc.data_set_smooth[\"10\"][\"5_0_1\"]\n",
    "ex_g4 = dc.data_set_smooth[\"10\"][\"6_0_1\"]"
   ]
  },
  {
   "cell_type": "code",
   "execution_count": null,
   "metadata": {},
   "outputs": [],
   "source": [
    "ex_ssm1 = np.zeros(shape=(ex_g1.shape[0],ex_g1.shape[0]))\n",
    "ex_ssm2 = np.zeros(shape=(ex_g2.shape[0],ex_g2.shape[0]))\n",
    "ex_ssm3 = np.zeros(shape=(ex_g3.shape[0],ex_g3.shape[0]))\n",
    "ex_ssm4 = np.zeros(shape=(ex_g4.shape[0],ex_g4.shape[0]))"
   ]
  },
  {
   "cell_type": "code",
   "execution_count": null,
   "metadata": {},
   "outputs": [],
   "source": [
    "for i in range(ex_g1.shape[0]):\n",
    "    for j in range(ex_g1.shape[0]):\n",
    "        ex_ssm1[i,j] = cet(ex_g1[:i,1:-1],ex_g1[:j,1:-1])"
   ]
  },
  {
   "cell_type": "code",
   "execution_count": null,
   "metadata": {},
   "outputs": [],
   "source": [
    "for i in range(ex_g2.shape[0]):\n",
    "    for j in range(ex_g2.shape[0]):\n",
    "        ex_ssm2[i,j] = cet(ex_g2[:i,1:-1],ex_g2[:j,1:-1])"
   ]
  },
  {
   "cell_type": "code",
   "execution_count": null,
   "metadata": {},
   "outputs": [],
   "source": [
    "for i in range(ex_g3.shape[0]):\n",
    "    for j in range(ex_g3.shape[0]):\n",
    "        ex_ssm3[i,j] = cet(ex_g3[:i,1:-1],ex_g3[:j,1:-1])"
   ]
  },
  {
   "cell_type": "code",
   "execution_count": null,
   "metadata": {},
   "outputs": [],
   "source": [
    "for i in range(ex_g4.shape[0]):\n",
    "    for j in range(ex_g4.shape[0]):\n",
    "        ex_ssm4[i,j] = cet(ex_g4[:i,1:-1],ex_g4[:j,1:-1])"
   ]
  },
  {
   "cell_type": "code",
   "execution_count": null,
   "metadata": {},
   "outputs": [],
   "source": [
    "plt.figure(num=None, figsize=(6, 6))\n",
    "plt.subplots_adjust(hspace = 0.1)\n",
    "plt.suptitle('Subject 10')\n",
    "plt.subplot(221)\n",
    "plt.title('\"Left\"')\n",
    "plt.imshow(ex_ssm1)\n",
    "plt.xticks([])\n",
    "plt.yticks([])\n",
    "plt.subplot(222)\n",
    "plt.title('\"Right\"')\n",
    "plt.imshow(ex_ssm2)\n",
    "plt.xticks([])\n",
    "plt.yticks([])\n",
    "plt.subplot(223)\n",
    "plt.title('\"Up\"')\n",
    "plt.imshow(ex_ssm3)\n",
    "plt.xticks([])\n",
    "plt.yticks([])\n",
    "plt.subplot(224)\n",
    "plt.title('\"Down\"')\n",
    "plt.imshow(ex_ssm4)\n",
    "plt.xticks([])\n",
    "plt.yticks([])\n",
    "plt.savefig(\"../../Thesis/LaTeX_template/images/ssm_examp.png\", bbox_inches = 'tight',\n",
    "    pad_inches = 0)"
   ]
  },
  {
   "cell_type": "markdown",
   "metadata": {},
   "source": [
    "---"
   ]
  },
  {
   "cell_type": "code",
   "execution_count": null,
   "metadata": {},
   "outputs": [],
   "source": [
    "from ripser import Rips\n",
    "from persim import PersImage, plot_diagrams"
   ]
  },
  {
   "cell_type": "code",
   "execution_count": null,
   "metadata": {},
   "outputs": [],
   "source": [
    "rips = Rips()\n",
    "dgms = rips.fit_transform(ex_ssm2, distance_matrix=True)"
   ]
  },
  {
   "cell_type": "code",
   "execution_count": null,
   "metadata": {},
   "outputs": [],
   "source": [
    "pim = PersImage(spread=1, pixels=[40,40], verbose=False)\n",
    "img = pim.transform(dgms[1])"
   ]
  },
  {
   "cell_type": "code",
   "execution_count": null,
   "metadata": {},
   "outputs": [],
   "source": [
    "pim.show(img)"
   ]
  },
  {
   "cell_type": "code",
   "execution_count": null,
   "metadata": {},
   "outputs": [],
   "source": [
    "plt.figure(num=None, figsize=(15, 6))\n",
    "plt.margins(0,0)\n",
    "plt.subplots_adjust(hspace = 0.1)\n",
    "plt.subplot(131)\n",
    "plt.title(\"Self-Similarity Matrix\")\n",
    "plt.imshow(ex_ssm1)\n",
    "plt.subplot(132)\n",
    "plt.title(\"Persistence Diagram\")\n",
    "plot_diagrams(dgms)\n",
    "plt.subplot(133)\n",
    "plt.title(\"Persistence Image: 1-cycles\")\n",
    "pim.show(img)\n",
    "plt.savefig(\"../../Thesis/LaTeX_template/images/raw_persist_examp.png\", bbox_inches = 'tight',\n",
    "    pad_inches = 0)"
   ]
  },
  {
   "cell_type": "markdown",
   "metadata": {},
   "source": [
    "---"
   ]
  },
  {
   "cell_type": "code",
   "execution_count": null,
   "metadata": {},
   "outputs": [],
   "source": [
    "from scipy.ndimage import gaussian_filter"
   ]
  },
  {
   "cell_type": "code",
   "execution_count": null,
   "metadata": {},
   "outputs": [],
   "source": [
    "snf = SNF(dc.data_set_smooth[\"10\"][\"3_0_1\"][:,:-1], k=0.2, metric=cumulated_euc_ts)"
   ]
  },
  {
   "cell_type": "code",
   "execution_count": null,
   "metadata": {},
   "outputs": [],
   "source": [
    "snf.calc_weights()\n",
    "snf.normalize_weights()\n",
    "# generate and normalize knn graphs\n",
    "snf.calc_knn_weights()\n",
    "snf.normalize_knn_weights()\n",
    "# fuse graphs\n",
    "snf.network_fusion(eta=1, iters=20)"
   ]
  },
  {
   "cell_type": "code",
   "execution_count": null,
   "metadata": {},
   "outputs": [],
   "source": [
    "snf.plot_template()"
   ]
  },
  {
   "cell_type": "code",
   "execution_count": null,
   "metadata": {},
   "outputs": [],
   "source": [
    "snf_ex = gaussian_filter(snf.fused_similarity_template,sigma=1)"
   ]
  },
  {
   "cell_type": "code",
   "execution_count": null,
   "metadata": {},
   "outputs": [],
   "source": [
    "rips = Rips()\n",
    "pim = PersImage(spread=1, pixels=[40,40], verbose=False)"
   ]
  },
  {
   "cell_type": "code",
   "execution_count": null,
   "metadata": {},
   "outputs": [],
   "source": [
    "dgms = rips.fit_transform(snf_ex, distance_matrix=True)\n",
    "img = pim.transform(dgms[1])"
   ]
  },
  {
   "cell_type": "code",
   "execution_count": null,
   "metadata": {},
   "outputs": [],
   "source": [
    "plt.figure(num=None, figsize=(15, 6))\n",
    "plt.margins(0,0)\n",
    "plt.subplots_adjust(hspace = 0.1)\n",
    "plt.subplot(131)\n",
    "plt.title(\"Fused Similarity Template\")\n",
    "plt.imshow(snf_ex)\n",
    "plt.subplot(132)\n",
    "plt.title(\"Persistence Diagram\")\n",
    "plot_diagrams(dgms)\n",
    "plt.subplot(133)\n",
    "plt.title(\"Persistence Image: 1-cycles\")\n",
    "pim.show(img)\n",
    "plt.savefig(\"../../Thesis/LaTeX_template/images/snf_persist_examp.png\", bbox_inches = 'tight',\n",
    "    pad_inches = 0)"
   ]
  },
  {
   "cell_type": "markdown",
   "metadata": {},
   "source": [
    "---"
   ]
  },
  {
   "cell_type": "markdown",
   "metadata": {},
   "source": [
    "---"
   ]
  },
  {
   "cell_type": "code",
   "execution_count": 40,
   "metadata": {},
   "outputs": [],
   "source": [
    "snf11 = SNF(dc.data_set_smooth[\"10\"][\"3_0_1\"][:,:-1], k=0.2, metric=cumulated_euc_ts)\n",
    "snf12 = SNF(dc.data_set_smooth[\"10\"][\"4_0_1\"][:,:-1], k=0.2, metric=cumulated_euc_ts)\n",
    "snf13 = SNF(dc.data_set_smooth[\"10\"][\"5_0_1\"][:,:-1], k=0.2, metric=cumulated_euc_ts)\n",
    "snf14 = SNF(dc.data_set_smooth[\"10\"][\"6_0_1\"][:,:-1], k=0.2, metric=cumulated_euc_ts)"
   ]
  },
  {
   "cell_type": "code",
   "execution_count": 41,
   "metadata": {},
   "outputs": [],
   "source": [
    "snf11.calc_weights()\n",
    "snf11.normalize_weights()\n",
    "# generate and normalize knn graphs\n",
    "snf11.calc_knn_weights()\n",
    "snf11.normalize_knn_weights()\n",
    "# fuse graphs\n",
    "snf11.network_fusion(eta=1, iters=20)"
   ]
  },
  {
   "cell_type": "code",
   "execution_count": 42,
   "metadata": {},
   "outputs": [],
   "source": [
    "snf12.calc_weights()\n",
    "snf12.normalize_weights()\n",
    "# generate and normalize knn graphs\n",
    "snf12.calc_knn_weights()\n",
    "snf12.normalize_knn_weights()\n",
    "# fuse graphs\n",
    "snf12.network_fusion(eta=1, iters=20)"
   ]
  },
  {
   "cell_type": "code",
   "execution_count": 43,
   "metadata": {},
   "outputs": [],
   "source": [
    "snf13.calc_weights()\n",
    "snf13.normalize_weights()\n",
    "# generate and normalize knn graphs\n",
    "snf13.calc_knn_weights()\n",
    "snf13.normalize_knn_weights()\n",
    "# fuse graphs\n",
    "snf13.network_fusion(eta=1, iters=20)"
   ]
  },
  {
   "cell_type": "code",
   "execution_count": 44,
   "metadata": {},
   "outputs": [],
   "source": [
    "snf14.calc_weights()\n",
    "snf14.normalize_weights()\n",
    "# generate and normalize knn graphs\n",
    "snf14.calc_knn_weights()\n",
    "snf14.normalize_knn_weights()\n",
    "# fuse graphs\n",
    "snf14.network_fusion(eta=1, iters=20)"
   ]
  },
  {
   "cell_type": "code",
   "execution_count": 34,
   "metadata": {},
   "outputs": [],
   "source": [
    "snf21 = SNF(dc.data_set_smooth[\"20\"][\"3_0_1\"][:,:-1], k=0.2, metric=cumulated_euc_ts)\n",
    "snf22 = SNF(dc.data_set_smooth[\"20\"][\"4_0_1\"][:,:-1], k=0.2, metric=cumulated_euc_ts)\n",
    "snf23 = SNF(dc.data_set_smooth[\"20\"][\"5_0_1\"][:,:-1], k=0.2, metric=cumulated_euc_ts)\n",
    "snf24 = SNF(dc.data_set_smooth[\"20\"][\"6_0_1\"][:,:-1], k=0.2, metric=cumulated_euc_ts)"
   ]
  },
  {
   "cell_type": "code",
   "execution_count": 35,
   "metadata": {},
   "outputs": [],
   "source": [
    "snf21.calc_weights()\n",
    "snf21.normalize_weights()\n",
    "# generate and normalize knn graphs\n",
    "snf21.calc_knn_weights()\n",
    "snf21.normalize_knn_weights()\n",
    "# fuse graphs\n",
    "snf21.network_fusion(eta=1, iters=20)"
   ]
  },
  {
   "cell_type": "code",
   "execution_count": 36,
   "metadata": {},
   "outputs": [],
   "source": [
    "snf22.calc_weights()\n",
    "snf22.normalize_weights()\n",
    "# generate and normalize knn graphs\n",
    "snf22.calc_knn_weights()\n",
    "snf22.normalize_knn_weights()\n",
    "# fuse graphs\n",
    "snf22.network_fusion(eta=1, iters=20)"
   ]
  },
  {
   "cell_type": "code",
   "execution_count": 37,
   "metadata": {},
   "outputs": [],
   "source": [
    "snf23.calc_weights()\n",
    "snf23.normalize_weights()\n",
    "# generate and normalize knn graphs\n",
    "snf23.calc_knn_weights()\n",
    "snf23.normalize_knn_weights()\n",
    "# fuse graphs\n",
    "snf23.network_fusion(eta=1, iters=20)"
   ]
  },
  {
   "cell_type": "code",
   "execution_count": 38,
   "metadata": {},
   "outputs": [],
   "source": [
    "snf24.calc_weights()\n",
    "snf24.normalize_weights()\n",
    "# generate and normalize knn graphs\n",
    "snf24.calc_knn_weights()\n",
    "snf24.normalize_knn_weights()\n",
    "# fuse graphs\n",
    "snf24.network_fusion(eta=1, iters=20)"
   ]
  },
  {
   "cell_type": "code",
   "execution_count": 45,
   "metadata": {},
   "outputs": [
    {
     "data": {
      "image/png": "[encoded data removed]",
      "text/plain": [
       "<Figure size 1080x432 with 8 Axes>"
      ]
     },
     "metadata": {},
     "output_type": "display_data"
    }
   ],
   "source": [
    "plt.figure(num=None, figsize=(15, 6))\n",
    "plt.margins(0,0)\n",
    "plt.subplots_adjust(hspace = 0.3)\n",
    "plt.subplot(241)\n",
    "plt.title('Subject 10; Gesture \"Left\"')\n",
    "plt.imshow(snf11.fused_similarity_template)\n",
    "plt.xticks([])\n",
    "plt.yticks([])\n",
    "plt.subplot(242)\n",
    "plt.title('Subject 10; Gesture \"Right\"')\n",
    "plt.imshow(snf12.fused_similarity_template)\n",
    "plt.xticks([])\n",
    "plt.yticks([])\n",
    "plt.subplot(243)\n",
    "plt.title('Subject 10; Gesture \"Up\"')\n",
    "plt.imshow(snf13.fused_similarity_template)\n",
    "plt.xticks([])\n",
    "plt.yticks([])\n",
    "plt.subplot(244)\n",
    "plt.title('Subject 10; Gesture \"Down\"')\n",
    "plt.imshow(snf14.fused_similarity_template)\n",
    "plt.xticks([])\n",
    "plt.yticks([])\n",
    "plt.subplot(245)\n",
    "plt.title('Subject 20; Gesture \"Left\"')\n",
    "plt.imshow(snf21.fused_similarity_template)\n",
    "plt.xticks([])\n",
    "plt.yticks([])\n",
    "plt.subplot(246)\n",
    "plt.title('Subject 20; Gesture \"Right\"')\n",
    "plt.imshow(snf22.fused_similarity_template)\n",
    "plt.xticks([])\n",
    "plt.yticks([])\n",
    "plt.subplot(247)\n",
    "plt.title('Subject 20; Gesture \"Up\"')\n",
    "plt.imshow(snf23.fused_similarity_template)\n",
    "plt.xticks([])\n",
    "plt.yticks([])\n",
    "plt.subplot(248)\n",
    "plt.title('Subject 20; Gesture \"Down\"')\n",
    "plt.imshow(snf24.fused_similarity_template)\n",
    "plt.xticks([])\n",
    "plt.yticks([])\n",
    "plt.savefig(\"../../Thesis/LaTeX_template/images/snf_temp_examp.png\", bbox_inches = 'tight',\n",
    "    pad_inches = 0)"
   ]
  },
  {
   "cell_type": "markdown",
   "metadata": {},
   "source": [
    "---"
   ]
  },
  {
   "cell_type": "code",
   "execution_count": 30,
   "metadata": {},
   "outputs": [],
   "source": [
    "snf1 = SNF(dc.data_set_smooth[\"10\"][\"5_1_2\"][:,:-1], k=0.2, metric=cumulated_euc_ts, autotune=True)\n",
    "snf1.calc_weights()\n",
    "snf1.normalize_weights()\n",
    "snf1.calc_knn_weights()\n",
    "snf1.normalize_knn_weights()"
   ]
  },
  {
   "cell_type": "code",
   "execution_count": 33,
   "metadata": {},
   "outputs": [
    {
     "data": {
      "image/png": "[encoded data removed]",
      "text/plain": [
       "<Figure size 1080x432 with 8 Axes>"
      ]
     },
     "metadata": {},
     "output_type": "display_data"
    }
   ],
   "source": [
    "plt.figure(num=None, figsize=(15, 6))\n",
    "plt.margins(0,0)\n",
    "plt.subplots_adjust(hspace = 0.3)\n",
    "plt.suptitle('Subject 10; Gesture \"Up\"')\n",
    "plt.subplot(241)\n",
    "plt.title(\"Channel 1\")\n",
    "plt.imshow(snf1.P[0,:,:])\n",
    "plt.xticks([])\n",
    "plt.yticks([])\n",
    "plt.subplot(242)\n",
    "plt.title(\"Channel 2\")\n",
    "plt.imshow(snf1.P[1,:,:])\n",
    "plt.xticks([])\n",
    "plt.yticks([])\n",
    "plt.subplot(243)\n",
    "plt.title(\"Channel 3\")\n",
    "plt.imshow(snf1.P[2,:,:])\n",
    "plt.xticks([])\n",
    "plt.yticks([])\n",
    "plt.subplot(244)\n",
    "plt.title(\"Channel 4\")\n",
    "plt.imshow(snf1.P[3,:,:])\n",
    "plt.xticks([])\n",
    "plt.yticks([])\n",
    "plt.subplot(245)\n",
    "plt.imshow(snf1.P_knn[0,:,:])\n",
    "plt.xticks([])\n",
    "plt.yticks([])\n",
    "plt.subplot(246)\n",
    "plt.imshow(snf1.P_knn[1,:,:])\n",
    "plt.xticks([])\n",
    "plt.yticks([])\n",
    "plt.subplot(247)\n",
    "plt.imshow(snf1.P_knn[2,:,:])\n",
    "plt.xticks([])\n",
    "plt.yticks([])\n",
    "plt.subplot(248)\n",
    "plt.imshow(snf1.P_knn[3,:,:])\n",
    "plt.xticks([])\n",
    "plt.yticks([])\n",
    "plt.savefig(\"../../Thesis/LaTeX_template/images/graph_examps.png\", bbox_inches = 'tight',\n",
    "    pad_inches = 0)"
   ]
  },
  {
   "cell_type": "code",
   "execution_count": 47,
   "metadata": {},
   "outputs": [],
   "source": [
    "snf1.network_fusion(eta=1, iters=20)"
   ]
  },
  {
   "cell_type": "code",
   "execution_count": 48,
   "metadata": {},
   "outputs": [
    {
     "data": {
      "image/png": "[encoded data removed]",
      "text/plain": [
       "<Figure size 864x576 with 1 Axes>"
      ]
     },
     "metadata": {
      "needs_background": "light"
     },
     "output_type": "display_data"
    }
   ],
   "source": [
    "snf1.plot_template()"
   ]
  },
  {
   "cell_type": "code",
   "execution_count": null,
   "metadata": {},
   "outputs": [],
   "source": []
  }
 ],
 "metadata": {
  "kernelspec": {
   "display_name": "Python 3",
   "language": "python",
   "name": "python3"
  },
  "language_info": {
   "codemirror_mode": {
    "name": "ipython",
    "version": 3
   },
   "file_extension": ".py",
   "mimetype": "text/x-python",
   "name": "python",
   "nbconvert_exporter": "python",
   "pygments_lexer": "ipython3",
   "version": "3.7.2"
  }
 },
 "nbformat": 4,
 "nbformat_minor": 2
}
