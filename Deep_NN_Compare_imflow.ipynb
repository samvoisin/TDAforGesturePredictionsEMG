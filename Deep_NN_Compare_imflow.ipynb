{
 "cells": [
  {
   "cell_type": "code",
   "execution_count": 1,
   "metadata": {},
   "outputs": [],
   "source": [
    "import numpy as np\n",
    "import scipy.linalg as la\n",
    "import matplotlib.pyplot as plt"
   ]
  },
  {
   "cell_type": "code",
   "execution_count": null,
   "metadata": {},
   "outputs": [],
   "source": [
    "import keras\n",
    "from keras.models import Sequential\n",
    "from keras.layers import Dense, Activation, Dropout, Flatten, Conv2D, MaxPooling2D\n",
    "from keras.layers.normalization import BatchNormalization\n",
    "from keras.preprocessing.image import ImageDataGenerator\n",
    "from keras.utils import to_categorical\n",
    "from keras.optimizers import Adam\n",
    "\n",
    "np.random.seed(1)"
   ]
  },
  {
   "cell_type": "code",
   "execution_count": null,
   "metadata": {},
   "outputs": [],
   "source": [
    "from PIL import Image\n",
    "s = Image.open(\"./Data/ssm/0/327.png\")"
   ]
  },
  {
   "cell_type": "code",
   "execution_count": 1,
   "metadata": {},
   "outputs": [],
   "source": [
    "import imageio"
   ]
  },
  {
   "cell_type": "code",
   "execution_count": 3,
   "metadata": {},
   "outputs": [
    {
     "ename": "AttributeError",
     "evalue": "module 'scipy' has no attribute 'imageio'",
     "output_type": "error",
     "traceback": [
      "\u001b[0;31m---------------------------------------------------------------------------\u001b[0m",
      "\u001b[0;31mAttributeError\u001b[0m                            Traceback (most recent call last)",
      "\u001b[0;32m<ipython-input-3-e4955e397424>\u001b[0m in \u001b[0;36m<module>\u001b[0;34m\u001b[0m\n\u001b[0;32m----> 1\u001b[0;31m \u001b[0msc\u001b[0m\u001b[0;34m.\u001b[0m\u001b[0mimageio\u001b[0m\u001b[0;34m\u001b[0m\u001b[0;34m\u001b[0m\u001b[0m\n\u001b[0m",
      "\u001b[0;31mAttributeError\u001b[0m: module 'scipy' has no attribute 'imageio'"
     ]
    }
   ],
   "source": [
    "imageio.imwrite"
   ]
  },
  {
   "cell_type": "code",
   "execution_count": null,
   "metadata": {},
   "outputs": [],
   "source": [
    "train_datagen = ImageDataGenerator(\n",
    "    rescale=1./255,\n",
    "    fill_mode='nearest',\n",
    "    data_format='channels_last',\n",
    "    validation_split=0.2,\n",
    "    dtype='float64')"
   ]
  },
  {
   "cell_type": "code",
   "execution_count": null,
   "metadata": {},
   "outputs": [],
   "source": [
    "train_generator = train_datagen.flow_from_directory(\n",
    "    \"./Data/ssm\",\n",
    "    target_size=(224, 224),\n",
    "    color_mode='grayscale',\n",
    "    class_mode='categorical',\n",
    "    batch_size=576,\n",
    "    shuffle=True,\n",
    "    seed=1,\n",
    "    save_to_dir=\"./Data/ssm_augmented\",\n",
    "    save_prefix='aug',\n",
    "    save_format='png',\n",
    "    subset=None,\n",
    "    interpolation='nearest')"
   ]
  },
  {
   "cell_type": "code",
   "execution_count": null,
   "metadata": {},
   "outputs": [],
   "source": [
    "#Instantiate an empty model\n",
    "model = Sequential()\n",
    "\n",
    "# 1st Convolutional Layer\n",
    "model.add(Conv2D(filters=96, input_shape=(224,224,1), kernel_size=(11,11), strides=(4,4), padding=\"valid\"))\n",
    "model.add(Activation(\"relu\"))\n",
    "# Max Pooling\n",
    "model.add(MaxPooling2D(pool_size=(2,2), strides=(2,2), padding=\"valid\"))\n",
    "\n",
    "# 2nd Convolutional Layer\n",
    "model.add(Conv2D(filters=256, kernel_size=(11,11), strides=(1,1), padding=\"valid\"))\n",
    "model.add(Activation(\"relu\"))\n",
    "# Max Pooling\n",
    "model.add(MaxPooling2D(pool_size=(2,2), strides=(2,2), padding=\"valid\"))\n",
    "\n",
    "# 3rd Convolutional Layer\n",
    "model.add(Conv2D(filters=384, kernel_size=(3,3), strides=(1,1), padding=\"valid\"))\n",
    "model.add(Activation(\"relu\"))\n",
    "\n",
    "# 4th Convolutional Layer\n",
    "model.add(Conv2D(filters=384, kernel_size=(3,3), strides=(1,1), padding=\"valid\"))\n",
    "model.add(Activation(\"relu\"))\n",
    "\n",
    "# 5th Convolutional Layer\n",
    "model.add(Conv2D(filters=256, kernel_size=(3,3), strides=(1,1), padding=\"valid\"))\n",
    "model.add(Activation(\"relu\"))\n",
    "# Max Pooling\n",
    "model.add(MaxPooling2D(pool_size=(2,2), strides=(2,2), padding=\"valid\"))\n",
    "\n",
    "# Passing it to a Fully Connected layer\n",
    "model.add(Flatten())\n",
    "# 1st Fully Connected Layer\n",
    "model.add(Dense(4096, input_shape=(224*224*3,)))\n",
    "model.add(Activation(\"relu\"))\n",
    "# Add Dropout to prevent overfitting\n",
    "model.add(Dropout(0.4))\n",
    "\n",
    "# 2nd Fully Connected Layer\n",
    "model.add(Dense(4096))\n",
    "model.add(Activation(\"relu\"))\n",
    "# Add Dropout\n",
    "model.add(Dropout(0.4))\n",
    "\n",
    "# 3rd Fully Connected Layer\n",
    "model.add(Dense(1000))\n",
    "model.add(Activation(\"relu\"))\n",
    "# Add Dropout\n",
    "model.add(Dropout(0.4))\n",
    "\n",
    "# Output Layer\n",
    "model.add(Dense(4))\n",
    "model.add(Activation(\"softmax\"))\n",
    "\n",
    "model.summary()"
   ]
  },
  {
   "cell_type": "code",
   "execution_count": null,
   "metadata": {},
   "outputs": [],
   "source": [
    "# Compile the model\n",
    "opt = Adam(learning_rate=1e-5, beta_1=0.9, beta_2=0.999, amsgrad=False)\n",
    "\n",
    "model.compile(loss=keras.losses.categorical_crossentropy,\n",
    "              optimizer=\"adam\",\n",
    "              metrics=[\"accuracy\"])"
   ]
  },
  {
   "cell_type": "code",
   "execution_count": null,
   "metadata": {},
   "outputs": [],
   "source": [
    "epochs = 50\n",
    "\n",
    "history = model.fit_generator(\n",
    "    train_generator,\n",
    "    epochs=epochs,\n",
    "    shuffle=True)"
   ]
  },
  {
   "cell_type": "code",
   "execution_count": null,
   "metadata": {},
   "outputs": [],
   "source": [
    "# Plot training & validation accuracy values\n",
    "plt.plot(history.history['accuracy'])\n",
    "#plt.plot(history.history['val_accuracy'])\n",
    "plt.title('Model accuracy')\n",
    "plt.ylabel('Accuracy')\n",
    "plt.xlabel('Epoch')\n",
    "plt.legend(['Train', 'Test'], loc='upper left')\n",
    "plt.show()\n",
    "\n",
    "# Plot training & validation loss values\n",
    "plt.plot(history.history['loss'])\n",
    "#plt.plot(history.history['val_loss'])\n",
    "plt.title('Model loss')\n",
    "plt.ylabel('Loss')\n",
    "plt.xlabel('Epoch')\n",
    "plt.legend(['Train', 'Test'], loc='upper left')\n",
    "plt.show()"
   ]
  },
  {
   "cell_type": "markdown",
   "metadata": {},
   "source": [
    "Flattened to 30-33% around 195 epochs"
   ]
  },
  {
   "cell_type": "markdown",
   "metadata": {},
   "source": [
    "---"
   ]
  },
  {
   "cell_type": "code",
   "execution_count": null,
   "metadata": {},
   "outputs": [],
   "source": [
    "#Instantiate an empty model_iso\n",
    "model_iso = Sequential()\n",
    "\n",
    "# 1st Convolutional Layer\n",
    "model_iso.add(Conv2D(filters=32, input_shape=inp_shp, kernel_size=(11,11), strides=(1,1), padding=\"valid\"))\n",
    "model_iso.add(Activation(\"relu\"))\n",
    "# Max Pooling\n",
    "model_iso.add(MaxPooling2D(pool_size=(2,2), strides=(2,2), padding=\"valid\"))\n",
    "\n",
    "# 2nd Convolutional Layer\n",
    "model_iso.add(Conv2D(filters=256, kernel_size=(11,11), strides=(1,1), padding=\"valid\"))\n",
    "model_iso.add(Activation(\"relu\"))\n",
    "# Max Pooling\n",
    "model_iso.add(MaxPooling2D(pool_size=(2,2), strides=(2,2), padding=\"valid\"))\n",
    "\n",
    "# 3rd Convolutional Layer\n",
    "model_iso.add(Conv2D(filters=384, kernel_size=(3,3), strides=(1,1), padding=\"valid\"))\n",
    "model_iso.add(Activation(\"relu\"))\n",
    "\n",
    "# 4th Convolutional Layer\n",
    "model_iso.add(Conv2D(filters=384, kernel_size=(3,3), strides=(1,1), padding=\"valid\"))\n",
    "model_iso.add(Activation(\"relu\"))\n",
    "\n",
    "# 5th Convolutional Layer\n",
    "model_iso.add(Conv2D(filters=256, kernel_size=(3,3), strides=(1,1), padding=\"valid\"))\n",
    "model_iso.add(Activation(\"relu\"))\n",
    "# Max Pooling\n",
    "model_iso.add(MaxPooling2D(pool_size=(2,2), strides=(2,2), padding=\"valid\"))\n",
    "\n",
    "# Passing it to a Fully Connected layer\n",
    "model_iso.add(Flatten())\n",
    "# 1st Fully Connected Layer\n",
    "model_iso.add(Dense(4096, input_shape=(224*224*3,)))\n",
    "model_iso.add(Activation(\"relu\"))\n",
    "# Add Dropout to prevent overfitting\n",
    "model_iso.add(Dropout(0.4))\n",
    "\n",
    "# 2nd Fully Connected Layer\n",
    "model_iso.add(Dense(4096))\n",
    "model_iso.add(Activation(\"relu\"))\n",
    "# Add Dropout\n",
    "model_iso.add(Dropout(0.4))\n",
    "\n",
    "# 3rd Fully Connected Layer\n",
    "model_iso.add(Dense(1000))\n",
    "model_iso.add(Activation(\"relu\"))\n",
    "# Add Dropout\n",
    "model_iso.add(Dropout(0.4))\n",
    "\n",
    "# Output Layer\n",
    "model_iso.add(Dense(4))\n",
    "model_iso.add(Activation(\"softmax\"))\n",
    "\n",
    "model_iso.summary()"
   ]
  },
  {
   "cell_type": "code",
   "execution_count": null,
   "metadata": {},
   "outputs": [],
   "source": [
    "# Compile the model\n",
    "opt = Adam(learning_rate=1e-5, beta_1=0.9, beta_2=0.999, amsgrad=False)\n",
    "\n",
    "model_iso.compile(loss=keras.losses.categorical_crossentropy,\n",
    "                  optimizer=\"adam\",\n",
    "                  metrics=[\"accuracy\"])"
   ]
  },
  {
   "cell_type": "code",
   "execution_count": null,
   "metadata": {},
   "outputs": [],
   "source": [
    "# train/ test\n",
    "x_train, x_test, y_train, y_test = train_test_split(pad_iso_lst, gest_lab, test_size=0.2, random_state=1)\n",
    "\n",
    "# transform to numpy arrays\n",
    "x_train = np.array(x_train).reshape(len(x_train), 63, 63, 1)\n",
    "x_test = np.array(x_test).reshape(len(x_test), 63, 63, 1)\n",
    "y_train = to_categorical(np.array(y_train))\n",
    "y_test = to_categorical(np.array(y_test))"
   ]
  },
  {
   "cell_type": "code",
   "execution_count": null,
   "metadata": {},
   "outputs": [],
   "source": [
    "batch_size = int(len(gest_lab) / 2)\n",
    "epochs = 200\n",
    "\n",
    "history = model_iso.fit(x_train, y_train,\n",
    "                        batch_size=batch_size,\n",
    "                        epochs=epochs,\n",
    "                        validation_data=(x_test, y_test),\n",
    "                        shuffle=True)"
   ]
  },
  {
   "cell_type": "code",
   "execution_count": null,
   "metadata": {},
   "outputs": [],
   "source": [
    "# Plot training & validation accuracy values\n",
    "plt.plot(history.history['accuracy'])\n",
    "plt.plot(history.history['val_accuracy'])\n",
    "plt.title('Model accuracy')\n",
    "plt.ylabel('Accuracy')\n",
    "plt.xlabel('Epoch')\n",
    "plt.legend(['Train', 'Test'], loc='upper left')\n",
    "plt.show()\n",
    "\n",
    "# Plot training & validation loss values\n",
    "plt.plot(history.history['loss'])\n",
    "plt.plot(history.history['val_loss'])\n",
    "plt.title('Model loss')\n",
    "plt.ylabel('Loss')\n",
    "plt.xlabel('Epoch')\n",
    "plt.legend(['Train', 'Test'], loc='upper left')\n",
    "plt.show()"
   ]
  },
  {
   "cell_type": "code",
   "execution_count": null,
   "metadata": {},
   "outputs": [],
   "source": [
    "history.history[\"val_accuracy\"]"
   ]
  },
  {
   "cell_type": "markdown",
   "metadata": {},
   "source": [
    "$\\approx 35\\%$ acc at 200 epochs"
   ]
  },
  {
   "cell_type": "markdown",
   "metadata": {},
   "source": [
    "---"
   ]
  },
  {
   "cell_type": "code",
   "execution_count": null,
   "metadata": {},
   "outputs": [],
   "source": [
    "#Instantiate an empty model_snf\n",
    "model_snf = Sequential()\n",
    "\n",
    "# 1st Convolutional Layer\n",
    "model_snf.add(Conv2D(filters=32, input_shape=inp_shp, kernel_size=(11,11), strides=(1,1), padding=\"valid\"))\n",
    "model_snf.add(Activation(\"relu\"))\n",
    "# Max Pooling\n",
    "model_snf.add(MaxPooling2D(pool_size=(2,2), strides=(2,2), padding=\"valid\"))\n",
    "\n",
    "# 2nd Convolutional Layer\n",
    "model_snf.add(Conv2D(filters=256, kernel_size=(11,11), strides=(1,1), padding=\"valid\"))\n",
    "model_snf.add(Activation(\"relu\"))\n",
    "# Max Pooling\n",
    "model_snf.add(MaxPooling2D(pool_size=(2,2), strides=(2,2), padding=\"valid\"))\n",
    "\n",
    "# 3rd Convolutional Layer\n",
    "model_snf.add(Conv2D(filters=384, kernel_size=(3,3), strides=(1,1), padding=\"valid\"))\n",
    "model_snf.add(Activation(\"relu\"))\n",
    "\n",
    "# 4th Convolutional Layer\n",
    "model_snf.add(Conv2D(filters=384, kernel_size=(3,3), strides=(1,1), padding=\"valid\"))\n",
    "model_snf.add(Activation(\"relu\"))\n",
    "\n",
    "# 5th Convolutional Layer\n",
    "model_snf.add(Conv2D(filters=256, kernel_size=(3,3), strides=(1,1), padding=\"valid\"))\n",
    "model_snf.add(Activation(\"relu\"))\n",
    "# Max Pooling\n",
    "model_snf.add(MaxPooling2D(pool_size=(2,2), strides=(2,2), padding=\"valid\"))\n",
    "\n",
    "# Passing it to a Fully Connected layer\n",
    "model_snf.add(Flatten())\n",
    "# 1st Fully Connected Layer\n",
    "model_snf.add(Dense(4096, input_shape=(224*224*3,)))\n",
    "model_snf.add(Activation(\"relu\"))\n",
    "# Add Dropout to prevent overfitting\n",
    "model_snf.add(Dropout(0.4))\n",
    "\n",
    "# 2nd Fully Connected Layer\n",
    "model_snf.add(Dense(4096))\n",
    "model_snf.add(Activation(\"relu\"))\n",
    "# Add Dropout\n",
    "model_snf.add(Dropout(0.4))\n",
    "\n",
    "# 3rd Fully Connected Layer\n",
    "model_snf.add(Dense(1000))\n",
    "model_snf.add(Activation(\"relu\"))\n",
    "# Add Dropout\n",
    "model_snf.add(Dropout(0.4))\n",
    "\n",
    "# Output Layer\n",
    "model_snf.add(Dense(4))\n",
    "model_snf.add(Activation(\"softmax\"))\n",
    "\n",
    "model_snf.summary()"
   ]
  },
  {
   "cell_type": "code",
   "execution_count": null,
   "metadata": {},
   "outputs": [],
   "source": [
    "# Compile the model\n",
    "opt = Adam(learning_rate=1e-5, beta_1=0.9, beta_2=0.999, amsgrad=False)\n",
    "\n",
    "model_snf.compile(loss=keras.losses.categorical_crossentropy,\n",
    "                  optimizer=\"adam\",\n",
    "                  metrics=[\"accuracy\"])"
   ]
  },
  {
   "cell_type": "code",
   "execution_count": null,
   "metadata": {},
   "outputs": [],
   "source": [
    "# train/ test\n",
    "x_train, x_test, y_train, y_test = train_test_split(pad_snf_lst, gest_lab, test_size=0.2, random_state=1)\n",
    "\n",
    "# transform to numpy arrays\n",
    "x_train = np.array(x_train).reshape(len(x_train), 63, 63, 1)\n",
    "x_test = np.array(x_test).reshape(len(x_test), 63, 63, 1)\n",
    "y_train = to_categorical(np.array(y_train))\n",
    "y_test = to_categorical(np.array(y_test))"
   ]
  },
  {
   "cell_type": "code",
   "execution_count": null,
   "metadata": {},
   "outputs": [],
   "source": [
    "batch_size = int(len(gest_lab) / 2)\n",
    "epochs = 200\n",
    "\n",
    "history = model_snf.fit(x_train, y_train,\n",
    "                        batch_size=batch_size,\n",
    "                        epochs=epochs,\n",
    "                        validation_data=(x_test, y_test),\n",
    "                        shuffle=True)"
   ]
  },
  {
   "cell_type": "code",
   "execution_count": null,
   "metadata": {},
   "outputs": [],
   "source": [
    "# Plot training & validation accuracy values\n",
    "plt.plot(history.history['accuracy'])\n",
    "plt.plot(history.history['val_accuracy'])\n",
    "plt.title('Model accuracy')\n",
    "plt.ylabel('Accuracy')\n",
    "plt.xlabel('Epoch')\n",
    "plt.legend(['Train', 'Test'], loc='upper left')\n",
    "plt.show()\n",
    "\n",
    "# Plot training & validation loss values\n",
    "plt.plot(history.history['loss'])\n",
    "plt.plot(history.history['val_loss'])\n",
    "plt.title('Model loss')\n",
    "plt.ylabel('Loss')\n",
    "plt.xlabel('Epoch')\n",
    "plt.legend(['Train', 'Test'], loc='upper left')\n",
    "plt.show()"
   ]
  },
  {
   "cell_type": "markdown",
   "metadata": {},
   "source": [
    "Got into 32% around 200 epochs"
   ]
  },
  {
   "cell_type": "code",
   "execution_count": null,
   "metadata": {},
   "outputs": [],
   "source": [
    "history.history[\"val_accuracy\"]"
   ]
  },
  {
   "cell_type": "code",
   "execution_count": null,
   "metadata": {},
   "outputs": [],
   "source": []
  }
 ],
 "metadata": {
  "kernelspec": {
   "display_name": "Python 3",
   "language": "python",
   "name": "python3"
  },
  "language_info": {
   "codemirror_mode": {
    "name": "ipython",
    "version": 3
   },
   "file_extension": ".py",
   "mimetype": "text/x-python",
   "name": "python",
   "nbconvert_exporter": "python",
   "pygments_lexer": "ipython3",
   "version": "3.6.9"
  }
 },
 "nbformat": 4,
 "nbformat_minor": 2
}
