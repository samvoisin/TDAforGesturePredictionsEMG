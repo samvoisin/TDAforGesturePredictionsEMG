{
 "cells": [
  {
   "cell_type": "code",
   "execution_count": 1,
   "metadata": {},
   "outputs": [],
   "source": [
    "import numpy as np\n",
    "\n",
    "from data_cube import DataCube\n",
    "from ssm import SSM\n",
    "\n",
    "import matplotlib.pyplot as plt"
   ]
  },
  {
   "cell_type": "code",
   "execution_count": null,
   "metadata": {},
   "outputs": [],
   "source": [
    "### RMS SMOOTHING ###\n",
    "def rms_smooth(series, N, ss):\n",
    "    \"\"\"\n",
    "    series - time series (numpy array of dim 2 including time index as first col)\n",
    "    N - number of samples in time window\n",
    "    ss - step size\n",
    "    \"\"\"\n",
    "    n_slides = (series[:, 1].size - (N - ss)) / ss # number of window slides\n",
    "    res_sz = int(n_slides) # truncate number of slides for resulting vector size\n",
    "    V = np.zeros(res_sz * 2).reshape(-1, 2)\n",
    "    s = 0 # window start\n",
    "    e = s + N # window end\n",
    "    for n, i in enumerate(V):\n",
    "        V[n, 0] = series[e, 0]\n",
    "        V[n, 1] = (sum(series[s:e, 1]**2)/N)**(0.5)\n",
    "        s += ss\n",
    "        e += ss\n",
    "    \n",
    "    return V"
   ]
  },
  {
   "cell_type": "markdown",
   "metadata": {},
   "source": [
    "---"
   ]
  },
  {
   "cell_type": "code",
   "execution_count": 2,
   "metadata": {},
   "outputs": [],
   "source": [
    "dc = DataCube(\n",
    "    subjects=[\"10\",\"20\"],\n",
    "    gestures=[\"1\", \"2\", \"3\", \"4\"],\n",
    "    data_grp=\"subsample\"\n",
    ")\n",
    "dc.load_data()"
   ]
  },
  {
   "cell_type": "code",
   "execution_count": 4,
   "metadata": {},
   "outputs": [
    {
     "ename": "IndexError",
     "evalue": "index 200 is out of bounds for axis 0 with size 200",
     "output_type": "error",
     "traceback": [
      "\u001b[0;31m---------------------------------------------------------------------------\u001b[0m",
      "\u001b[0;31mIndexError\u001b[0m                                Traceback (most recent call last)",
      "\u001b[0;32m<ipython-input-4-3905ff64ddd8>\u001b[0m in \u001b[0;36m<module>\u001b[0;34m\u001b[0m\n\u001b[0;32m----> 1\u001b[0;31m \u001b[0mdc\u001b[0m\u001b[0;34m.\u001b[0m\u001b[0mrms_smooth\u001b[0m\u001b[0;34m(\u001b[0m\u001b[0;36m20\u001b[0m\u001b[0;34m,\u001b[0m \u001b[0;36m5\u001b[0m\u001b[0;34m)\u001b[0m\u001b[0;34m\u001b[0m\u001b[0;34m\u001b[0m\u001b[0m\n\u001b[0m",
      "\u001b[0;32m~/DukeUniv/MATH713_Topological_Data_Analysis/TDAforGesturePredictionsEMG/data_cube.py\u001b[0m in \u001b[0;36mrms_smooth\u001b[0;34m(self, N, stp)\u001b[0m\n\u001b[1;32m    124\u001b[0m                 \u001b[0me\u001b[0m \u001b[0;34m=\u001b[0m \u001b[0mN\u001b[0m \u001b[0;31m# window end\u001b[0m\u001b[0;34m\u001b[0m\u001b[0;34m\u001b[0m\u001b[0m\n\u001b[1;32m    125\u001b[0m                 \u001b[0;32mfor\u001b[0m \u001b[0mn\u001b[0m\u001b[0;34m,\u001b[0m \u001b[0mv\u001b[0m \u001b[0;32min\u001b[0m \u001b[0menumerate\u001b[0m\u001b[0;34m(\u001b[0m\u001b[0mres\u001b[0m\u001b[0;34m)\u001b[0m\u001b[0;34m:\u001b[0m\u001b[0;34m\u001b[0m\u001b[0;34m\u001b[0m\u001b[0m\n\u001b[0;32m--> 126\u001b[0;31m                     \u001b[0mv\u001b[0m\u001b[0;34m[\u001b[0m\u001b[0;36m0\u001b[0m\u001b[0;34m]\u001b[0m \u001b[0;34m=\u001b[0m \u001b[0ma\u001b[0m\u001b[0;34m[\u001b[0m\u001b[0me\u001b[0m\u001b[0;34m,\u001b[0m \u001b[0;36m0\u001b[0m\u001b[0;34m]\u001b[0m\u001b[0;34m\u001b[0m\u001b[0;34m\u001b[0m\u001b[0m\n\u001b[0m\u001b[1;32m    127\u001b[0m                     \u001b[0mv\u001b[0m\u001b[0;34m[\u001b[0m\u001b[0;36m1\u001b[0m\u001b[0;34m:\u001b[0m\u001b[0;34m]\u001b[0m \u001b[0;34m=\u001b[0m \u001b[0mnp\u001b[0m\u001b[0;34m.\u001b[0m\u001b[0mapply_along_axis\u001b[0m\u001b[0;34m(\u001b[0m\u001b[0mroot_mean_sq\u001b[0m\u001b[0;34m,\u001b[0m \u001b[0;36m0\u001b[0m\u001b[0;34m,\u001b[0m \u001b[0ma\u001b[0m\u001b[0;34m[\u001b[0m\u001b[0ms\u001b[0m\u001b[0;34m:\u001b[0m\u001b[0me\u001b[0m\u001b[0;34m,\u001b[0m \u001b[0;36m1\u001b[0m\u001b[0;34m:\u001b[0m\u001b[0;34m]\u001b[0m\u001b[0;34m)\u001b[0m\u001b[0;34m\u001b[0m\u001b[0;34m\u001b[0m\u001b[0m\n\u001b[1;32m    128\u001b[0m                     \u001b[0ms\u001b[0m \u001b[0;34m+=\u001b[0m \u001b[0mstp\u001b[0m\u001b[0;34m\u001b[0m\u001b[0;34m\u001b[0m\u001b[0m\n",
      "\u001b[0;31mIndexError\u001b[0m: index 200 is out of bounds for axis 0 with size 200"
     ]
    }
   ],
   "source": [
    "dc.rms_smooth(20, 5)"
   ]
  },
  {
   "cell_type": "code",
   "execution_count": null,
   "metadata": {},
   "outputs": [],
   "source": [
    "tbs1 = dc.data_set[\"10\"][\"1_0_1\"][:, 0:2]\n",
    "#tbs1 = dc.data_set[\"10\"][\"1_0_1\"][:, 0:2]"
   ]
  },
  {
   "cell_type": "code",
   "execution_count": null,
   "metadata": {},
   "outputs": [],
   "source": [
    "tbs1.shape"
   ]
  },
  {
   "cell_type": "code",
   "execution_count": null,
   "metadata": {},
   "outputs": [],
   "source": [
    "smt1 = rms_smooth(tbs1, 20, 5)"
   ]
  },
  {
   "cell_type": "code",
   "execution_count": null,
   "metadata": {},
   "outputs": [],
   "source": [
    "#plt.figure()\n",
    "plt.subplot(211)\n",
    "plt.plot(tbs1[:,0], tbs1[:,1])\n",
    "plt.subplot(212)\n",
    "plt.plot(smt1[:, 0], smt1[:, 1])\n",
    "plt.show()"
   ]
  },
  {
   "cell_type": "code",
   "execution_count": null,
   "metadata": {},
   "outputs": [],
   "source": [
    "ed = lambda i, j: (i-j)**2\n",
    "s1g102 = SSM(dc.data_set[\"10\"][\"1_0_1\"][:, :2], metric=ed) # exclude label col\n",
    "s1g102.normalize_SSM()\n",
    "s1g102.calc_SSM()"
   ]
  },
  {
   "cell_type": "code",
   "execution_count": null,
   "metadata": {},
   "outputs": [],
   "source": [
    "s1g102.plot_SSM(0)"
   ]
  },
  {
   "cell_type": "code",
   "execution_count": null,
   "metadata": {},
   "outputs": [],
   "source": [
    "# After RMS smoothing\n",
    "s1g102 = SSM(np.c_[smt1[:, 0], smt1[:, 1]], metric=ed) # exclude label col\n",
    "s1g102.normalize_SSM()\n",
    "s1g102.calc_SSM()\n",
    "s1g102.plot_SSM(0)"
   ]
  },
  {
   "cell_type": "markdown",
   "metadata": {},
   "source": [
    "---"
   ]
  },
  {
   "cell_type": "markdown",
   "metadata": {},
   "source": [
    "### TS Learn"
   ]
  },
  {
   "cell_type": "code",
   "execution_count": null,
   "metadata": {},
   "outputs": [],
   "source": [
    "import numpy\n",
    "import matplotlib.pyplot as plt\n",
    "\n",
    "from tslearn.generators import random_walks\n",
    "from tslearn.preprocessing import TimeSeriesScalerMeanVariance\n",
    "from tslearn import metrics"
   ]
  },
  {
   "cell_type": "code",
   "execution_count": null,
   "metadata": {},
   "outputs": [],
   "source": [
    "ts1  = dc.data_set[\"10\"][\"1_0_1\"][:, 0]\n",
    "ts1 = ts1.astype(np.int32)\n",
    "ts2 = dc.data_set[\"10\"][\"1_0_1\"][:, 0]\n",
    "ts2 = ts2.astype(np.int32)\n",
    "t1 = dc.data_set[\"10\"][\"1_0_1\"][:, 1]\n",
    "t2 = dc.data_set[\"10\"][\"1_0_1\"][:, 2]"
   ]
  },
  {
   "cell_type": "code",
   "execution_count": null,
   "metadata": {},
   "outputs": [],
   "source": [
    "#plt.figure()\n",
    "plt.subplot(211)\n",
    "plt.plot(ts1, t1)\n",
    "plt.subplot(212)\n",
    "plt.plot(ts2, t2)\n",
    "plt.show()"
   ]
  },
  {
   "cell_type": "code",
   "execution_count": null,
   "metadata": {},
   "outputs": [],
   "source": [
    "numpy.random.seed(0)\n",
    "n_ts, sz, d = 2, 100, 1\n",
    "dataset = random_walks(n_ts=n_ts, sz=sz, d=d)\n",
    "\n",
    "scaler = TimeSeriesScalerMeanVariance(mu=0., std=1.)  # Rescale time series\n",
    "dataset_scaled = scaler.fit_transform(dataset)\n",
    "\n",
    "path, sim = metrics.dtw_path(t1, t2)"
   ]
  },
  {
   "cell_type": "code",
   "execution_count": null,
   "metadata": {},
   "outputs": [],
   "source": [
    "matrix_path = numpy.zeros((ts1.size, ts2.size), dtype=numpy.int)\n",
    "for i, j in path:\n",
    "    matrix_path[i, j] = 1"
   ]
  },
  {
   "cell_type": "code",
   "execution_count": null,
   "metadata": {},
   "outputs": [],
   "source": [
    "plt.imshow(matrix_path)\n",
    "plt.show"
   ]
  },
  {
   "cell_type": "code",
   "execution_count": null,
   "metadata": {},
   "outputs": [],
   "source": [
    "plt.figure()\n",
    "\n",
    "plt.subplot2grid((1, 3), (0, 0), colspan=2)\n",
    "plt.plot(ts1, t1)\n",
    "plt.plot(ts2, t2)\n",
    "#plt.subplot(1, 3, 3)\n",
    "#plt.imshow(matrix_path, cmap=\"gray_r\")\n",
    "\n",
    "plt.tight_layout()\n",
    "plt.show()"
   ]
  },
  {
   "cell_type": "code",
   "execution_count": null,
   "metadata": {},
   "outputs": [],
   "source": [
    "sim"
   ]
  },
  {
   "cell_type": "code",
   "execution_count": null,
   "metadata": {},
   "outputs": [],
   "source": []
  }
 ],
 "metadata": {
  "kernelspec": {
   "display_name": "Python 3",
   "language": "python",
   "name": "python3"
  },
  "language_info": {
   "codemirror_mode": {
    "name": "ipython",
    "version": 3
   },
   "file_extension": ".py",
   "mimetype": "text/x-python",
   "name": "python",
   "nbconvert_exporter": "python",
   "pygments_lexer": "ipython3",
   "version": "3.7.2"
  }
 },
 "nbformat": 4,
 "nbformat_minor": 2
}
