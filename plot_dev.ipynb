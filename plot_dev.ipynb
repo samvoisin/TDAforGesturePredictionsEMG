{
 "cells": [
  {
   "cell_type": "code",
   "execution_count": 6,
   "metadata": {},
   "outputs": [],
   "source": [
    "# import custom functions\n",
    "from load_data import load_data\n",
    "\n",
    "import numpy as np\n",
    "import matplotlib.pyplot as plt"
   ]
  },
  {
   "cell_type": "code",
   "execution_count": 220,
   "metadata": {},
   "outputs": [],
   "source": [
    "def plot_gests(subj, g, signals=range(1,9), save=False, path=None):\n",
    "    \"\"\"\n",
    "    create plots of data for a given subject (subj) - dictionary\n",
    "    and gesture (g) - array in subject dict (e.g. (3_0, 3_1, 6_1. etc.))\n",
    "    signals - specify which signals; default is all\n",
    "    save gestures to file path tbd\n",
    "    \"\"\"\n",
    "    # fix list of available colors\n",
    "    colors = ('blue','green','crimson',\n",
    "              'purple', 'black', 'orange',\n",
    "              'firebrick', 'gold','forestgreen')\n",
    "    \n",
    "    ### single plot code ###\n",
    "    \n",
    "    # if one signal specified no subplots necessary\n",
    "    if type(signals) == int or len(signals) == 1:\n",
    "        plt.plot(subj[g][:, 0], subj[g][:, signals])\n",
    "        return\n",
    "    \n",
    "    ### subplots code ###\n",
    "    \n",
    "    n_sig = len(signals)\n",
    "    \n",
    "    # 4 or fewer signals needs 1 col only\n",
    "    if n_sig <= 4:\n",
    "        fig, ax = plt.subplots(ncols=1, nrows=n_sig, sharex=True)\n",
    "        clr = 0 # color and signal selector\n",
    "        for n, i in enumerate(signals):\n",
    "            ax[n].plot(subj[g][:, 0], subj[g][:, i], color = colors[clr])\n",
    "            clr += 1\n",
    "            if clr == n_sig: return\n",
    "    \n",
    "    n_sbplts = n_sig\n",
    "    if n_sbplts%2 != 0: n_sbplts += 1\n",
    "    # number of rows of subplots; mod handles odds\n",
    "    n_r = n_sbplts//2\n",
    "    n_c = 2 # always 2 cols\n",
    "    \n",
    "    fig, ax = plt.subplots(ncols=n_c, nrows=n_r, sharex=True)\n",
    "    \n",
    "    clr = 0\n",
    "    for i in range(n_r):\n",
    "        for j in range(n_c):\n",
    "            ax[i, j].plot(subj[g][:, 0], subj[g][:, signals[clr]], color = colors[clr])\n",
    "            clr += 1\n",
    "            if clr >= n_sig: return"
   ]
  },
  {
   "cell_type": "code",
   "execution_count": null,
   "metadata": {},
   "outputs": [],
   "source": []
  }
 ],
 "metadata": {
  "kernelspec": {
   "display_name": "Python 3",
   "language": "python",
   "name": "python3"
  },
  "language_info": {
   "codemirror_mode": {
    "name": "ipython",
    "version": 3
   },
   "file_extension": ".py",
   "mimetype": "text/x-python",
   "name": "python",
   "nbconvert_exporter": "python",
   "pygments_lexer": "ipython3",
   "version": "3.6.8"
  }
 },
 "nbformat": 4,
 "nbformat_minor": 2
}
