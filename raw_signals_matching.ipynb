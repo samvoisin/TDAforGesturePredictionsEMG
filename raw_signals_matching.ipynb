{
 "cells": [
  {
   "cell_type": "code",
   "execution_count": 1,
   "metadata": {},
   "outputs": [],
   "source": [
    "import numpy as np\n",
    "from numpy import linalg as la\n",
    "import matplotlib.pyplot as plt\n",
    "from sklearn.preprocessing import scale\n",
    "\n",
    "from data_cube import DataCube"
   ]
  },
  {
   "cell_type": "code",
   "execution_count": 2,
   "metadata": {},
   "outputs": [],
   "source": [
    "from tslearn.metrics import dtw, dtw_path"
   ]
  },
  {
   "cell_type": "code",
   "execution_count": 3,
   "metadata": {},
   "outputs": [],
   "source": [
    "dc = DataCube(\n",
    "    subjects=\"all\",\n",
    "    gestures=[\"3\", \"4\", \"5\", \"6\"],\n",
    "    channels=[\"2\", \"4\", \"6\", \"8\"],\n",
    "    data_grp=\"parsed\"\n",
    ")\n",
    "dc.load_data()\n",
    "dc.rms_smooth(300, 20)\n",
    "dc.normalize_modalities(smooth=True)"
   ]
  },
  {
   "cell_type": "markdown",
   "metadata": {},
   "source": [
    "---"
   ]
  },
  {
   "cell_type": "code",
   "execution_count": null,
   "metadata": {},
   "outputs": [],
   "source": [
    "subj_lab = []\n",
    "gest_lab = []\n",
    "arrays = []\n",
    "\n",
    "for chan in [1,2,3,4]:\n",
    "    # get arrays of only one channel\n",
    "    for s, gdict in dc.data_set_smooth.items():\n",
    "        for g, a in gdict.items():\n",
    "            subj_lab.append(s)\n",
    "            gest_lab.append(int(g[0]))\n",
    "            arrays.append(a[:, chan])\n",
    "\n",
    "    # calculate dtw between all arrays and make predictions\n",
    "    predicts = []\n",
    "    for n, g1 in enumerate(arrays):\n",
    "        g1_dtws = []\n",
    "        for m, g2 in enumerate(arrays):\n",
    "            g1_dtws.append(dtw(g1, g2))\n",
    "        g1_dtws = np.array(g1_dtws)\n",
    "        pred_idx = np.argsort(g1_dtws)[1] # index of 2nd closest array by dtw; 1st closest is self\n",
    "        predicts.append(gest_lab[pred_idx])\n",
    "\n",
    "    acc = (sum(np.array(gest_lab) == np.array(predicts)) / len(gest_lab)) * 100\n",
    "    \n",
    "    print(f\"raw channel {chan} accuracy: {acc}%\")"
   ]
  },
  {
   "cell_type": "markdown",
   "metadata": {},
   "source": [
    "---"
   ]
  },
  {
   "cell_type": "markdown",
   "metadata": {},
   "source": [
    "Matching with bottleneck distance"
   ]
  },
  {
   "cell_type": "code",
   "execution_count": 17,
   "metadata": {},
   "outputs": [],
   "source": [
    "from ripser import ripser, Rips\n",
    "from persim import plot_diagrams, PersImage, bottleneck\n",
    "from TDA_helper_fcns import sublevel_set_time_series_dist"
   ]
  },
  {
   "cell_type": "code",
   "execution_count": null,
   "metadata": {},
   "outputs": [],
   "source": [
    "px = 20\n",
    "sd = 1"
   ]
  },
  {
   "cell_type": "code",
   "execution_count": null,
   "metadata": {},
   "outputs": [],
   "source": [
    "subj_lab = []\n",
    "gest_lab = []\n",
    "arrays = []\n",
    "\n",
    "for chan in [1,2,3,4]:\n",
    "    # get arrays of only one channel\n",
    "    for s, gdict in dc.data_set_smooth.items():\n",
    "        for g, a in gdict.items():\n",
    "            subj_lab.append(s)\n",
    "            gest_lab.append(int(g[0]))\n",
    "            arrays.append(a[:, chan])\n",
    "\n",
    "    # calculate bottleneck distance between all pds and make predictions\n",
    "    predicts = []\n",
    "    for n, g1 in enumerate(arrays):\n",
    "        rips = Rips(maxdim=0, verbose=False) # initialize rips complex\n",
    "        sls1 = sublevel_set_time_series_dist(g1)\n",
    "        dgm1 = rips.fit_transform(sls1, distance_matrix=True)[0]\n",
    "        g1_bottlenecks = []\n",
    "        for m, g2 in enumerate(arrays):\n",
    "            sls2 = sublevel_set_time_series_dist(g2)\n",
    "            dgm2 = rips.fit_transform(sls2, distance_matrix=True)[0]\n",
    "            distance_bottleneck, (matching, D) = bottleneck(dgm1, dgm2, matching=True)\n",
    "            g1_bottlenecks.append(distance_bottleneck)\n",
    "        g1_bottlenecks = np.array(g1_bottlenecks)\n",
    "        pred_idx = np.argsort(g1_bottlenecks)[1] # index of 2nd closest array by dtw; 1st closest is self\n",
    "        predicts.append(gest_lab[pred_idx])\n",
    "\n",
    "    acc = (sum(np.array(gest_lab) == np.array(predicts)) / len(gest_lab)) * 100\n",
    "    \n",
    "    print(f\"raw channel {chan} accuracy: {acc}%\")"
   ]
  },
  {
   "cell_type": "code",
   "execution_count": null,
   "metadata": {},
   "outputs": [],
   "source": []
  },
  {
   "cell_type": "code",
   "execution_count": null,
   "metadata": {},
   "outputs": [],
   "source": []
  },
  {
   "cell_type": "code",
   "execution_count": null,
   "metadata": {},
   "outputs": [],
   "source": []
  },
  {
   "cell_type": "code",
   "execution_count": 4,
   "metadata": {},
   "outputs": [],
   "source": [
    "s1 = dc.data_set_smooth[\"30\"][\"5_0_1\"][:,2]\n",
    "s2 = dc.data_set_smooth[\"01\"][\"4_0_1\"][:,2]\n",
    "s3 = dc.data_set_smooth[\"15\"][\"3_0_1\"][:,2]"
   ]
  },
  {
   "cell_type": "code",
   "execution_count": 5,
   "metadata": {},
   "outputs": [],
   "source": [
    "def euclidian_dist(i, j):\n",
    "    \"\"\"\n",
    "    euclidian distance for scalar values\n",
    "    \"\"\"\n",
    "    # abs equivalent to ((i-j)**2)**0.5 in scalar case\n",
    "    return abs(i-j)"
   ]
  },
  {
   "cell_type": "code",
   "execution_count": 6,
   "metadata": {},
   "outputs": [],
   "source": [
    "def cumulated_ts(i, j, metric):\n",
    "    \"\"\"\n",
    "    cumulated version of the time series in which\n",
    "    we take the sum values over time as time increases\n",
    "    and then apply the chosen metric.\n",
    "    i, j - arrays of data points\n",
    "    \"\"\"\n",
    "    \n",
    "    return metric(i.sum(), j.sum())"
   ]
  },
  {
   "cell_type": "code",
   "execution_count": 7,
   "metadata": {},
   "outputs": [],
   "source": [
    "def gaussian(i, j, metric, s=1):\n",
    "    \"\"\"\n",
    "    gaussian similarity kernel function\n",
    "    i, j - data points between which similarity is measured\n",
    "    metric - a metric\n",
    "    s - variance parameter\n",
    "    \"\"\"\n",
    "    return np.exp(-(metric(i,j)**2)/s)"
   ]
  },
  {
   "cell_type": "code",
   "execution_count": 12,
   "metadata": {},
   "outputs": [
    {
     "data": {
      "image/png": "[encoded data removed]",
      "text/plain": [
       "<Figure size 432x288 with 1 Axes>"
      ]
     },
     "metadata": {
      "needs_background": "light"
     },
     "output_type": "display_data"
    }
   ],
   "source": [
    "plt.plot(range(s1.size), s1)\n",
    "plt.show()"
   ]
  },
  {
   "cell_type": "code",
   "execution_count": 39,
   "metadata": {},
   "outputs": [],
   "source": [
    "M = np.zeros(shape=(s1.size, s1.size))\n",
    "\n",
    "for n,i in enumerate(s1):\n",
    "    for m,j in enumerate(s1):\n",
    "        M[n,m] = np.exp(-cumulated_ts(s1[:n].sum(), s1[:m].sum(), euclidian_dist)**2)"
   ]
  },
  {
   "cell_type": "code",
   "execution_count": 45,
   "metadata": {},
   "outputs": [
    {
     "data": {
      "image/png": "[encoded data removed]",
      "text/plain": [
       "<Figure size 640x480 with 1 Axes>"
      ]
     },
     "metadata": {},
     "output_type": "display_data"
    }
   ],
   "source": [
    "plt.imshow(M)\n",
    "plt.show()"
   ]
  },
  {
   "cell_type": "code",
   "execution_count": 44,
   "metadata": {},
   "outputs": [],
   "source": [
    "M -= M.mean()\n",
    "M /= M.std()"
   ]
  },
  {
   "cell_type": "code",
   "execution_count": 46,
   "metadata": {},
   "outputs": [],
   "source": [
    "from persim import plot_diagrams\n",
    "from ripser import ripser, lower_star_img"
   ]
  },
  {
   "cell_type": "code",
   "execution_count": 47,
   "metadata": {},
   "outputs": [
    {
     "name": "stderr",
     "output_type": "stream",
     "text": [
      "/home/svois/anaconda3/lib/python3.6/site-packages/ripser/ripser.py:342: RuntimeWarning: invalid value encountered in maximum\n",
      "  thisD = np.maximum(thisD, tD)\n"
     ]
    }
   ],
   "source": [
    "dgm = lower_star_img(M)"
   ]
  },
  {
   "cell_type": "code",
   "execution_count": 49,
   "metadata": {},
   "outputs": [
    {
     "data": {
      "text/plain": [
       "array([[-0.39059436, -0.3626115 ],\n",
       "       [-0.39059436, -0.15907744],\n",
       "       [-0.39059436,  0.15238403],\n",
       "       [-0.37062848,  2.2956028 ],\n",
       "       [-0.37062848,  2.2956028 ],\n",
       "       [-0.39059436,         inf]])"
      ]
     },
     "execution_count": 49,
     "metadata": {},
     "output_type": "execute_result"
    }
   ],
   "source": [
    "dgm"
   ]
  },
  {
   "cell_type": "code",
   "execution_count": 48,
   "metadata": {},
   "outputs": [
    {
     "data": {
      "image/png": "[encoded data removed]",
      "text/plain": [
       "<Figure size 640x480 with 1 Axes>"
      ]
     },
     "metadata": {},
     "output_type": "display_data"
    }
   ],
   "source": [
    "plot_diagrams(dgm)"
   ]
  },
  {
   "cell_type": "code",
   "execution_count": 34,
   "metadata": {},
   "outputs": [
    {
     "data": {
      "text/plain": [
       "2.9030693151624587"
      ]
     },
     "execution_count": 34,
     "metadata": {},
     "output_type": "execute_result"
    }
   ],
   "source": [
    "M.max()"
   ]
  },
  {
   "cell_type": "code",
   "execution_count": null,
   "metadata": {},
   "outputs": [],
   "source": []
  }
 ],
 "metadata": {
  "kernelspec": {
   "display_name": "Python 3",
   "language": "python",
   "name": "python3"
  },
  "language_info": {
   "codemirror_mode": {
    "name": "ipython",
    "version": 3
   },
   "file_extension": ".py",
   "mimetype": "text/x-python",
   "name": "python",
   "nbconvert_exporter": "python",
   "pygments_lexer": "ipython3",
   "version": "3.6.8"
  }
 },
 "nbformat": 4,
 "nbformat_minor": 2
}
