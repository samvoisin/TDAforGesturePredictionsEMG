{
 "cells": [
  {
   "cell_type": "code",
   "execution_count": 1,
   "metadata": {},
   "outputs": [],
   "source": [
    "import os\n",
    "import pandas as pd"
   ]
  },
  {
   "cell_type": "code",
   "execution_count": 2,
   "metadata": {},
   "outputs": [],
   "source": [
    "### still going to need to make new dir for copies ###\n",
    "\n",
    "data_dir = \"./Data/EMG_data_for_gestures-master/\"\n",
    "subj_nums = os.listdir(data_dir)\n",
    "subj_data = {n : os.listdir(data_dir + n) for n in subj_nums}"
   ]
  },
  {
   "cell_type": "code",
   "execution_count": 3,
   "metadata": {},
   "outputs": [
    {
     "name": "stdout",
     "output_type": "stream",
     "text": [
      "['2_raw_data_09-50_21.03.16.txt', '1_raw_data_09-49_21.03.16.txt']\n",
      "['1_raw_data_10-38_11.04.16.txt', '2_raw_data_10-40_11.04.16.txt']\n",
      "['2_raw_data_12-43_23.03.16.txt', '1_raw_data_12-41_23.03.16.txt']\n",
      "['2_raw_data_09-34_11.04.16.txt', '1_raw_data_09-32_11.04.16.txt']\n",
      "['1_raw_data_10-28_30.03.16.txt', '2_raw_data_10-29_30.03.16.txt']\n",
      "['1_raw_data_20-28_24.04.16.txt', '2_raw_data_20-30_24.04.16.txt']\n",
      "['2_raw_data_11-20_23.03.16.txt', '1_raw_data_11-19_23.03.16.txt']\n",
      "['2_raw_data_13-13_22.03.16.txt', '1_raw_data_13-12_22.03.16.txt']\n",
      "['2_raw_data_12-14_25.04.16.txt', '1_raw_data_12-12_25.04.16.txt']\n",
      "['2_raw_data_10-23_29.03.16.txt', '1_raw_data_10-22_29.03.16.txt']\n",
      "['2_raw_data_12-06_27.04.16.txt', '1_raw_data_12-04_27.04.16.txt']\n",
      "['2_raw_data_18-03_24.04.16.txt', '1_raw_data_18-02_24.04.16.txt']\n",
      "['2_raw_data_12-16_23.03.16.txt', '1_raw_data_12-14_23.03.16.txt']\n",
      "['2_raw_data_12-20_06.04.16.txt', '1_raw_data_12-19_06.04.16.txt']\n",
      "['1_raw_data_09-50_15.04.16.txt', '2_raw_data_09-51_15.04.16.txt']\n",
      "['2_raw_data_13-19_05.04.16.txt', '1_raw_data_13-18_05.04.16.txt']\n",
      "['2_raw_data_14-53_24.04.16.txt', '1_raw_data_14-51_24.04.16.txt']\n",
      "['1_raw_data_12-35_21.03.16.txt', '2_raw_data_12-37_21.03.16.txt']\n",
      "['2_raw_data_10-18_15.04.16.txt', '1_raw_data_10-17_15.04.16.txt']\n",
      "['2_raw_data_08-51_13.04.16.txt', '1_raw_data_08-49_13.04.16.txt']\n",
      "['2_raw_data_12-11_15.04.16.txt', '1_raw_data_12-10_15.04.16.txt']\n",
      "['2_raw_data_11-36_28.03.16.txt', '1_raw_data_11-35_28.03.16.txt']\n",
      "['1_raw_data_12-10_26.04.16.txt', '2_raw_data_12-11_26.04.16.txt']\n",
      "['2_raw_data_18-50_22.03.16.txt', '1_raw_data_18-48_22.03.16.txt']\n",
      "['2_raw_data_11-43_22.03.16.txt', '1_raw_data_11-41_22.03.16.txt']\n",
      "['1_raw_data_11-15_11.04.16.txt', '2_raw_data_11-16_11.04.16.txt']\n",
      "['1_raw_data_13-26_21.03.16.txt', '2_raw_data_13-29_21.03.16.txt']\n",
      "['2_raw_data_13-04_15.04.16.txt', '1_raw_data_13-03_15.04.16.txt']\n",
      "['2_raw_data_10-17_12.04.16.txt', '1_raw_data_10-16_12.04.16.txt']\n",
      "['1_raw_data_09-49_12.04.16.txt', '2_raw_data_09-50_12.04.16.txt']\n",
      "['2_raw_data_13-13_18.03.16.txt', '1_raw_data_13-11_18.03.16.txt']\n",
      "['1_raw_data_10-03_13.04.16.txt', '2_raw_data_10-05_13.04.16.txt']\n",
      "['2_raw_data_12-39_28.03.16.txt', '1_raw_data_12-37_28.03.16.txt']\n",
      "['1_raw_data_10-51_07.04.16.txt', '2_raw_data_10-53_07.04.16.txt']\n",
      "['1_raw_data_11-08_21.03.16.txt', '2_raw_data_11-10_21.03.16.txt']\n",
      "['1_raw_data_14-19_22.03.16.txt', '2_raw_data_14-21_22.03.16.txt']\n"
     ]
    }
   ],
   "source": [
    "for n in subj_nums:\n",
    "    print(os.listdir(data_dir + n + \"/\"))"
   ]
  },
  {
   "cell_type": "code",
   "execution_count": 4,
   "metadata": {},
   "outputs": [],
   "source": [
    "# looking at this subject\n",
    "tst_subj = \"03\""
   ]
  },
  {
   "cell_type": "code",
   "execution_count": 5,
   "metadata": {},
   "outputs": [],
   "source": [
    "tst_path_0 = data_dir + tst_subj + \"/\" + subj_data[tst_subj][0]\n",
    "tt0 = pd.read_table(tst_path_0)"
   ]
  },
  {
   "cell_type": "code",
   "execution_count": 6,
   "metadata": {},
   "outputs": [],
   "source": [
    "tst_path_1 = data_dir + tst_subj + \"/\" + subj_data[tst_subj][1]\n",
    "tt1 = pd.read_table(tst_path_1)"
   ]
  },
  {
   "cell_type": "code",
   "execution_count": 7,
   "metadata": {},
   "outputs": [
    {
     "data": {
      "text/plain": [
       "'./Data/EMG_data_for_gestures-master/03/1_raw_data_09-32_11.04.16.txt'"
      ]
     },
     "execution_count": 7,
     "metadata": {},
     "output_type": "execute_result"
    }
   ],
   "source": [
    "tst_path_1 # example path"
   ]
  },
  {
   "cell_type": "code",
   "execution_count": 8,
   "metadata": {},
   "outputs": [],
   "source": [
    "# rename \"time\" variable to \"time_ms\"\n",
    "# rename \"class\" variable to \"gesture\"\n",
    "colnames = list(tt0.columns)\n",
    "colnames[0] = \"time_ms\"\n",
    "colnames[-1] = \"gesture\"\n",
    "tt0.columns = colnames\n",
    "tt1.columns = colnames"
   ]
  },
  {
   "cell_type": "code",
   "execution_count": 10,
   "metadata": {},
   "outputs": [],
   "source": [
    "def mod_col_names(full_frame):\n",
    "    \"\"\"modify column names of full_frame prior to any other manipulation\"\"\"\n",
    "    # rename \"time\" variable to \"time_ms\"\n",
    "    # rename \"class\" variable to \"gesture\"\n",
    "    colnames = list(full_frame.columns)\n",
    "    colnames[0] = \"time_ms\"\n",
    "    colnames[-1] = \"gesture\"\n",
    "    full_frame.columns = colnames\n",
    "    return full_frame"
   ]
  },
  {
   "cell_type": "code",
   "execution_count": 11,
   "metadata": {},
   "outputs": [],
   "source": [
    "def find_break_pts(gesture, t = 1000):\n",
    "    \"\"\"find and return index for moments in data frame with > t ms between pt and next pt\"\"\"\n",
    "    nrow = gesture.shape[0]\n",
    "    brk_pts = [i-1 for i in range(2, nrow) if gesture.iloc[i].time_ms - gesture.iloc[i-1].time_ms > t]\n",
    "    return brk_pts"
   ]
  },
  {
   "cell_type": "code",
   "execution_count": 12,
   "metadata": {},
   "outputs": [],
   "source": [
    "def zero_time(seg_df):\n",
    "    \"\"\"take previously segmented DataFrame by gesture and set time_ms to start at 0\"\"\"\n",
    "    end_time = min(seg_df.time_ms)\n",
    "    seg_df.time_ms = seg_df.time_ms - end_time\n",
    "    return seg_df"
   ]
  },
  {
   "cell_type": "code",
   "execution_count": 13,
   "metadata": {},
   "outputs": [],
   "source": [
    "def gest_dict(filepath):\n",
    "    \"\"\"return dict where key is gesture # and value is indiv DataFrames for that gesture\"\"\"\n",
    "    df = pd.read_table(filepath)\n",
    "    df = mod_col_names(df)\n",
    "    gests = df.gesture.unique()\n",
    "    all_gst = dict()\n",
    "    # seperate gestures in file\n",
    "    for g in gests:\n",
    "        # split single gesture df into iterations of gesture g\n",
    "        brk_pts = find_break_pts(df[df.gesture == g])\n",
    "        gd = dict() # store sub-dfs created by breaks\n",
    "        trail = 0 \n",
    "        for n, b in enumerate(brk_pts):\n",
    "            if g == 0:\n",
    "                # treat gest == 0 seperately\n",
    "                # due to many cases btwn non-0 gests\n",
    "                gd[n] = df[df.gesture == 0].iloc[trail:b]\n",
    "                gd[n] = zero_time(gd[n])\n",
    "                train = b + 1\n",
    "            else:\n",
    "                # this will handle all other cases (gesture != 0)\n",
    "                gd[0] = zero_time(df[df.gesture == g].iloc[:b])\n",
    "                gd[1] = zero_time(df[df.gesture == g].iloc[b+1:])\n",
    "            all_gst[g] = gd\n",
    "    \n",
    "    return all_gst"
   ]
  },
  {
   "cell_type": "code",
   "execution_count": 17,
   "metadata": {},
   "outputs": [],
   "source": [
    "tst = gest_dict(tst_path_1)[6]"
   ]
  },
  {
   "cell_type": "code",
   "execution_count": null,
   "metadata": {},
   "outputs": [],
   "source": [
    "for j in subj_nums:\n",
    "    # get files 1 and 2 for subject j\n",
    "    fp0 = data_dir + j + \"/\" + subj_data[j][0]\n",
    "    fp1 = data_dir + j + \"/\" + subj_data[j][1]\n",
    "    gest_dict(fp0)"
   ]
  },
  {
   "cell_type": "code",
   "execution_count": null,
   "metadata": {},
   "outputs": [],
   "source": [
    "# check if residual movement from gesture persists to 0 range"
   ]
  }
 ],
 "metadata": {
  "kernelspec": {
   "display_name": "Python 3",
   "language": "python",
   "name": "python3"
  },
  "language_info": {
   "codemirror_mode": {
    "name": "ipython",
    "version": 3
   },
   "file_extension": ".py",
   "mimetype": "text/x-python",
   "name": "python",
   "nbconvert_exporter": "python",
   "pygments_lexer": "ipython3",
   "version": "3.6.8"
  }
 },
 "nbformat": 4,
 "nbformat_minor": 2
}
