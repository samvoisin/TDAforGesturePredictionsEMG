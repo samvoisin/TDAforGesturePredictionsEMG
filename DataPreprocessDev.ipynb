{
 "cells": [
  {
   "cell_type": "code",
   "execution_count": 1,
   "metadata": {},
   "outputs": [],
   "source": [
    "import os\n",
    "import numpy as np\n",
    "import pandas as pd"
   ]
  },
  {
   "cell_type": "code",
   "execution_count": 4,
   "metadata": {},
   "outputs": [],
   "source": [
    "### still going to need to make new dir for copies ###\n",
    "\n",
    "data_dir = \"./Data/EMG_data_for_gestures-master/\"\n",
    "subj_nums = os.listdir(data_dir)\n",
    "subj_data = {n : os.listdir(data_dir + n) for n in subj_nums}"
   ]
  },
  {
   "cell_type": "code",
   "execution_count": 16,
   "metadata": {},
   "outputs": [
    {
     "name": "stdout",
     "output_type": "stream",
     "text": [
      "['2_raw_data_09-34_11.04.16.txt', '1_raw_data_09-32_11.04.16.txt']\n",
      "['2_raw_data_18-03_24.04.16.txt', '1_raw_data_18-02_24.04.16.txt']\n",
      "['1_raw_data_12-04_27.04.16.txt', '2_raw_data_12-06_27.04.16.txt']\n",
      "['1_raw_data_10-03_13.04.16.txt', '2_raw_data_10-05_13.04.16.txt']\n",
      "['1_raw_data_10-51_07.04.16.txt', '2_raw_data_10-53_07.04.16.txt']\n",
      "['1_raw_data_09-49_12.04.16.txt', '2_raw_data_09-50_12.04.16.txt']\n",
      "['2_raw_data_10-29_30.03.16.txt', '1_raw_data_10-28_30.03.16.txt']\n",
      "['2_raw_data_14-21_22.03.16.txt', '1_raw_data_14-19_22.03.16.txt']\n",
      "['1_raw_data_11-41_22.03.16.txt', '2_raw_data_11-43_22.03.16.txt']\n",
      "['2_raw_data_12-37_21.03.16.txt', '1_raw_data_12-35_21.03.16.txt']\n",
      "['1_raw_data_12-19_06.04.16.txt', '2_raw_data_12-20_06.04.16.txt']\n",
      "['2_raw_data_13-13_18.03.16.txt', '1_raw_data_13-11_18.03.16.txt']\n",
      "['1_raw_data_10-17_15.04.16.txt', '2_raw_data_10-18_15.04.16.txt']\n",
      "['2_raw_data_12-14_25.04.16.txt', '1_raw_data_12-12_25.04.16.txt']\n",
      "['2_raw_data_12-11_15.04.16.txt', '1_raw_data_12-10_15.04.16.txt']\n",
      "['2_raw_data_11-20_23.03.16.txt', '1_raw_data_11-19_23.03.16.txt']\n",
      "['2_raw_data_11-10_21.03.16.txt', '1_raw_data_11-08_21.03.16.txt']\n",
      "['2_raw_data_12-11_26.04.16.txt', '1_raw_data_12-10_26.04.16.txt']\n",
      "['2_raw_data_10-23_29.03.16.txt', '1_raw_data_10-22_29.03.16.txt']\n",
      "['2_raw_data_20-30_24.04.16.txt', '1_raw_data_20-28_24.04.16.txt']\n",
      "['1_raw_data_18-48_22.03.16.txt', '2_raw_data_18-50_22.03.16.txt']\n",
      "['2_raw_data_13-04_15.04.16.txt', '1_raw_data_13-03_15.04.16.txt']\n",
      "['1_raw_data_12-41_23.03.16.txt', '2_raw_data_12-43_23.03.16.txt']\n",
      "['2_raw_data_11-16_11.04.16.txt', '1_raw_data_11-15_11.04.16.txt']\n",
      "['2_raw_data_09-50_21.03.16.txt', '1_raw_data_09-49_21.03.16.txt']\n",
      "['1_raw_data_12-14_23.03.16.txt', '2_raw_data_12-16_23.03.16.txt']\n",
      "['1_raw_data_13-12_22.03.16.txt', '2_raw_data_13-13_22.03.16.txt']\n",
      "['2_raw_data_10-40_11.04.16.txt', '1_raw_data_10-38_11.04.16.txt']\n",
      "['1_raw_data_10-16_12.04.16.txt', '2_raw_data_10-17_12.04.16.txt']\n",
      "['2_raw_data_13-19_05.04.16.txt', '1_raw_data_13-18_05.04.16.txt']\n",
      "['1_raw_data_08-49_13.04.16.txt', '2_raw_data_08-51_13.04.16.txt']\n",
      "['2_raw_data_11-36_28.03.16.txt', '1_raw_data_11-35_28.03.16.txt']\n",
      "['1_raw_data_13-26_21.03.16.txt', '2_raw_data_13-29_21.03.16.txt']\n",
      "['1_raw_data_09-50_15.04.16.txt', '2_raw_data_09-51_15.04.16.txt']\n",
      "['1_raw_data_12-37_28.03.16.txt', '2_raw_data_12-39_28.03.16.txt']\n",
      "['2_raw_data_14-53_24.04.16.txt', '1_raw_data_14-51_24.04.16.txt']\n"
     ]
    }
   ],
   "source": [
    "for n in subj_nums:\n",
    "    print(os.listdir(data_dir + n + \"/\"))"
   ]
  },
  {
   "cell_type": "code",
   "execution_count": 5,
   "metadata": {},
   "outputs": [],
   "source": [
    "# looking at this subject\n",
    "tst_subj = \"03\""
   ]
  },
  {
   "cell_type": "code",
   "execution_count": 6,
   "metadata": {},
   "outputs": [],
   "source": [
    "tst_path_0 = data_dir + tst_subj + \"/\" + subj_data[tst_subj][0]\n",
    "tt0 = pd.read_table(tst_path_0)"
   ]
  },
  {
   "cell_type": "code",
   "execution_count": 7,
   "metadata": {},
   "outputs": [],
   "source": [
    "tst_path_1 = data_dir + tst_subj + \"/\" + subj_data[tst_subj][1]\n",
    "tt1 = pd.read_table(tst_path_1)"
   ]
  },
  {
   "cell_type": "code",
   "execution_count": 10,
   "metadata": {},
   "outputs": [
    {
     "data": {
      "text/plain": [
       "'./Data/EMG_data_for_gestures-master/03/1_raw_data_09-32_11.04.16.txt'"
      ]
     },
     "execution_count": 10,
     "metadata": {},
     "output_type": "execute_result"
    }
   ],
   "source": [
    "tst_path_1"
   ]
  },
  {
   "cell_type": "code",
   "execution_count": 48,
   "metadata": {},
   "outputs": [],
   "source": [
    "# rename \"time\" variable to \"time_ms\"\n",
    "# rename \"class\" variable to \"gesture\"\n",
    "colnames = list(tt0.columns)\n",
    "colnames[0] = \"time_ms\"\n",
    "colnames[-1] = \"gesture\"\n",
    "tt0.columns = colnames\n",
    "tt1.columns = colnames"
   ]
  },
  {
   "cell_type": "code",
   "execution_count": 17,
   "metadata": {},
   "outputs": [],
   "source": [
    "# unique gestures in both files\n",
    "ug0 = tt0.gesture.unique()\n",
    "ug1 = tt1.gesture.unique()"
   ]
  },
  {
   "cell_type": "code",
   "execution_count": 70,
   "metadata": {},
   "outputs": [],
   "source": [
    "# find break point between 1st and 2nd iter of gesture 1\n",
    "nrow = tt0[tt0.gesture == ug0[1]].shape[0]\n",
    "for i in range(2, nrow):\n",
    "    if tt0[tt0.gesture == ug0[1]].iloc[i].time_ms - tt0[tt0.gesture == ug0[1]].iloc[i-1].time_ms > 1000:\n",
    "        brk_pt = i-1 # end of 1st iteration of gesture\n",
    "        continue"
   ]
  },
  {
   "cell_type": "code",
   "execution_count": 71,
   "metadata": {},
   "outputs": [
    {
     "data": {
      "text/plain": [
       "1545"
      ]
     },
     "execution_count": 71,
     "metadata": {},
     "output_type": "execute_result"
    }
   ],
   "source": [
    "brk_pt"
   ]
  },
  {
   "cell_type": "code",
   "execution_count": null,
   "metadata": {},
   "outputs": [],
   "source": [
    "# check if residual movement from gesture persists"
   ]
  }
 ],
 "metadata": {
  "kernelspec": {
   "display_name": "Python 3",
   "language": "python",
   "name": "python3"
  },
  "language_info": {
   "codemirror_mode": {
    "name": "ipython",
    "version": 3
   },
   "file_extension": ".py",
   "mimetype": "text/x-python",
   "name": "python",
   "nbconvert_exporter": "python",
   "pygments_lexer": "ipython3",
   "version": "3.7.2"
  }
 },
 "nbformat": 4,
 "nbformat_minor": 2
}
