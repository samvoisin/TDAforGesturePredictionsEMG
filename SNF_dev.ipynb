{
 "cells": [
  {
   "cell_type": "code",
   "execution_count": 1,
   "metadata": {},
   "outputs": [],
   "source": [
    "import numpy as np\n",
    "from scipy.spatial import distance_matrix"
   ]
  },
  {
   "cell_type": "code",
   "execution_count": 2,
   "metadata": {},
   "outputs": [],
   "source": [
    "from data_cube import DataCube"
   ]
  },
  {
   "cell_type": "code",
   "execution_count": 3,
   "metadata": {},
   "outputs": [],
   "source": [
    "dc = DataCube(subjects=[\"10\", \"20\"],\n",
    "              gestures=\"all\",\n",
    "              channels=\"all\",\n",
    "              data_grp=\"parsed\")\n",
    "dc.load_data()"
   ]
  },
  {
   "cell_type": "code",
   "execution_count": 6,
   "metadata": {},
   "outputs": [
    {
     "data": {
      "text/plain": [
       "(1763, 10)"
      ]
     },
     "execution_count": 6,
     "metadata": {},
     "output_type": "execute_result"
    }
   ],
   "source": [
    "dc.data_set[\"10\"][\"5_0_2\"].shape"
   ]
  },
  {
   "cell_type": "markdown",
   "metadata": {},
   "source": [
    "---"
   ]
  },
  {
   "cell_type": "code",
   "execution_count": null,
   "metadata": {},
   "outputs": [],
   "source": [
    "dc = DataCube(subjects=[\"10\", \"20\"],\n",
    "              gestures=\"all\",\n",
    "              channels=[\"2\", \"4\", \"5\", \"6\", \"8\"],\n",
    "              data_grp=\"master\")\n",
    "dc.load_data()"
   ]
  },
  {
   "cell_type": "code",
   "execution_count": null,
   "metadata": {},
   "outputs": [],
   "source": [
    "# Create SSMs\n",
    "\n",
    "class SSM:\n",
    "    \n",
    "    def __init__(self, time_series, metric):\n",
    "        \"\"\"\n",
    "        CURRENTLY SUPPORTS SCALARS\n",
    "        time series - (t x 1+m) numpy array where t is time series and 1+m is time index + number of modalities\n",
    "        metric - metric to be used in generating SSMS\n",
    "        \"\"\"\n",
    "        self.tidx = time_series[:, 0] # time index\n",
    "        self.mods = time_series[:, 1:] # modalities\n",
    "        self.metric = metric\n",
    "        self.n_obs = self.tidx.size # number of obs\n",
    "        self.n_mods = self.mods.shape[1] # number of modalitites\n",
    "        self.array_dict = np.zeros(shape=(self.n_mods, self.n_obs, self.n_obs),dtype=np.float64) # tensor\n",
    "        \n",
    "        \n",
    "    def calc_SSM(self):\n",
    "        \"\"\"\n",
    "        calculate SSM\n",
    "        \"\"\"\n",
    "        for m in range(self.n_mods): # loop over modalities\n",
    "            for i in range(self.n_obs): # loop over observations in m\n",
    "                for j in range(self.n_obs):\n",
    "                    if i < j: # fill lower triangle only\n",
    "                        self.array[m, i, j] = metric(self.mods[i, m], self.mods[j, m])\n",
    "            self.array[m, :, :] = self.array[m, :, :] + self.array[m, :, :].T\n",
    "                    \n",
    "        \n",
    "        \n",
    "        \n",
    "    \n",
    "\n"
   ]
  },
  {
   "cell_type": "code",
   "execution_count": null,
   "metadata": {},
   "outputs": [],
   "source": [
    "D = SSM(dc.data_set[\"10\"][\"1\"][:-1], lambda i,j:abs(i-j))\n",
    "D.calc_SSM()"
   ]
  },
  {
   "cell_type": "code",
   "execution_count": null,
   "metadata": {},
   "outputs": [],
   "source": []
  },
  {
   "cell_type": "code",
   "execution_count": null,
   "metadata": {},
   "outputs": [],
   "source": []
  }
 ],
 "metadata": {
  "kernelspec": {
   "display_name": "Python 3",
   "language": "python",
   "name": "python3"
  },
  "language_info": {
   "codemirror_mode": {
    "name": "ipython",
    "version": 3
   },
   "file_extension": ".py",
   "mimetype": "text/x-python",
   "name": "python",
   "nbconvert_exporter": "python",
   "pygments_lexer": "ipython3",
   "version": "3.6.8"
  }
 },
 "nbformat": 4,
 "nbformat_minor": 2
}
